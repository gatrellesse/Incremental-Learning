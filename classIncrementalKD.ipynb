{
  "cells": [
    {
      "cell_type": "markdown",
      "metadata": {
        "id": "ZQjHV8nwSu0E"
      },
      "source": [
        "\n",
        "\n",
        "---\n",
        "\n",
        "\n",
        "# Class incremental learning on the GTSRB dataset\n",
        "\n",
        "\n",
        "\n",
        "---\n",
        "In this project, we explore the problem of catastrophic forgetting in incremental learning of traffic signs. When new classes are gradually added to the model, it tends to forget previous knowledge if it is not trained with appropriate mechanisms.  \n",
        "\n",
        "To guide our implementation, we primarily relied on the provided documentation, as well as several scientific articles and technical resources on incremental learning and knowledge consolidation methods in deep learning. These references helped us better understand the challenges of catastrophic forgetting and explore effective solutions to improve the model's performance.  \n",
        "\n",
        "Our experiments aim to compare different methods and evaluate their effectiveness in an incremental learning scenario.\n",
        "\n",
        "Groupe 13:\n",
        "- Gabriel Baptista Trellesse\n",
        "- Rodrigo Botelho Zuiani\n",
        "- Maria Fernanda Pereira Betim Paes Leme\n",
        "\n"
      ]
    },
    {
      "cell_type": "code",
      "execution_count": null,
      "metadata": {
        "id": "c6J4ap8k7k79"
      },
      "outputs": [],
      "source": [
        "####################################\n",
        "### Useful imports\n",
        "############################\n",
        "\n",
        "import torch\n",
        "import torch.nn as nn\n",
        "import torch.nn.init as init\n",
        "import torch.optim as optim\n",
        "import torch.nn.functional as F\n",
        "from torch.utils.data import DataLoader, ConcatDataset, Subset\n",
        "from torchvision.utils import make_grid\n",
        "from torchvision import transforms, datasets\n",
        "import torchvision.models as models\n",
        "from torchvision.transforms import v2\n",
        "import copy\n",
        "\n",
        "import numpy as np\n",
        "import random\n",
        "import time, os\n",
        "import matplotlib.pyplot as plt\n",
        "from PIL import Image\n",
        "from tqdm import tqdm\n",
        "import pandas as pd\n",
        "import math\n",
        "\n",
        "device = torch.device(\"cuda:0\" if torch.cuda.is_available() else \"cpu\")"
      ]
    },
    {
      "cell_type": "code",
      "execution_count": null,
      "metadata": {
        "id": "BdBUgULZ-75F"
      },
      "outputs": [],
      "source": [
        "# Useful if you want to store intermediate results on your drive\n",
        "from google.colab import drive\n",
        "\n",
        "#drive.mount('/content/gdrive/')\n",
        "#DATA_DIR =  '/content/gdrive/MyDrive/teaching/ENSTA/2024'\n"
      ]
    },
    {
      "cell_type": "code",
      "execution_count": null,
      "metadata": {
        "id": "mLLmoj5nhhli"
      },
      "outputs": [],
      "source": [
        "# Check if GPU is available\n",
        "if torch.cuda.is_available():\n",
        "  !nvidia-smi"
      ]
    },
    {
      "cell_type": "markdown",
      "metadata": {
        "id": "zdRoUYxVqicA"
      },
      "source": [
        "## Data loaders"
      ]
    },
    {
      "cell_type": "code",
      "execution_count": null,
      "metadata": {
        "id": "5yjcnoUN7xVJ"
      },
      "outputs": [],
      "source": [
        "# Define transformations\n",
        "transform_train = transforms.Compose([\n",
        "    transforms.RandomResizedCrop(32),\n",
        "    transforms.RandomHorizontalFlip(),\n",
        "    transforms.ToTensor(),\n",
        "    #transforms.Normalize((0.3403, 0.3121, 0.3214), (0.2724, 0.2608, 0.2669)) # GTSRB stats\n",
        "])\n",
        "\n",
        "transform_test = transforms.Compose([\n",
        "    transforms.Resize(32),\n",
        "    transforms.ToTensor(),\n",
        "    #transforms.Normalize((0.3403, 0.3121, 0.3214), (0.2724, 0.2608, 0.2669))\n",
        "])\n",
        "\n",
        "transform_train = v2.Compose([\n",
        "    #v2.Grayscale(),\n",
        "    #v2.RandomResizedCrop(32),\n",
        "    v2.Resize((32,32)),\n",
        "    v2.ToImage(),\n",
        "    v2.ToDtype(torch.float32, scale=True),\n",
        "    #v2.Normalize((0.3403, 0.3121, 0.3214), (0.2724, 0.2608, 0.2669)) # GTSRB stats\n",
        "])\n",
        "\n",
        "transform_test = v2.Compose([\n",
        "    #v2.Grayscale(),\n",
        "    v2.Resize((32,32)),\n",
        "    v2.ToImage(),\n",
        "    v2.ToDtype(torch.float32, scale=True),\n",
        "    #v2.Normalize((0.3403, 0.3121, 0.3214), (0.2724, 0.2608, 0.2669)) # GTSRB stats\n",
        "])\n",
        "\n",
        "# Define dataset and dataloader\n",
        "def get_dataset(root_dir, transform, train=True):\n",
        "    dataset = datasets.GTSRB(root=root_dir, split='train' if train else 'test', download=True, transform=transform)\n",
        "    target = [data[1] for data in dataset]\n",
        "    return dataset, target\n",
        "\n",
        "def create_dataloader(dataset, targets, current_classes, batch_size, shuffle):\n",
        "    indices = [i for i, label in enumerate(targets) if label in current_classes]\n",
        "    subset = Subset(dataset, indices)\n",
        "    dataloader = DataLoader(subset, batch_size=batch_size, shuffle=shuffle)\n",
        "    return dataloader\n"
      ]
    },
    {
      "cell_type": "code",
      "execution_count": null,
      "metadata": {
        "id": "KbdRiiin8q6n"
      },
      "outputs": [],
      "source": [
        "# Loads datasets (on your local computer)\n",
        "#root_dir = '/home/rodri/OneDrive/Documentos/ENSTA/2A/ML/Incremental-Learning/'\n",
        "\n",
        "# Loads datasets (on Colab local computer)\n",
        "root_dir = './data'\n",
        "\n",
        "train_dataset = datasets.GTSRB(root=root_dir, split='train', download=True, transform=transform_train)\n",
        "test_dataset = datasets.GTSRB(root=root_dir, split='test', download=True, transform=transform_test)\n",
        "\n",
        "print(f\"Train dataset contains {len(train_dataset)} images\")\n",
        "print(f\"Test dataset contains {len(test_dataset)} images\")\n",
        "\n",
        "# Loads target id lists (not in torchvision dataset)rm *.\n",
        "import csv\n",
        "! wget https://raw.githubusercontent.com/stepherbin/teaching/refs/heads/master/ENSTA/MI201/test_target.csv -O data/gtsrb/test_target.csv\n",
        "test_target=[]\n",
        "with open('data/gtsrb/test_target.csv') as f:\n",
        "    reader = csv.reader(f)\n",
        "    for row in reader:\n",
        "        test_target += [int(el) for el in row]\n",
        "\n",
        "! wget https://raw.githubusercontent.com/stepherbin/teaching/refs/heads/master/ENSTA/MI201/train_target.csv -O data/gtsrb/train_target.csv\n",
        "train_target=[]\n",
        "with open('data/gtsrb/train_target.csv') as f:\n",
        "    reader = csv.reader(f)\n",
        "    for row in reader:\n",
        "        train_target += [int(el) for el in row]\n",
        "\n",
        "# Loads class names (not in torchvision dataset)\n",
        "! wget https://raw.githubusercontent.com/stepherbin/teaching/refs/heads/master/ENSTA/MI201/signnames.csv -O data/gtsrb/signnames.csv\n",
        "classes = pd.read_csv('data/gtsrb/signnames.csv')\n",
        "class_names = []\n",
        "for i, row in classes.iterrows():\n",
        "    class_names.append(row[1])"
      ]
    },
    {
      "cell_type": "code",
      "execution_count": null,
      "metadata": {
        "id": "IIrmJhgmcL8u"
      },
      "outputs": [],
      "source": [
        "nclasses = len(np.unique(train_target))\n",
        "all_classes = list(range(nclasses))\n",
        "#random.shuffle(all_classes)\n",
        "classes_per_task = 8\n",
        "current_classes = []\n",
        "\n",
        "task = 0\n",
        "task_classes = all_classes[task * classes_per_task : (task + 1) * classes_per_task]\n",
        "current_classes.extend(task_classes)\n",
        "batch_size = 64\n",
        "\n",
        "# Create data for first task\n",
        "train_loader = create_dataloader(train_dataset, train_target, current_classes, batch_size, shuffle = True)\n",
        "test_loader = create_dataloader(train_dataset, train_target, current_classes, batch_size, shuffle = True)\n",
        "\n",
        "# Displays a few examples\n",
        "def show(img):\n",
        "    npimg = img.numpy()\n",
        "    plt.imshow(np.transpose(npimg, (1,2,0)), interpolation='nearest')\n",
        "\n",
        "sample,targets = next(iter(train_loader))\n",
        "show(make_grid(sample))\n",
        "plt.show()\n",
        "\n",
        "print(sample.shape)     ## 64 is the batch\n",
        "                        ## 1 for grey values --  3 for RGB\n",
        "                        ## 32x32 for mage size (small here)\n"
      ]
    },
    {
      "cell_type": "markdown",
      "metadata": {
        "id": "G9om6EjQqqVD"
      },
      "source": [
        "## Display of images"
      ]
    },
    {
      "cell_type": "code",
      "execution_count": null,
      "metadata": {
        "id": "RrkguKhbC4uo"
      },
      "outputs": [],
      "source": [
        "test_loader = create_dataloader(train_dataset, train_target, all_classes, batch_size, shuffle = True)\n",
        "\n",
        "# Get the data from the test set and computes statistics\n",
        "# gtsrbtest_gt = []\n",
        "# for _, targets in test_loader:\n",
        "#   gtsrbtest_gt += targets.numpy().tolist()\n",
        "# print(len(gtsrbtest_gt))\n",
        "\n",
        "from collections import Counter\n",
        "\n",
        "label_counts = Counter(test_target).most_common()\n",
        "for l, c in label_counts:\n",
        "    print(c, '\\t', l, '\\t', class_names[l])"
      ]
    },
    {
      "cell_type": "markdown",
      "metadata": {
        "id": "SPAkBgRiqyyf"
      },
      "source": [
        "## Simple networks"
      ]
    },
    {
      "cell_type": "code",
      "execution_count": null,
      "metadata": {
        "id": "0z2ycNRS-xnq"
      },
      "outputs": [],
      "source": [
        "# Define a simple CNN model\n",
        "class SimpleCNN(nn.Module):\n",
        "    def __init__(self,n_out=10, n_in=1):\n",
        "        super().__init__()\n",
        "\n",
        "        # Put the layers here\n",
        "        self.conv1 = nn.Conv2d(n_in, 32, kernel_size=5, padding=2)\n",
        "        self.conv2 = nn.Conv2d(32, 64, kernel_size=3, padding=1)\n",
        "        self.conv3 = nn.Conv2d(64, 64, kernel_size=3, padding=1)\n",
        "\n",
        "        self.fc = nn.Linear(4096, n_out)\n",
        "\n",
        "    def forward(self, x):\n",
        "        x = F.leaky_relu(self.conv1(x)) ## l'image 1x32x32 devient 32x32x32\n",
        "        x = F.max_pool2d(x, kernel_size=2, stride=2) ## puis 32x16x16\n",
        "        x = F.leaky_relu(self.conv2(x)) ## puis devient 64x16x16\n",
        "        x = F.max_pool2d(x, kernel_size=2, stride=2) ## puis devient 64x8x8\n",
        "        x = F.leaky_relu(self.conv3(x)) ## pas de changement\n",
        "\n",
        "        x = x.view(-1,4096) ## 64x8x8 devient 4096\n",
        "\n",
        "        x = self.fc(x) ## on finit exactement de la même façon\n",
        "\n",
        "        return x\n",
        "\n",
        "# Another simple model (compare them using torchinfo below)\n",
        "class SimpleCNN2(nn.Module):\n",
        "    def __init__(self, n_out=10, n_in=1):\n",
        "        super(SimpleCNN2, self).__init__()\n",
        "        self.conv1 = nn.Conv2d(n_in, 32, kernel_size=3, padding=1)\n",
        "        self.conv2 = nn.Conv2d(32, 64, kernel_size=3, padding=1)\n",
        "        self.fc1 = nn.Linear(64 * 8 * 8, 128)\n",
        "        self.fc = nn.Linear(128, n_out)\n",
        "        self.pool = nn.MaxPool2d(2, 2)\n",
        "        self.relu = nn.ReLU()\n",
        "\n",
        "    def forward(self, x):\n",
        "        x = self.pool(self.relu(self.conv1(x)))\n",
        "        x = self.pool(self.relu(self.conv2(x)))\n",
        "        x = x.view(-1, 64 * 8 * 8)  # Flatten the tensor\n",
        "        x = self.relu(self.fc1(x))\n",
        "        x = self.fc(x)\n",
        "        return x"
      ]
    },
    {
      "cell_type": "code",
      "execution_count": null,
      "metadata": {
        "id": "_gIfiLiF-vhv"
      },
      "outputs": [],
      "source": [
        "!pip install torchinfo\n",
        "from torchinfo import summary\n",
        "\n",
        "model = SimpleCNN2(n_out=10, n_in=3)\n",
        "model.to(device)\n",
        "print(summary(model, input_size=(batch_size, 3, 32, 32)))\n",
        "\n",
        "model = SimpleCNN(n_out=10, n_in=3)\n",
        "model.to(device)\n",
        "print(summary(model, input_size=(batch_size, 3, 32, 32)))\n",
        "\n",
        "#print(model)"
      ]
    },
    {
      "cell_type": "markdown",
      "metadata": {
        "id": "f04OhO2GkqzO"
      },
      "source": [
        "## Baseline for incremental learning"
      ]
    },
    {
      "cell_type": "code",
      "execution_count": null,
      "metadata": {
        "id": "WuVL2YbW4T_a"
      },
      "outputs": [],
      "source": [
        "from torch.optim import lr_scheduler\n",
        "import torch.nn.init as init\n",
        "\n",
        "# Evaluation\n",
        "def evaluate(model, test_loader, device):\n",
        "    model.eval()\n",
        "    correct = 0\n",
        "    total = 0\n",
        "    with torch.no_grad():\n",
        "        for images, labels in tqdm(test_loader, ncols=80):\n",
        "            images, labels = images.to(device), labels.to(device)\n",
        "            outputs = model(images)\n",
        "            _, predicted = torch.max(outputs.data, 1)\n",
        "            total += labels.size(0)\n",
        "            correct += (predicted == labels).sum().item()\n",
        "    return 100 * correct / total\n",
        "\n",
        "# Simple Training loop\n",
        "def train(model, train_loader, optimizer, criterion, device, epoch):\n",
        "    model.train()\n",
        "\n",
        "    for images, labels in tqdm(train_loader, ncols=80,  desc=\"Epoch {}\".format(epoch)):\n",
        "        images, labels = images.to(device), labels.to(device)\n",
        "        optimizer.zero_grad()\n",
        "        outputs = model(images)\n",
        "        loss = criterion(outputs, labels)\n",
        "        loss.backward()\n",
        "        optimizer.step()\n",
        "\n",
        "def initialize_weights(module):\n",
        "    \"\"\"Initializes the weights of a PyTorch module using Xavier/Glorot initialization.\"\"\"\n",
        "    if isinstance(module, (nn.Linear, nn.Conv2d, nn.ConvTranspose2d)):  # Check for relevant layers\n",
        "        init.xavier_uniform_(module.weight) #Xavier uniform initialization\n",
        "        if module.bias is not None:\n",
        "            init.zeros_(module.bias)  # Initialize bias to zero\n",
        "    elif isinstance(module, (nn.BatchNorm2d, nn.LayerNorm, nn.GroupNorm)): #Initialize normalization layers\n",
        "        if module.weight is not None:\n",
        "            init.ones_(module.weight)\n",
        "        if module.bias is not None:\n",
        "            init.zeros_(module.bias)\n",
        "\n",
        "\n",
        "# Main training loop for incremental learning\n",
        "def incremental_learning(model, train_dataset, train_target, test_dataset, test_target,\n",
        "                         num_tasks, classes_per_task, batch_size, num_epochs, lr, device):\n",
        "    nclasses = len(np.unique(train_target))\n",
        "    all_classes = list(range(nclasses))\n",
        "    criterion = nn.CrossEntropyLoss()\n",
        "    current_classes = []\n",
        "    accuracies = []\n",
        "\n",
        "    for task in range(num_tasks):\n",
        "        task_classes = all_classes[task * classes_per_task : (task + 1) * classes_per_task]\n",
        "        current_classes.extend(task_classes)\n",
        "\n",
        "        train_loader = create_dataloader(train_dataset, train_target, task_classes, batch_size, shuffle = True)\n",
        "        test_loader = create_dataloader(test_dataset, test_target, current_classes, batch_size, shuffle = False)\n",
        "\n",
        "        if task == 0:\n",
        "            model.fc = nn.Linear(model.fc.in_features, len(current_classes)).to(device)\n",
        "        else:\n",
        "            # Expand the output layer for new classes\n",
        "            old_weight = model.fc.weight.data\n",
        "            old_bias = model.fc.bias.data\n",
        "            model.fc = nn.Linear(model.fc.in_features, len(current_classes)).to(device)\n",
        "            model.fc.weight.data[:len(old_weight)] = old_weight\n",
        "            model.fc.bias.data[:len(old_bias)] = old_bias\n",
        "\n",
        "        optimizer = optim.SGD(model.parameters(), lr=lr, momentum=0.9, weight_decay=5e-4)\n",
        "        optimizer = torch.optim.Adam(model.parameters(), lr=lr)\n",
        "        scheduler = lr_scheduler.StepLR(optimizer, step_size=5, gamma=0.5)\n",
        "\n",
        "        print(f\"Starting Task {task+1} - Training on classes: {task_classes}\")\n",
        "        for epoch in range(num_epochs): # Adjust number of epochs as needed\n",
        "            train(model, train_loader, optimizer, criterion, device, epoch)\n",
        "            scheduler.step()\n",
        "            accuracy = evaluate(model, train_loader, device)\n",
        "            print(f\"Task {task+1}, Epoch {epoch+1}: Accuracy Train = {accuracy:.2f}%\")\n",
        "        accuracy = evaluate(model, test_loader, device)\n",
        "        accuracies.append(accuracy)\n",
        "        print(f\"Task {task+1}: Accuracy Test = {accuracy:.2f}%\")\n",
        "\n",
        "    return accuracies\n",
        "\n"
      ]
    },
    {
      "cell_type": "markdown",
      "metadata": {
        "id": "Uio21fDojgTD"
      },
      "source": [
        "## Weight & Biases\n",
        "\n",
        "You can use this environement to log your learning.\n",
        "\n",
        "The code below provides a version of the class incremental function that stores learning curves and the seauence of accuracies for each increment of classes.\n",
        "\n",
        "Tu use it, create an account at: https://wandb.ai/"
      ]
    },
    {
      "cell_type": "code",
      "execution_count": null,
      "metadata": {
        "id": "B98gHkBTHUbX"
      },
      "outputs": [],
      "source": [
        "###################################\n",
        "##### For using Weight & Biases\n",
        "###############\n",
        "\n",
        "!pip install wandb -qU\n",
        "\n",
        "import wandb\n",
        "\n",
        "wandb.login()\n"
      ]
    },
    {
      "cell_type": "code",
      "execution_count": null,
      "metadata": {
        "id": "AC_ixhkpOFZj"
      },
      "outputs": [],
      "source": [
        "import math\n",
        "# Simple Training loop\n",
        "def train_wandb(model, train_loader, optimizer, criterion, device, epoch):\n",
        "\n",
        "    step_ct = 0\n",
        "    n_steps_per_epoch = math.ceil(len(train_loader.dataset) / train_loader.batch_size)\n",
        "\n",
        "    model.train()\n",
        "\n",
        "    for step, (images, labels) in tqdm(enumerate(train_loader), ncols=80,  desc=\"Epoch {}\".format(epoch)):\n",
        "        images, labels = images.to(device), labels.to(device)\n",
        "        optimizer.zero_grad()\n",
        "        outputs = model(images)\n",
        "        loss = criterion(outputs, labels)\n",
        "        loss.backward()\n",
        "        optimizer.step()\n",
        "\n",
        "        metrics = {\"train/train_loss\": loss}\n",
        "        # metrics = {\"train/train_loss\": loss,\n",
        "        #             \"train/epoch\": (step + 1 + (n_steps_per_epoch * epoch)) / n_steps_per_epoch}\n",
        "\n",
        "        if step + 1 < n_steps_per_epoch:\n",
        "          # Log train metrics to wandb\n",
        "          wandb.log(metrics)\n",
        "        step_ct += 1\n",
        "\n",
        "\n",
        "# Main training loop for incremental learning\n",
        "def incremental_learning_wandb(model, train_dataset, train_target, test_dataset, test_target,\n",
        "                         num_tasks, classes_per_task, batch_size, num_epochs, lr, device, non_incremental = False):\n",
        "    nclasses = len(np.unique(train_target))\n",
        "    all_classes = list(range(nclasses))\n",
        "    criterion = nn.CrossEntropyLoss()\n",
        "    current_classes = []\n",
        "    accuracies = []\n",
        "\n",
        "    # Copy your config\n",
        "    config = wandb.config\n",
        "\n",
        "    wandb.define_metric(\"task\")\n",
        "    wandb.define_metric(\"incremental_accuracy\", step_metric=\"task\")\n",
        "\n",
        "    for task in range(num_tasks):\n",
        "        if non_incremental == True: # Learn from all available data\n",
        "          task_classes = all_classes[0 : (task + 1) * classes_per_task]\n",
        "          current_classes = task_classes\n",
        "          model.apply(initialize_weights)\n",
        "        else:\n",
        "          task_classes = all_classes[task * classes_per_task : (task + 1) * classes_per_task]\n",
        "          current_classes.extend(task_classes)\n",
        "\n",
        "        train_loader = create_dataloader(train_dataset, train_target, task_classes, batch_size, shuffle = True)\n",
        "        test_loader = create_dataloader(test_dataset, test_target, current_classes, batch_size, shuffle = False)\n",
        "\n",
        "        if task == 0 or non_incremental == True:\n",
        "            model.fc = nn.Linear(model.fc.in_features, len(current_classes)).to(device)\n",
        "        else:\n",
        "            # Expand the output layer for new classes\n",
        "            old_weight = model.fc.weight.data\n",
        "            old_bias = model.fc.bias.data\n",
        "            model.fc = nn.Linear(model.fc.in_features, len(current_classes)).to(device)\n",
        "            model.fc.weight.data[:len(old_weight)] = old_weight\n",
        "            model.fc.bias.data[:len(old_bias)] = old_bias\n",
        "\n",
        "        optimizer = optim.SGD(model.parameters(), lr=lr, momentum=0.9, weight_decay=5e-4)\n",
        "        optimizer = torch.optim.Adam(model.parameters(), lr=lr)\n",
        "        scheduler = lr_scheduler.StepLR(optimizer, step_size=5, gamma=0.5)\n",
        "\n",
        "        print(f\"Starting Task {task+1} - Training on classes: {task_classes}\")\n",
        "        for epoch in range(num_epochs): # Adjust number of epochs\n",
        "            #train(model, train_loader, optimizer, criterion, device, epoch)\n",
        "\n",
        "            # If logging training (but not incremental)\n",
        "            train_wandb(model, train_loader, optimizer, criterion, device, epoch)\n",
        "\n",
        "            scheduler.step()\n",
        "            accuracy = evaluate(model, train_loader, device)\n",
        "            print(f\"Task {task+1}, Epoch {epoch+1}: Accuracy Train = {accuracy:.2f}%\")\n",
        "\n",
        "            val_metrics = {\"val/val_accuracy\": accuracy}\n",
        "            #wandb.log({**val_metrics})\n",
        "\n",
        "        accuracy = evaluate(model, test_loader, device)\n",
        "        accuracies.append(accuracy)\n",
        "        print(f\"Task {task+1}: Accuracy Test = {accuracy:.2f}%\")\n",
        "\n",
        "        incremental_metrics = {\"incremental_accuracy\": accuracy, \"task\": task}\n",
        "        wandb.log({**incremental_metrics})\n",
        "\n",
        "        # Log train and validation metrics to wandb\n",
        "\n",
        "    return accuracies\n",
        "\n"
      ]
    },
    {
      "cell_type": "markdown",
      "metadata": {
        "id": "bAaNngOPM0Sq"
      },
      "source": [
        "## Pre-Training"
      ]
    },
    {
      "cell_type": "code",
      "execution_count": null,
      "metadata": {
        "colab": {
          "background_save": true
        },
        "id": "VgJ8qN2tNDLh"
      },
      "outputs": [],
      "source": [
        "# Hyperparameters\n",
        "root_dir = './data'  # Path to GTSRB dataset\n",
        "num_tasks = 5\n",
        "numclasses = len(np.unique(train_target))\n",
        "classes_per_task = numclasses // num_tasks #43/2 ~ 20\n",
        "batch_size = 64\n",
        "lr = 1e-3\n",
        "device = torch.device(\"cuda\" if torch.cuda.is_available() else \"cpu\")\n",
        "\n",
        "buffer_size = 200 # Adjust rehearsal set size\n",
        "alignment_strength = 0.1 # Adjust alignment strength\n",
        "num_epochs = 4\n",
        "\n",
        "#model = SimpleCNN(n_out = 1, n_in = 3).to(device)\n",
        "#model.apply(initialize_weights)\n",
        "\n",
        "# The name of the network (choose the on you want)\n",
        "tag = \"simpleCNN_GTSRB_pretrained\"\n",
        "netname = os.path.join(root_dir, 'network_{:s}.pth'.format(tag))\n",
        "\n",
        "#################################################\n",
        "## Pre-training\n",
        "####\n",
        "\n",
        "# Read the last learned network (if stored)\n",
        "if (os.path.exists(netname)):\n",
        "    print('Load pre-trained network')\n",
        "    model = SimpleCNN(n_in = 3, n_out=classes_per_task)\n",
        "    model.load_state_dict(torch.load(netname,weights_only=True))\n",
        "\n",
        "    #model = torch.load(netname, weights_only=True)\n",
        "    model = model.to(device)\n",
        "else:\n",
        "    print('Pretrain')\n",
        "    model = SimpleCNN(n_in = 3, n_out=1)\n",
        "    model.apply(initialize_weights)\n",
        "    model.to(device)\n",
        "\n",
        "    accu = incremental_learning(model, train_dataset, train_target, test_dataset, test_target,\n",
        "                        1, classes_per_task, batch_size, num_epochs, lr, device)\n",
        "\n",
        "    print(f\"!!!!! Pre-training on first task  = {accu[0]:.2f}%\")\n",
        "\n",
        "    # Save last learned model\n",
        "    #torch.save(model, netname)\n",
        "    torch.save(model.state_dict(), netname)\n",
        "\n",
        "## Copy model to have the same initialization\n",
        "copy_model = copy.deepcopy(model) # Copy model to start from the same initialization\n",
        "\n",
        "#### Learn with a single epoch in incremental (faster but less accurate)\n",
        "num_epochs = 1\n"
      ]
    },
    {
      "cell_type": "markdown",
      "metadata": {
        "id": "93lWmMn2Nnnw"
      },
      "source": [
        "## Fine tuning"
      ]
    },
    {
      "cell_type": "code",
      "execution_count": null,
      "metadata": {
        "colab": {
          "background_save": true
        },
        "id": "Tla2raJ7Nn_o"
      },
      "outputs": [],
      "source": [
        "#############################################\n",
        "## Fine tuning\n",
        "####\n",
        "# initialise a wandb run\n",
        "run = wandb.init(\n",
        "    project=\"GTSRB-CIL\",\n",
        "    name = \"Fine tuning\",\n",
        "    config={\n",
        "        \"epochs\": num_epochs,\n",
        "        \"batch_size\": batch_size,\n",
        "        \"num_tasks\": num_tasks,\n",
        "        \"classes_per_task\": classes_per_task,\n",
        "        \"lr\": lr,\n",
        "        })\n",
        "\n",
        "# Simple Incremental Fine Tuning\n",
        "model = copy.deepcopy(copy_model)\n",
        "incremental_learning_wandb(model, train_dataset, train_target, test_dataset, test_target,\n",
        "                      num_tasks, classes_per_task, batch_size, num_epochs, lr, device)\n",
        "wandb.finish()\n"
      ]
    },
    {
      "cell_type": "markdown",
      "metadata": {
        "id": "TfV4H_gQlJOg"
      },
      "source": [
        "## Upper bound"
      ]
    },
    {
      "cell_type": "code",
      "execution_count": null,
      "metadata": {
        "colab": {
          "background_save": true
        },
        "id": "xs4duQSA3LY8"
      },
      "outputs": [],
      "source": [
        "#################################################\n",
        "## Global upper bound (all data, all classes)\n",
        "####\n",
        "\n",
        "# One task + all classes computed using 5 epochs\n",
        "# initialise a wandb run\n",
        "run = wandb.init(\n",
        "    project=\"GTSRB-CIL\",\n",
        "    name = \"Upper bound 1 task\",\n",
        "    config={\n",
        "        \"epochs\": num_epochs,\n",
        "        \"batch_size\": batch_size,\n",
        "        \"num_tasks\": num_tasks,\n",
        "        \"classes_per_task\": classes_per_task,\n",
        "        \"lr\": lr,\n",
        "        })\n",
        "model = copy.deepcopy(copy_model)\n",
        "accu = incremental_learning(model, train_dataset, train_target, test_dataset, test_target,\n",
        "                      1, (numclasses // num_tasks) * num_tasks, batch_size, 5, lr, device)\n",
        "\n",
        "print(f\"!!!!! Upper bound of accuracy = {accu[0]:.2f}%\")\n",
        "wandb.finish()\n"
      ]
    },
    {
      "cell_type": "code",
      "execution_count": null,
      "metadata": {
        "colab": {
          "background_save": true
        },
        "id": "TQONaVy3MYRa"
      },
      "outputs": [],
      "source": [
        "########################################\n",
        "## Upper bound for each task (takes some time)\n",
        "####\n",
        "# initialise a wandb run\n",
        "run = wandb.init(\n",
        "    project=\"GTSRB-CIL\",\n",
        "    name = \"Upper bound\",\n",
        "    config={\n",
        "        \"epochs\": num_epochs,\n",
        "        \"batch_size\": batch_size,\n",
        "        \"num_tasks\": num_tasks,\n",
        "        \"classes_per_task\": classes_per_task,\n",
        "        \"lr\": lr,\n",
        "        })\n",
        "\n",
        "# Non incremental data (learn all classes from all data for each task)\n",
        "model = SimpleCNN(n_in = 3, n_out=1)\n",
        "model.apply(initialize_weights)\n",
        "model.to(device)\n",
        "incremental_learning_wandb(model, train_dataset, train_target, test_dataset, test_target,\n",
        "                      num_tasks, classes_per_task, batch_size, num_epochs, lr, device, non_incremental = True)\n",
        "\n",
        "wandb.finish()"
      ]
    },
    {
      "cell_type": "markdown",
      "metadata": {
        "id": "MvpeQkIBuVo6"
      },
      "source": [
        "## Avoiding Forgetting"
      ]
    },
    {
      "cell_type": "markdown",
      "metadata": {
        "id": "yBjabXSZIjl5"
      },
      "source": [
        "To counter this phenomenon, we tested two main approaches:  \n",
        "\n",
        "- **Rehearsal**: Storing a subset of past data to retrain the model on previously learned classes using a memory buffer.  \n",
        "- **Rehearsal + Knowledge Distillation (KD)**: Combining memory replay with knowledge distillation to align the current model’s predictions with those of a teacher model."
      ]
    },
    {
      "cell_type": "markdown",
      "metadata": {
        "id": "7DwuSODjsz7S"
      },
      "source": [
        "### Rehearsal + KD"
      ]
    },
    {
      "cell_type": "markdown",
      "metadata": {
        "id": "1GYFkaB8kKai"
      },
      "source": [
        "One of the major challenges when applying Knowledge Distillation (KD) in incremental learning is that the last layer of the student model differs from that of the teacher model. With each new task, the student model is updated to recognize additional classes, increasing the size of the output (fully connected) layer. This creates an incompatibility between the predictions of the student and teacher models, making it difficult to align output distributions through knowledge distillation.  \n",
        "\n",
        "To address this issue, we implemented a **\"weight matching\"** strategy:  \n",
        "\n",
        "1. **Copying the weights of previous classes**: When a new task is added, we copy the weights from the old fully connected (FC) layer into the expanded FC layer, ensuring that previous class representations are retained.  \n",
        "2. **Selective update of the last layer**: We transfer only the weights corresponding to past classes while allowing new classes to be learned normally.  \n",
        "3. **Freezing the teacher model’s weights**: To prevent the teacher model from changing over iterations, we keep it in evaluation mode and block any updates to its weights."
      ]
    },
    {
      "cell_type": "code",
      "execution_count": 1,
      "metadata": {
        "colab": {
          "background_save": true
        },
        "id": "7wQekjIv1J2P"
      },
      "outputs": [],
      "source": [
        "import collections\n",
        "\n",
        "# Rehearsal memory buffer\n",
        "class MemoryBuffer:\n",
        "    def __init__(self, size):\n",
        "        self.size = size\n",
        "        self.memory = collections.defaultdict(list)  # Store samples per class\n",
        "         # Copy model to start from the same initialization\n",
        "\n",
        "    def add_samples(self, images, labels):\n",
        "        for img, lbl in zip(images, labels):\n",
        "            # Keep buffer balanced by limiting samples per class\n",
        "            if len(self.memory[lbl]) > self.size // len(self.memory):\n",
        "                self.memory[lbl].pop(random.randint(0, len(self.memory[lbl]) - 1))  # Random removal\n",
        "\n",
        "            self.memory[lbl].append(img)\n",
        "\n",
        "    def get_samples(self, num_samples):\n",
        "        samples = []\n",
        "        classes = list(self.memory.keys())\n",
        "        if len(self.memory) < num_samples:\n",
        "            num_samples = len(self.memory)\n",
        "\n",
        "        while len(samples) < num_samples:\n",
        "            cls = random.choice(classes)\n",
        "            if self.memory[cls]:  # Ensure class has data\n",
        "                samples.append((self.memory[cls].pop(0), cls))  # Pop oldest sample\n",
        "\n",
        "        return samples\n",
        "\n",
        "def create_dataloader_rehearsal(dataset, targets, current_classes, batch_size, mem_labels, shuffle):\n",
        "    indices = [i for i, label in enumerate(targets) if label in current_classes or label in mem_labels]\n",
        "    subset = Subset(dataset, indices)\n",
        "    dataloader = DataLoader(subset, batch_size=batch_size, shuffle=shuffle)\n",
        "    return dataloader\n",
        "\n",
        "def get_indices_rehearsal(dataset, targets, current_classes):\n",
        "    indices = [i for i, label in enumerate(targets) if label in current_classes]\n",
        "    return indices\n",
        "\n",
        "def get_labels_rehearsal(dataset, targets, current_classes, indices):\n",
        "    labels = [label for i, label in enumerate(targets) if label in current_classes and i in indices]\n",
        "    return labels"
      ]
    },
    {
      "cell_type": "code",
      "execution_count": null,
      "metadata": {
        "colab": {
          "background_save": true
        },
        "id": "iQqVviBj1cev"
      },
      "outputs": [],
      "source": [
        "def distillation_loss(student_outputs, teacher_outputs, temperature=2.0):\n",
        "    # Ensure student logits only consider old class outputs\n",
        "    student_outputs = student_outputs[:, :teacher_outputs.shape[1]]\n",
        "\n",
        "    soft_targets = nn.functional.softmax(teacher_outputs / temperature, dim=1)\n",
        "    soft_preds = nn.functional.log_softmax(student_outputs / temperature, dim=1)\n",
        "  #Compares the soft loss of both teacher and student\n",
        "    return nn.functional.kl_div(soft_preds, soft_targets, reduction='batchmean')"
      ]
    },
    {
      "cell_type": "markdown",
      "metadata": {
        "id": "IOn2BtXzEory"
      },
      "source": [
        "First try with a factor of distillation_loss = 0.1"
      ]
    },
    {
      "cell_type": "code",
      "execution_count": null,
      "metadata": {
        "colab": {
          "background_save": true
        },
        "id": "fOhX_kvNBCfo"
      },
      "outputs": [],
      "source": [
        "# Modified Training loop\n",
        "def rehearsal_kd_train_wandb(model, train_loader, optimizer, criterion, device, epoch, teacher_model = None):\n",
        "    step_ct = 0\n",
        "    n_steps_per_epoch = math.ceil(len(train_loader.dataset) / train_loader.batch_size)\n",
        "\n",
        "    model.train()\n",
        "\n",
        "    for step, (images, labels) in tqdm(enumerate(train_loader), ncols=80,  desc=\"Epoch {}\".format(epoch)):\n",
        "        images, labels = images.to(device), labels.to(device)\n",
        "        optimizer.zero_grad()\n",
        "        outputs = model(images)\n",
        "        loss = criterion(outputs, labels)#hard loss\n",
        "\n",
        "        # Knowledge Distillation Loss\n",
        "        if teacher_model:\n",
        "            with torch.no_grad():\n",
        "                teacher_outputs = teacher_model(images)\n",
        "            loss += 0.1 * distillation_loss(outputs[:, :teacher_outputs.shape[1]], teacher_outputs, temperature=2.0)\n",
        "\n",
        "        loss.backward()\n",
        "        optimizer.step()\n",
        "\n",
        "        metrics = {\"train/train_loss\": loss}\n",
        "        # metrics = {\"train/train_loss\": loss,\n",
        "        #             \"train/epoch\": (step + 1 + (n_steps_per_epoch * epoch)) / n_steps_per_epoch}\n",
        "\n",
        "        if step + 1 < n_steps_per_epoch:\n",
        "          # Log train metrics to wandb\n",
        "          wandb.log(metrics)\n",
        "        step_ct += 1\n",
        "\n",
        "# Training loop for modified incremental learning\n",
        "def rehearsal_kd_incremental_learning_wandb(model, train_dataset, train_target, test_dataset, test_target,\n",
        "                         num_tasks, classes_per_task, batch_size, num_epochs, lr, device, non_incremental = False):\n",
        "    nclasses = len(np.unique(train_target))\n",
        "    all_classes = list(range(nclasses))\n",
        "    criterion = nn.CrossEntropyLoss()\n",
        "    current_classes = []\n",
        "    accuracies = []\n",
        "    memory_buffer = MemoryBuffer(size=200)\n",
        "    teacher_model = copy.deepcopy(model)\n",
        "    # Copy your config\n",
        "    config = wandb.config\n",
        "\n",
        "    wandb.define_metric(\"task\")\n",
        "    wandb.define_metric(\"incremental_accuracy\", step_metric=\"task\")\n",
        "\n",
        "    for task in range(num_tasks):\n",
        "        if non_incremental == True: # Learn from all available data\n",
        "          task_classes = all_classes[0 : (task + 1) * classes_per_task]\n",
        "          current_classes = task_classes\n",
        "          model.apply(initialize_weights)\n",
        "        else:\n",
        "          task_classes = all_classes[task * classes_per_task : (task + 1) * classes_per_task]\n",
        "          current_classes.extend(task_classes)\n",
        "\n",
        "        if task == 0:\n",
        "            train_loader = create_dataloader(train_dataset, train_target, task_classes, batch_size, shuffle = True)\n",
        "        else:\n",
        "            # Rehearsal\n",
        "            mem_samples = memory_buffer.get_samples(train_loader.batch_size * 2)\n",
        "            mem_images, mem_labels = zip(*mem_samples)\n",
        "            mem_labels = torch.tensor(mem_labels).to(device)\n",
        "            train_loader = create_dataloader_rehearsal(train_dataset, train_target, task_classes, batch_size, mem_labels, shuffle = True)\n",
        "\n",
        "\n",
        "        test_loader = create_dataloader(test_dataset, test_target, current_classes, batch_size, shuffle = False)\n",
        "\n",
        "        if task == 0 or non_incremental == True:\n",
        "            model.fc = nn.Linear(model.fc.in_features, len(current_classes)).to(device)\n",
        "        else:\n",
        "            # Expand the output layer for new classes\n",
        "            old_weight = model.fc.weight.data\n",
        "            old_bias = model.fc.bias.data\n",
        "            model.fc = nn.Linear(model.fc.in_features, len(current_classes)).to(device)\n",
        "            model.fc.weight.data[:len(old_weight)] = old_weight\n",
        "            model.fc.bias.data[:len(old_bias)] = old_bias\n",
        "\n",
        "        optimizer = optim.SGD(model.parameters(), lr=lr, momentum=0.9, weight_decay=5e-4)\n",
        "        optimizer = torch.optim.Adam(model.parameters(), lr=lr)\n",
        "        scheduler = lr_scheduler.StepLR(optimizer, step_size=5, gamma=0.5)\n",
        "\n",
        "        print(f\"Starting Task {task+1} - Training on classes: {task_classes}\")\n",
        "        for epoch in range(num_epochs): # Adjust number of epochs\n",
        "            # If logging training (but not incremental)\n",
        "            rehearsal_kd_train_wandb(model, train_loader, optimizer, criterion, device, epoch, teacher_model)\n",
        "\n",
        "            scheduler.step()\n",
        "            accuracy = evaluate(model, train_loader, device)\n",
        "            print(f\"Task {task+1}, Epoch {epoch+1}: Accuracy Train = {accuracy:.2f}%\")\n",
        "\n",
        "            val_metrics = {\"val/val_accuracy\": accuracy}\n",
        "\n",
        "        accuracy = evaluate(model, test_loader, device)\n",
        "        accuracies.append(accuracy)\n",
        "        print(f\"Task {task+1}: Accuracy Test = {accuracy:.2f}%\")\n",
        "\n",
        "        incremental_metrics = {\"incremental_accuracy\": accuracy, \"task\": task}\n",
        "        wandb.log({**incremental_metrics})\n",
        "\n",
        "        # Rehearsal\n",
        "        indices = get_indices_rehearsal(train_dataset, train_target, task_classes)\n",
        "        sampled_indices = random.sample(indices, min(200, len(indices)))\n",
        "        mem_images = []\n",
        "        mem_labels = get_labels_rehearsal(train_dataset, train_target, task_classes, sampled_indices)\n",
        "        for i in sampled_indices:\n",
        "            mem_images.append(train_dataset[i][0])\n",
        "        memory_buffer.add_samples(mem_images, mem_labels)\n",
        "\n",
        "        # Update teacher model and memory buffer\n",
        "        if task == 0:  # For the first task, initialize the teacher model\n",
        "          teacher_model = copy.deepcopy(model)\n",
        "        else:\n",
        "            # Ensure teacher model output layer matches the student model's new architecture\n",
        "            #teacher_model.fc = nn.Linear(model.fc.in_features, model.fc.out_features).to(device)\n",
        "             #1. Create a new teacher model with the updated output size\n",
        "            new_teacher_model = copy.deepcopy(model)  # Start with a copy of the current model\n",
        "\n",
        "            # 2. Copy the weights of the common layers (everything except the last FC layer)\n",
        "            for name, param in model.named_parameters():\n",
        "                if \"fc\" not in name:  # Copy everything but the final fc layer\n",
        "                    try:\n",
        "                        new_teacher_model.state_dict()[name].copy_(param.data)\n",
        "                    except RuntimeError as e:\n",
        "                        print(f\"Warning: Layer {name} not found in teacher model. Skipping. Error: {e}\")\n",
        "\n",
        "\n",
        "            # 3. For the FC layer, copy the weights corresponding to the *old* classes.\n",
        "            old_teacher_fc_weight = teacher_model.fc.weight.data  # The previous FC weights\n",
        "            new_teacher_fc_weight = new_teacher_model.fc.weight.data  # The new FC weights\n",
        "\n",
        "            common_classes = min(old_teacher_fc_weight.shape[0], new_teacher_fc_weight.shape[0]) #Number of overlapping classes\n",
        "            new_teacher_fc_weight[:common_classes] = old_teacher_fc_weight[:common_classes] # Copy the weights for the common classes\n",
        "\n",
        "\n",
        "            new_teacher_model.fc.weight.data = new_teacher_fc_weight\n",
        "            new_teacher_model.fc.bias.data[:common_classes] = teacher_model.fc.bias.data[:common_classes]\n",
        "\n",
        "            teacher_model = new_teacher_model # Update the teacher model.\n",
        "            del new_teacher_model #Delete the temporary teacher model.\n",
        "\n",
        "\n",
        "            # Copy the entire model's state dictionary with mismatches ignored\n",
        "            #teacher_model.load_state_dict(model.state_dict(), strict=False)\n",
        "            #teacher_model.load_state_dict(model.state_dict())\n",
        "            # Set to evaluation mode and freeze parameters\n",
        "        teacher_model.eval()\n",
        "        for param in teacher_model.parameters():\n",
        "            param.requires_grad = False  # Ensures it remains frozen\n",
        "\n",
        "    return accuracies\n"
      ]
    },
    {
      "cell_type": "code",
      "execution_count": 4,
      "metadata": {
        "colab": {
          "background_save": true,
          "base_uri": "https://localhost:8080/",
          "height": 555
        },
        "id": "lwU6hMxP1nMv",
        "outputId": "6cf2bd0f-8b03-4f02-d764-d998203e9f8f"
      },
      "outputs": [
        {
          "ename": "NameError",
          "evalue": "name 'wandb' is not defined",
          "output_type": "error",
          "traceback": [
            "\u001b[1;31m---------------------------------------------------------------------------\u001b[0m",
            "\u001b[1;31mNameError\u001b[0m                                 Traceback (most recent call last)",
            "Input \u001b[1;32mIn [4]\u001b[0m, in \u001b[0;36m<cell line: 5>\u001b[1;34m()\u001b[0m\n\u001b[0;32m      1\u001b[0m \u001b[38;5;66;03m#############################################\u001b[39;00m\n\u001b[0;32m      2\u001b[0m \u001b[38;5;66;03m## Rehearsal with KD\u001b[39;00m\n\u001b[0;32m      3\u001b[0m \u001b[38;5;66;03m#############################################\u001b[39;00m\n\u001b[0;32m      4\u001b[0m \u001b[38;5;66;03m# initialise a wandb run\u001b[39;00m\n\u001b[1;32m----> 5\u001b[0m run \u001b[38;5;241m=\u001b[39m \u001b[43mwandb\u001b[49m\u001b[38;5;241m.\u001b[39minit(\n\u001b[0;32m      6\u001b[0m     project\u001b[38;5;241m=\u001b[39m\u001b[38;5;124m\"\u001b[39m\u001b[38;5;124mGTSRB-CIL\u001b[39m\u001b[38;5;124m\"\u001b[39m,\n\u001b[0;32m      7\u001b[0m     name \u001b[38;5;241m=\u001b[39m \u001b[38;5;124m\"\u001b[39m\u001b[38;5;124mRehearsal + KD (0.1)\u001b[39m\u001b[38;5;124m\"\u001b[39m,\n\u001b[0;32m      8\u001b[0m     config\u001b[38;5;241m=\u001b[39m{\n\u001b[0;32m      9\u001b[0m         \u001b[38;5;124m\"\u001b[39m\u001b[38;5;124mepochs\u001b[39m\u001b[38;5;124m\"\u001b[39m: num_epochs,\n\u001b[0;32m     10\u001b[0m         \u001b[38;5;124m\"\u001b[39m\u001b[38;5;124mbatch_size\u001b[39m\u001b[38;5;124m\"\u001b[39m: batch_size,\n\u001b[0;32m     11\u001b[0m         \u001b[38;5;124m\"\u001b[39m\u001b[38;5;124mnum_tasks\u001b[39m\u001b[38;5;124m\"\u001b[39m: num_tasks,\n\u001b[0;32m     12\u001b[0m         \u001b[38;5;124m\"\u001b[39m\u001b[38;5;124mclasses_per_task\u001b[39m\u001b[38;5;124m\"\u001b[39m: classes_per_task,\n\u001b[0;32m     13\u001b[0m         \u001b[38;5;124m\"\u001b[39m\u001b[38;5;124mlr\u001b[39m\u001b[38;5;124m\"\u001b[39m: lr,\n\u001b[0;32m     14\u001b[0m         })\n\u001b[0;32m     16\u001b[0m \u001b[38;5;66;03m# Incremental with Reheasal\u001b[39;00m\n\u001b[0;32m     17\u001b[0m model \u001b[38;5;241m=\u001b[39m copy\u001b[38;5;241m.\u001b[39mdeepcopy(copy_model)\n",
            "\u001b[1;31mNameError\u001b[0m: name 'wandb' is not defined"
          ]
        }
      ],
      "source": [
        "#############################################\n",
        "## Rehearsal with KD\n",
        "#############################################\n",
        "# initialise a wandb run\n",
        "run = wandb.init(\n",
        "    project=\"GTSRB-CIL\",\n",
        "    name = \"Rehearsal + KD (0.1)\",\n",
        "    config={\n",
        "        \"epochs\": num_epochs,\n",
        "        \"batch_size\": batch_size,\n",
        "        \"num_tasks\": num_tasks,\n",
        "        \"classes_per_task\": classes_per_task,\n",
        "        \"lr\": lr,\n",
        "        })\n",
        "\n",
        "# Incremental with Reheasal\n",
        "model = copy.deepcopy(copy_model)\n",
        "rehearsal_kd_incremental_learning_wandb(model, train_dataset, train_target, test_dataset, test_target,\n",
        "                      num_tasks, classes_per_task, batch_size, num_epochs, lr, device)\n",
        "wandb.finish()\n"
      ]
    },
    {
      "cell_type": "markdown",
      "metadata": {
        "id": "6EZAgjaJrcCU"
      },
      "source": [
        "Second try with a factor of distillation_loss = 0.5"
      ]
    },
    {
      "cell_type": "code",
      "execution_count": null,
      "metadata": {
        "colab": {
          "background_save": true
        },
        "id": "tjIxtWtrrgQf"
      },
      "outputs": [],
      "source": [
        "# Modified Training loop\n",
        "def rehearsal_kd_train_wandb2(model, train_loader, optimizer, criterion, device, epoch, teacher_model = None):\n",
        "    step_ct = 0\n",
        "    n_steps_per_epoch = math.ceil(len(train_loader.dataset) / train_loader.batch_size)\n",
        "\n",
        "    model.train()\n",
        "\n",
        "    for step, (images, labels) in tqdm(enumerate(train_loader), ncols=80,  desc=\"Epoch {}\".format(epoch)):\n",
        "        images, labels = images.to(device), labels.to(device)\n",
        "        optimizer.zero_grad()\n",
        "        outputs = model(images)\n",
        "        loss = criterion(outputs, labels)#hard loss\n",
        "\n",
        "        # Knowledge Distillation Loss\n",
        "        if teacher_model:\n",
        "            with torch.no_grad():\n",
        "                teacher_outputs = teacher_model(images)\n",
        "            loss += 0.5 * distillation_loss(outputs[:, :teacher_outputs.shape[1]], teacher_outputs, temperature=2.0)\n",
        "\n",
        "        loss.backward()\n",
        "        optimizer.step()\n",
        "\n",
        "        metrics = {\"train/train_loss\": loss}\n",
        "        # metrics = {\"train/train_loss\": loss,\n",
        "        #             \"train/epoch\": (step + 1 + (n_steps_per_epoch * epoch)) / n_steps_per_epoch}\n",
        "\n",
        "        if step + 1 < n_steps_per_epoch:\n",
        "          # Log train metrics to wandb\n",
        "          wandb.log(metrics)\n",
        "        step_ct += 1\n",
        "\n",
        "# Training loop for modified incremental learning\n",
        "def rehearsal_kd_incremental_learning_wandb2(model, train_dataset, train_target, test_dataset, test_target,\n",
        "                         num_tasks, classes_per_task, batch_size, num_epochs, lr, device, non_incremental = False):\n",
        "    nclasses = len(np.unique(train_target))\n",
        "    all_classes = list(range(nclasses))\n",
        "    criterion = nn.CrossEntropyLoss()\n",
        "    current_classes = []\n",
        "    accuracies = []\n",
        "    memory_buffer = MemoryBuffer(size=200)\n",
        "    teacher_model = copy.deepcopy(model)\n",
        "    # Copy your config\n",
        "    config = wandb.config\n",
        "\n",
        "    wandb.define_metric(\"task\")\n",
        "    wandb.define_metric(\"incremental_accuracy\", step_metric=\"task\")\n",
        "\n",
        "    for task in range(num_tasks):\n",
        "        if non_incremental == True: # Learn from all available data\n",
        "          task_classes = all_classes[0 : (task + 1) * classes_per_task]\n",
        "          current_classes = task_classes\n",
        "          model.apply(initialize_weights)\n",
        "        else:\n",
        "          task_classes = all_classes[task * classes_per_task : (task + 1) * classes_per_task]\n",
        "          current_classes.extend(task_classes)\n",
        "\n",
        "        if task == 0:\n",
        "            train_loader = create_dataloader(train_dataset, train_target, task_classes, batch_size, shuffle = True)\n",
        "        else:\n",
        "            # Rehearsal\n",
        "            mem_samples = memory_buffer.get_samples(train_loader.batch_size * 2)\n",
        "            mem_images, mem_labels = zip(*mem_samples)\n",
        "            mem_labels = torch.tensor(mem_labels).to(device)\n",
        "            train_loader = create_dataloader_rehearsal(train_dataset, train_target, task_classes, batch_size, mem_labels, shuffle = True)\n",
        "\n",
        "\n",
        "        test_loader = create_dataloader(test_dataset, test_target, current_classes, batch_size, shuffle = False)\n",
        "\n",
        "        if task == 0 or non_incremental == True:\n",
        "            model.fc = nn.Linear(model.fc.in_features, len(current_classes)).to(device)\n",
        "        else:\n",
        "            # Expand the output layer for new classes\n",
        "            old_weight = model.fc.weight.data\n",
        "            old_bias = model.fc.bias.data\n",
        "            model.fc = nn.Linear(model.fc.in_features, len(current_classes)).to(device)\n",
        "            model.fc.weight.data[:len(old_weight)] = old_weight\n",
        "            model.fc.bias.data[:len(old_bias)] = old_bias\n",
        "\n",
        "        optimizer = optim.SGD(model.parameters(), lr=lr, momentum=0.9, weight_decay=5e-4)\n",
        "        optimizer = torch.optim.Adam(model.parameters(), lr=lr)\n",
        "        scheduler = lr_scheduler.StepLR(optimizer, step_size=5, gamma=0.5)\n",
        "\n",
        "        print(f\"Starting Task {task+1} - Training on classes: {task_classes}\")\n",
        "        for epoch in range(num_epochs): # Adjust number of epochs\n",
        "            # If logging training (but not incremental)\n",
        "            rehearsal_kd_train_wandb2(model, train_loader, optimizer, criterion, device, epoch, teacher_model)\n",
        "\n",
        "            scheduler.step()\n",
        "            accuracy = evaluate(model, train_loader, device)\n",
        "            print(f\"Task {task+1}, Epoch {epoch+1}: Accuracy Train = {accuracy:.2f}%\")\n",
        "\n",
        "            val_metrics = {\"val/val_accuracy\": accuracy}\n",
        "\n",
        "        accuracy = evaluate(model, test_loader, device)\n",
        "        accuracies.append(accuracy)\n",
        "        print(f\"Task {task+1}: Accuracy Test = {accuracy:.2f}%\")\n",
        "\n",
        "        incremental_metrics = {\"incremental_accuracy\": accuracy, \"task\": task}\n",
        "        wandb.log({**incremental_metrics})\n",
        "\n",
        "        # Rehearsal\n",
        "        indices = get_indices_rehearsal(train_dataset, train_target, task_classes)\n",
        "        sampled_indices = random.sample(indices, min(200, len(indices)))\n",
        "        mem_images = []\n",
        "        mem_labels = get_labels_rehearsal(train_dataset, train_target, task_classes, sampled_indices)\n",
        "        for i in sampled_indices:\n",
        "            mem_images.append(train_dataset[i][0])\n",
        "        memory_buffer.add_samples(mem_images, mem_labels)\n",
        "\n",
        "        # Update teacher model and memory buffer\n",
        "        if task == 0:  # For the first task, initialize the teacher model\n",
        "          teacher_model = copy.deepcopy(model)\n",
        "        else:\n",
        "            # Ensure teacher model output layer matches the student model's new architecture\n",
        "            #teacher_model.fc = nn.Linear(model.fc.in_features, model.fc.out_features).to(device)\n",
        "             #1. Create a new teacher model with the updated output size\n",
        "            new_teacher_model = copy.deepcopy(model)  # Start with a copy of the current model\n",
        "\n",
        "            # 2. Copy the weights of the common layers (everything except the last FC layer)\n",
        "            for name, param in model.named_parameters():\n",
        "                if \"fc\" not in name:  # Copy everything but the final fc layer\n",
        "                    try:\n",
        "                        new_teacher_model.state_dict()[name].copy_(param.data)\n",
        "                    except RuntimeError as e:\n",
        "                        print(f\"Warning: Layer {name} not found in teacher model. Skipping. Error: {e}\")\n",
        "\n",
        "\n",
        "            # 3. For the FC layer, copy the weights corresponding to the *old* classes.\n",
        "            old_teacher_fc_weight = teacher_model.fc.weight.data  # The previous FC weights\n",
        "            new_teacher_fc_weight = new_teacher_model.fc.weight.data  # The new FC weights\n",
        "\n",
        "            common_classes = min(old_teacher_fc_weight.shape[0], new_teacher_fc_weight.shape[0]) #Number of overlapping classes\n",
        "            new_teacher_fc_weight[:common_classes] = old_teacher_fc_weight[:common_classes] # Copy the weights for the common classes\n",
        "\n",
        "\n",
        "            new_teacher_model.fc.weight.data = new_teacher_fc_weight\n",
        "            new_teacher_model.fc.bias.data[:common_classes] = teacher_model.fc.bias.data[:common_classes]\n",
        "\n",
        "            teacher_model = new_teacher_model # Update the teacher model.\n",
        "            del new_teacher_model #Delete the temporary teacher model.\n",
        "\n",
        "\n",
        "            # Copy the entire model's state dictionary with mismatches ignored\n",
        "            #teacher_model.load_state_dict(model.state_dict(), strict=False)\n",
        "            #teacher_model.load_state_dict(model.state_dict())\n",
        "            # Set to evaluation mode and freeze parameters\n",
        "        teacher_model.eval()\n",
        "        for param in teacher_model.parameters():\n",
        "            param.requires_grad = False  # Ensures it remains frozen\n",
        "\n",
        "    return accuracies\n"
      ]
    },
    {
      "cell_type": "code",
      "execution_count": null,
      "metadata": {
        "colab": {
          "background_save": true,
          "base_uri": "https://localhost:8080/",
          "height": 607
        },
        "id": "EMMg2kwyrpAz",
        "outputId": "6ca05a5e-a637-4e52-cee4-37574ce716ff"
      },
      "outputs": [
        {
          "data": {
            "text/html": [
              "Tracking run with wandb version 0.19.5"
            ],
            "text/plain": [
              "<IPython.core.display.HTML object>"
            ]
          },
          "metadata": {},
          "output_type": "display_data"
        },
        {
          "data": {
            "text/html": [
              "Run data is saved locally in <code>/content/wandb/run-20250203_151839-6e1xfcqr</code>"
            ],
            "text/plain": [
              "<IPython.core.display.HTML object>"
            ]
          },
          "metadata": {},
          "output_type": "display_data"
        },
        {
          "data": {
            "text/html": [
              "Syncing run <strong><a href='https://wandb.ai/fepaesleme-usp-universidade-de-s-o-paulo/GTSRB-CIL/runs/6e1xfcqr' target=\"_blank\">Rehearsal + KD (0.5)</a></strong> to <a href='https://wandb.ai/fepaesleme-usp-universidade-de-s-o-paulo/GTSRB-CIL' target=\"_blank\">Weights & Biases</a> (<a href='https://wandb.me/developer-guide' target=\"_blank\">docs</a>)<br>"
            ],
            "text/plain": [
              "<IPython.core.display.HTML object>"
            ]
          },
          "metadata": {},
          "output_type": "display_data"
        },
        {
          "data": {
            "text/html": [
              " View project at <a href='https://wandb.ai/fepaesleme-usp-universidade-de-s-o-paulo/GTSRB-CIL' target=\"_blank\">https://wandb.ai/fepaesleme-usp-universidade-de-s-o-paulo/GTSRB-CIL</a>"
            ],
            "text/plain": [
              "<IPython.core.display.HTML object>"
            ]
          },
          "metadata": {},
          "output_type": "display_data"
        },
        {
          "data": {
            "text/html": [
              " View run at <a href='https://wandb.ai/fepaesleme-usp-universidade-de-s-o-paulo/GTSRB-CIL/runs/6e1xfcqr' target=\"_blank\">https://wandb.ai/fepaesleme-usp-universidade-de-s-o-paulo/GTSRB-CIL/runs/6e1xfcqr</a>"
            ],
            "text/plain": [
              "<IPython.core.display.HTML object>"
            ]
          },
          "metadata": {},
          "output_type": "display_data"
        },
        {
          "name": "stdout",
          "output_type": "stream",
          "text": [
            "Starting Task 1 - Training on classes: [0, 1, 2, 3, 4, 5, 6, 7]\n"
          ]
        },
        {
          "name": "stderr",
          "output_type": "stream",
          "text": [
            "Epoch 0: 125it [00:31,  3.99it/s]\n",
            "100%|█████████████████████████████████████████| 125/125 [00:12<00:00, 10.34it/s]\n"
          ]
        },
        {
          "name": "stdout",
          "output_type": "stream",
          "text": [
            "Task 1, Epoch 1: Accuracy Train = 96.29%\n"
          ]
        },
        {
          "name": "stderr",
          "output_type": "stream",
          "text": [
            "100%|███████████████████████████████████████████| 61/61 [00:05<00:00, 11.53it/s]\n"
          ]
        },
        {
          "name": "stdout",
          "output_type": "stream",
          "text": [
            "Task 1: Accuracy Test = 88.22%\n",
            "Starting Task 2 - Training on classes: [8, 9, 10, 11, 12, 13, 14, 15]\n"
          ]
        },
        {
          "name": "stderr",
          "output_type": "stream",
          "text": [
            "Epoch 0: 203it [00:53,  3.82it/s]\n",
            "100%|█████████████████████████████████████████| 203/203 [00:20<00:00,  9.71it/s]\n"
          ]
        },
        {
          "name": "stdout",
          "output_type": "stream",
          "text": [
            "Task 2, Epoch 1: Accuracy Train = 97.00%\n"
          ]
        },
        {
          "name": "stderr",
          "output_type": "stream",
          "text": [
            "100%|█████████████████████████████████████████| 122/122 [00:11<00:00, 10.63it/s]\n"
          ]
        },
        {
          "name": "stdout",
          "output_type": "stream",
          "text": [
            "Task 2: Accuracy Test = 85.95%\n",
            "Starting Task 3 - Training on classes: [16, 17, 18, 19, 20, 21, 22, 23]\n"
          ]
        },
        {
          "name": "stderr",
          "output_type": "stream",
          "text": [
            "Epoch 0: 223it [01:00,  3.68it/s]\n",
            "100%|█████████████████████████████████████████| 223/223 [00:21<00:00, 10.34it/s]\n"
          ]
        },
        {
          "name": "stdout",
          "output_type": "stream",
          "text": [
            "Task 3, Epoch 1: Accuracy Train = 99.61%\n"
          ]
        },
        {
          "name": "stderr",
          "output_type": "stream",
          "text": [
            "100%|█████████████████████████████████████████| 144/144 [00:14<00:00, 10.07it/s]\n"
          ]
        },
        {
          "name": "stdout",
          "output_type": "stream",
          "text": [
            "Task 3: Accuracy Test = 86.13%\n",
            "Starting Task 4 - Training on classes: [24, 25, 26, 27, 28, 29, 30, 31]\n"
          ]
        },
        {
          "name": "stderr",
          "output_type": "stream",
          "text": [
            "Epoch 0: 248it [01:07,  3.69it/s]\n",
            "100%|█████████████████████████████████████████| 248/248 [00:24<00:00,  9.92it/s]\n"
          ]
        },
        {
          "name": "stdout",
          "output_type": "stream",
          "text": [
            "Task 4, Epoch 1: Accuracy Train = 99.28%\n"
          ]
        },
        {
          "name": "stderr",
          "output_type": "stream",
          "text": [
            "100%|█████████████████████████████████████████| 167/167 [00:16<00:00, 10.12it/s]\n"
          ]
        },
        {
          "name": "stdout",
          "output_type": "stream",
          "text": [
            "Task 4: Accuracy Test = 79.28%\n",
            "Starting Task 5 - Training on classes: [32, 33, 34, 35, 36, 37, 38, 39]\n"
          ]
        },
        {
          "name": "stderr",
          "output_type": "stream",
          "text": [
            "Epoch 0: 254it [01:07,  3.75it/s]\n",
            "100%|█████████████████████████████████████████| 254/254 [00:25<00:00,  9.95it/s]\n"
          ]
        },
        {
          "name": "stdout",
          "output_type": "stream",
          "text": [
            "Task 5, Epoch 1: Accuracy Train = 99.70%\n"
          ]
        },
        {
          "name": "stderr",
          "output_type": "stream",
          "text": [
            "100%|█████████████████████████████████████████| 194/194 [00:19<00:00, 10.16it/s]\n"
          ]
        },
        {
          "name": "stdout",
          "output_type": "stream",
          "text": [
            "Task 5: Accuracy Test = 82.26%\n"
          ]
        },
        {
          "data": {
            "text/html": [],
            "text/plain": [
              "<IPython.core.display.HTML object>"
            ]
          },
          "metadata": {},
          "output_type": "display_data"
        },
        {
          "data": {
            "text/html": [
              "<br>    <style><br>        .wandb-row {<br>            display: flex;<br>            flex-direction: row;<br>            flex-wrap: wrap;<br>            justify-content: flex-start;<br>            width: 100%;<br>        }<br>        .wandb-col {<br>            display: flex;<br>            flex-direction: column;<br>            flex-basis: 100%;<br>            flex: 1;<br>            padding: 10px;<br>        }<br>    </style><br><div class=\"wandb-row\"><div class=\"wandb-col\"><h3>Run history:</h3><br/><table class=\"wandb\"><tr><td>incremental_accuracy</td><td>█▆▆▁▃</td></tr><tr><td>task</td><td>▁▃▅▆█</td></tr><tr><td>train/train_loss</td><td>█▄▂▁▂▁▁▁▁▁▂▁▁▁▁▁▁▁▁▂▂▁▁▁▁▁▁▁▁▂▁▁▂▂▁▁▁▁▁▁</td></tr></table><br/></div><div class=\"wandb-col\"><h3>Run summary:</h3><br/><table class=\"wandb\"><tr><td>incremental_accuracy</td><td>82.25989</td></tr><tr><td>task</td><td>4</td></tr><tr><td>train/train_loss</td><td>0.15444</td></tr></table><br/></div></div>"
            ],
            "text/plain": [
              "<IPython.core.display.HTML object>"
            ]
          },
          "metadata": {},
          "output_type": "display_data"
        },
        {
          "data": {
            "text/html": [
              " View run <strong style=\"color:#cdcd00\">Rehearsal + KD (0.5)</strong> at: <a href='https://wandb.ai/fepaesleme-usp-universidade-de-s-o-paulo/GTSRB-CIL/runs/6e1xfcqr' target=\"_blank\">https://wandb.ai/fepaesleme-usp-universidade-de-s-o-paulo/GTSRB-CIL/runs/6e1xfcqr</a><br> View project at: <a href='https://wandb.ai/fepaesleme-usp-universidade-de-s-o-paulo/GTSRB-CIL' target=\"_blank\">https://wandb.ai/fepaesleme-usp-universidade-de-s-o-paulo/GTSRB-CIL</a><br>Synced 5 W&B file(s), 0 media file(s), 0 artifact file(s) and 0 other file(s)"
            ],
            "text/plain": [
              "<IPython.core.display.HTML object>"
            ]
          },
          "metadata": {},
          "output_type": "display_data"
        },
        {
          "data": {
            "text/html": [
              "Find logs at: <code>./wandb/run-20250203_151839-6e1xfcqr/logs</code>"
            ],
            "text/plain": [
              "<IPython.core.display.HTML object>"
            ]
          },
          "metadata": {},
          "output_type": "display_data"
        }
      ],
      "source": [
        "#############################################\n",
        "## Rehearsal with KD\n",
        "########\n",
        "# initialise a wandb run\n",
        "run = wandb.init(\n",
        "    project=\"GTSRB-CIL\",\n",
        "    name = \"Rehearsal + KD (0.5)\",\n",
        "    config={\n",
        "        \"epochs\": num_epochs,\n",
        "        \"batch_size\": batch_size,\n",
        "        \"num_tasks\": num_tasks,\n",
        "        \"classes_per_task\": classes_per_task,\n",
        "        \"lr\": lr,\n",
        "        })\n",
        "\n",
        "# Incremental with Reheasal\n",
        "model = copy.deepcopy(copy_model)\n",
        "rehearsal_kd_incremental_learning_wandb2(model, train_dataset, train_target, test_dataset, test_target,\n",
        "                      num_tasks, classes_per_task, batch_size, num_epochs, lr, device)\n",
        "wandb.finish()\n"
      ]
    },
    {
      "cell_type": "markdown",
      "metadata": {
        "id": "7ANAj7m7D5JW"
      },
      "source": [
        "### Only Rehearsal"
      ]
    },
    {
      "cell_type": "code",
      "execution_count": null,
      "metadata": {
        "colab": {
          "background_save": true
        },
        "id": "VfY0E_A1EHdq"
      },
      "outputs": [],
      "source": [
        "# Training loop for modified incremental learning\n",
        "def rehearsal_incremental_learning_wandb(model, train_dataset, train_target, test_dataset, test_target,\n",
        "                         num_tasks, classes_per_task, batch_size, num_epochs, lr, device, non_incremental = False):\n",
        "    nclasses = len(np.unique(train_target))\n",
        "    all_classes = list(range(nclasses))\n",
        "    criterion = nn.CrossEntropyLoss()\n",
        "    current_classes = []\n",
        "    accuracies = []\n",
        "    memory_buffer = MemoryBuffer(size=200)\n",
        "\n",
        "    # Copy your config\n",
        "    config = wandb.config\n",
        "\n",
        "    wandb.define_metric(\"task\")\n",
        "    wandb.define_metric(\"incremental_accuracy\", step_metric=\"task\")\n",
        "\n",
        "    for task in range(num_tasks):\n",
        "        if non_incremental == True: # Learn from all available data\n",
        "          task_classes = all_classes[0 : (task + 1) * classes_per_task]\n",
        "          current_classes = task_classes\n",
        "          model.apply(initialize_weights)\n",
        "        else:\n",
        "          task_classes = all_classes[task * classes_per_task : (task + 1) * classes_per_task]\n",
        "          current_classes.extend(task_classes)\n",
        "\n",
        "        if task == 0:\n",
        "            train_loader = create_dataloader(train_dataset, train_target, task_classes, batch_size, shuffle = True)\n",
        "        else:\n",
        "            # Rehearsal\n",
        "            mem_samples = memory_buffer.get_samples(train_loader.batch_size * 2)\n",
        "            mem_images, mem_labels = zip(*mem_samples)\n",
        "            mem_labels = torch.tensor(mem_labels).to(device)\n",
        "            train_loader = create_dataloader_rehearsal(train_dataset, train_target, task_classes, batch_size, mem_labels, shuffle = True)\n",
        "\n",
        "\n",
        "        test_loader = create_dataloader(test_dataset, test_target, current_classes, batch_size, shuffle = False)\n",
        "\n",
        "        if task == 0 or non_incremental == True:\n",
        "            model.fc = nn.Linear(model.fc.in_features, len(current_classes)).to(device)\n",
        "        else:\n",
        "            # Expand the output layer for new classes\n",
        "            old_weight = model.fc.weight.data\n",
        "            old_bias = model.fc.bias.data\n",
        "            model.fc = nn.Linear(model.fc.in_features, len(current_classes)).to(device)\n",
        "            model.fc.weight.data[:len(old_weight)] = old_weight\n",
        "            model.fc.bias.data[:len(old_bias)] = old_bias\n",
        "\n",
        "        optimizer = optim.SGD(model.parameters(), lr=lr, momentum=0.9, weight_decay=5e-4)\n",
        "        optimizer = torch.optim.Adam(model.parameters(), lr=lr)\n",
        "        scheduler = lr_scheduler.StepLR(optimizer, step_size=5, gamma=0.5)\n",
        "\n",
        "        print(f\"Starting Task {task+1} - Training on classes: {task_classes}\")\n",
        "        for epoch in range(num_epochs): # Adjust number of epochs\n",
        "            # If logging training (but not incremental)\n",
        "            rehearsal_kd_train_wandb(model, train_loader, optimizer, criterion, device, epoch)\n",
        "\n",
        "            scheduler.step()\n",
        "            accuracy = evaluate(model, train_loader, device)\n",
        "            print(f\"Task {task+1}, Epoch {epoch+1}: Accuracy Train = {accuracy:.2f}%\")\n",
        "\n",
        "            val_metrics = {\"val/val_accuracy\": accuracy}\n",
        "\n",
        "        accuracy = evaluate(model, test_loader, device)\n",
        "        accuracies.append(accuracy)\n",
        "        print(f\"Task {task+1}: Accuracy Test = {accuracy:.2f}%\")\n",
        "\n",
        "        incremental_metrics = {\"incremental_accuracy\": accuracy, \"task\": task}\n",
        "        wandb.log({**incremental_metrics})\n",
        "\n",
        "        # Rehearsal\n",
        "        indices = get_indices_rehearsal(train_dataset, train_target, task_classes)\n",
        "        sampled_indices = random.sample(indices, min(200, len(indices)))\n",
        "        mem_images = []\n",
        "        mem_labels = get_labels_rehearsal(train_dataset, train_target, task_classes, sampled_indices)\n",
        "        for i in sampled_indices:\n",
        "            mem_images.append(train_dataset[i][0])\n",
        "        memory_buffer.add_samples(mem_images, mem_labels)\n",
        "\n",
        "\n",
        "    return accuracies\n"
      ]
    },
    {
      "cell_type": "code",
      "execution_count": null,
      "metadata": {
        "id": "BqOXhs_rEQP6"
      },
      "outputs": [],
      "source": [
        "#############################################\n",
        "## Only Rehearsal\n",
        "#############################################\n",
        "# initialise a wandb run\n",
        "run = wandb.init(\n",
        "    project=\"GTSRB-CIL\",\n",
        "    name = \"Only Rehearsal\",\n",
        "    config={\n",
        "        \"epochs\": num_epochs,\n",
        "        \"batch_size\": batch_size,\n",
        "        \"num_tasks\": num_tasks,\n",
        "        \"classes_per_task\": classes_per_task,\n",
        "        \"lr\": lr,\n",
        "        })\n",
        "\n",
        "# Incremental with only Reheasal\n",
        "model = copy.deepcopy(copy_model)\n",
        "rehearsal_incremental_learning_wandb(model, train_dataset, train_target, test_dataset, test_target,\n",
        "                      num_tasks, classes_per_task, batch_size, num_epochs, lr, device)\n",
        "wandb.finish()\n"
      ]
    },
    {
      "cell_type": "markdown",
      "metadata": {
        "id": "RUxG2TdinPT7"
      },
      "source": [
        "## Final results"
      ]
    },
    {
      "cell_type": "markdown",
      "metadata": {
        "id": "2aKBD7mNnIZB"
      },
      "source": [
        "![Imagem do WhatsApp de 2025-02-02 à(s) 23.34.38_edba3f52.jpg](data:image/jpeg;base64,/9j/4AAQSkZJRgABAQEAYABgAAD/2wBDAAMCAgICAgMCAgIDAwMDBAYEBAQEBAgGBgUGCQgKCgkICQkKDA8MCgsOCwkJDRENDg8QEBEQCgwSExIQEw8QEBD/2wBDAQMDAwQDBAgEBAgQCwkLEBAQEBAQEBAQEBAQEBAQEBAQEBAQEBAQEBAQEBAQEBAQEBAQEBAQEBAQEBAQEBAQEBD/wAARCAJJBQADASIAAhEBAxEB/8QAHwAAAQUBAQEBAQEAAAAAAAAAAAECAwQFBgcICQoL/8QAtRAAAgEDAwIEAwUFBAQAAAF9AQIDAAQRBRIhMUEGE1FhByJxFDKBkaEII0KxwRVS0fAkM2JyggkKFhcYGRolJicoKSo0NTY3ODk6Q0RFRkdISUpTVFVWV1hZWmNkZWZnaGlqc3R1dnd4eXqDhIWGh4iJipKTlJWWl5iZmqKjpKWmp6ipqrKztLW2t7i5usLDxMXGx8jJytLT1NXW19jZ2uHi4+Tl5ufo6erx8vP09fb3+Pn6/8QAHwEAAwEBAQEBAQEBAQAAAAAAAAECAwQFBgcICQoL/8QAtREAAgECBAQDBAcFBAQAAQJ3AAECAxEEBSExBhJBUQdhcRMiMoEIFEKRobHBCSMzUvAVYnLRChYkNOEl8RcYGRomJygpKjU2Nzg5OkNERUZHSElKU1RVVldYWVpjZGVmZ2hpanN0dXZ3eHl6goOEhYaHiImKkpOUlZaXmJmaoqOkpaanqKmqsrO0tba3uLm6wsPExcbHyMnK0tPU1dbX2Nna4uPk5ebn6Onq8vP09fb3+Pn6/9oADAMBAAIRAxEAPwD9U6KKKACiiigAooooAKKKKACiiigAooooAKKKKACiiigAooooAKKKKACiiigAooooAKKKKACiiigAooooAKKKKACiiigAooooAKKKKACiiigAooooAKKKKACiiigAooooAKKKKACiiigAooooAKKKKACiiigAooooAKKKKACiiigAooooAKKKKACiiigAooooAKKKKACiiigAooooAKKKKACiiigAooooAKKKKACiiigAooooAKKKKACiiigAooooAKKKKACiiigAooooAKKKKACiiigAooooAKKKKACiiigAooooAKKKKACiiigAooooAKKKKACiiigAooooAKKKKACiiigAooooAKKKKACiiigAooooAKKKKACiiigAooooAKKKKACiiigAooooAKKKKACiiigAooooAKKKKACiiigAooooAKKKKACiiigAooooAKKKKACiiigAooooAKKKKACiiigAooooAKKKKACiiigAooooAKKKKACiiigAooooAKKKKACiiigAooooAKKKKACiiigAooooAKKKKACiiigAooooAKKKKACiiigAooooAKKKKACiiigAooooAKKKKACiiigAooooAKKKKACiiigAooooAKKKKACiiigAooooAKKKKACiiigAooooAKKKKACiiigAooooAKKKKACiiigAooooAKKKKACiiigAooooAKKKKACiiigAooooAKKKKACiiigAooooAKKKKACiiigAooooAKKKKACiiigAooooAKKKKACiiigAooooAKKKKACiiigAooooAKKKKACiiigAooooAKKKKACiiigAooooAKKKKACiiigAooooAKKKKACiiigAooooAKKKKACiiigAooooAKKKKACiiigAooooAKKKKACiiigAooooAKKKKACiiigAooooAKKKKACiiigAooooAKKKKACiiigAooooAKKKKACiiigAooooAKKKKACiiigAooooAKKKKACiiigAooooAKKKKACiiigAooooAKKKKACqOm65ousPcx6Rq9lfNZSmC5W3nWQwyDqj7Sdrexq9Xyv8B/iF8L/DXh744+OfAvw8vtLbwzrV9PrEUupecdRngWRy0ZK4iBw2F5xupgfVFFfK7/t1Rv4G0/4nWXwR8VT+E5PLXUtWM8SQ2UjMFKqCN0wUnBYADORXq/xM/aG8CfDTwPpHjS8+1al/wkaxDRdPs491xfvKoZFRe3BGT2osK56jRXkngP41+MPElprdx4x+CfiDwcdIsWv4/t11DNHcoATtDp91uOhHFcv8K/2srj4wJpV54P8AhHrk2nTytHrGpSXUaW2lbc9WYAynAyQo4zRYLn0HRXzfqX7Zlt52qax4T+EfibxF4M0KdrfUvEtrJGkMRQ4dkib5pVX1FdB8VP2rfB/wx03wNrq6Lfa7pfjlytrNYsDIi7VZcR4JcsWACgjmiwXPcKK+Z/8AhtaLSvGLeA/GvwW8W6Frd7bC50Oy3R3EuqbmwigJxGTyTuJwAc9K7P4L/tHQ/FPxh4i+HXiDwHqfg3xT4bjjuLjTb6dJi0D4w6ugx/EvH+0OaLBc9lor501v9sOEaprj+AfhL4k8Y+GvC072+ta/YyxxwW7x/wCs8tG+abaOu3/A1r/Er9rbwT8P/Cfgbxza6Re65ovjm6SC3ltWAkhVkLZMeCXYEFdoI570WC57pRXgvhX9qo6p8UdM+GPjT4VeIPB0/iCJ5tFutRmjcXijnlE/1ZI7EkjvXk/iL9on43WP7XEvhPSfhn4h1DTrLTHRPDsOrQIt0uTi9y3ygY52nmiwXPtKq99qFjpdpJqGp3sFpawjdJNPIscaD1LMQB+NeRePvjx428K6kNH8M/AHxX4nuoLSO7vGgmht4IAy5KrI5IkYcggDtXB/Fj4x+HPjd+xz448XeHre5tClo9reWdyP3trOkqho2xwcetFgufTdneWeoWsV9p91Dc20yh45oZA6Op6FWHBHuKmry79l/wD5N88Af9gK1/8ARYr1GkMKK8G+IX7THizwbqOt/wBk/s9+L9b0Tw27rqWredDbRqqDczxI2WlQLzuX9K6fUv2kPhlpfwatPjjcalMfD9/Cslqix5nmlYlRCqZ5fcCuPY9qdhXPUqK8c+Gfx48XeONWW38TfA7xJ4Q0meze+ttVv7mGSF4lGcuq4aMkdjzXNWf7XN54o1a6/wCFZ/BTxR4u8N2N59iudetZooog4bDGON/mkA9RRYLn0RRXl178dLOy+OGj/BOTw1ci61fSm1QXzTqFiC9YymMk+4NR6D8erHXPjh4j+CcfhueK58O2Ed8+oG4UpMGGdoTbkfXNKw7nqtFfOfgH9r65+KF0NP8AAvwd17Vbm11VtP1Qx3cawafEJNgmeVgA2R82xQTirXjv9qbxR4Nm1fUIf2efGN94b0CV49S1l5obdY1Q4eRImy0iDqGHBFOwrn0FRXl3iz9o74a+EfhHp/xkvtQmn0bWYoW0yGGPdcXksoykSJ/f4OfTBrF8I/Hv4heIodUk1r9nnxN4fNppUuqWLXd7CyXoQAiIsozE7ZGAwJ9RRYLntdFeM6B+054V1z9n26+P/wDZU9vZ2VvPJcaa0ymWOaNivklsY3E4xx/EK9D+Hfiy48deCNG8Y3WiS6Q+sWiXYspZRI8SvyoLAAEkYPTvSsM6OiiigAooooAKKKKACiiigAooooAKKKKACiiigAooooAKKKKACiiigAooooAKKKKACiiigAooooAKKKKACiiigAooooAKKKKACiiigAooooAKKKKACiiigAooooAKKKKACiiigAooooAKKKKACiiigAooooAKKKKACiiigAooooAKKKKACiiigAooooAKKKKACiiigAooooAKKKKACiiigAooooAKKKKACiiigAooooAKKKKACiiigAooooAKKKKACiiigAooooAKKKKACiiigAooooAKKKKACiiigAooooAKKKKACiiigAooooAKKKKACiiigAooooAKKKKACiiigAooooAK+B/gj/yR39rD/sMa3/6Jmr74qJba3VXVbeMCTlwFHzfX1ppisfDswH/Dr2Pgf8gn/wBvjTPiZo+vaJ4I/Z1+NMOh3usaD4Ms7OTV7e1hMskMTRxnztg6hdp57Zr7m+z2/k/Z/Ij8r+5tG38ulL5cfl+T5a7MY27eMfSi4WPGNM/aK+Ffxm8N+J9L+HOr3mqm00W4uJ7j+z54oIyUI8su6gb/AGrz/wDYg0qbWf2TZ9Is5BFPfy6lbo/TDPlQfzNfUsdrawqVht4kDdQqAZ/KnRwxQr5cMSRr/dVcD9KLgfmX4B0nwj4J8M6p8KvjV8dviz4C1aC5uLZvD1grtZ6jE7HDW6rC4cODzk4JNeofHLwnovgmP9mfwv4dutSutMstcjS2k1KPZcsmYiPMXau1vbAr7hktLWZxJLaxO46MyAkfjTnghkKmSFHKcruUHb9PSnzCsfLPxSVT+3j8JsqD/wAU/e9vaas/wrC1x/wUO+IlskhjM3gmFNw7Ei2Ga+t2hhaQTNChkXhWKjI/GkEMIlMwhQSEYL7RuI+tK47H5mfDvQvD/wAKrHX/AIV/G748fFP4b6nbalcrDpul7zp+rQSHiWDbC+8v3yccj3A7/wCN3g3w54D+Hf7O/hrwnd6vdaRF4qhmtX1eHyrvZJufEibV2kFiMYFfectrazMHmtopGHQsgJH50slvBLt8yGN9hyu5Qdv09KfMKx8oftJf8na/Ar/r4uP/AEJKyPid4q0b4N/tvaf8R/iJNPpfhrVPDv2G31L7PJLEZxkbDsUkHkdq+x2hhkdZJIUZ0+6xUEj6HtSTW9vcY+0W8cmOm9QcfnSuOx8I/FLx/pfjD49a74X+N3jXxbpng1bGGbwto2ixXKJre9cg5hXczHI6kehIrnvgf4fvrz9jn416FpOk3ySpqVz5VnMjG4RV2NtZTltwUc9+K/Q5rW1dlka3iZk+6xQZH0pVghQMqQooflgFAz9fWncLHkH7IfiLRvEn7PHguXRrwXC2OmxWNx8rKY54htkQhgOQwIr2OvNPih8FZfiRd2NzY/Fjx94KSyiaMweFtVWyinJbO6Rdjbm7Z9K53wp+zPqHhfxJp3iKT9o34xayun3CznT9U8RLNaXOP4JUEQ3Ie4yKQHyV4m8UWfxH1/4p6P8AH7xH44ufF+nXt7aeF/BWmRXSQGEIRDOqxDay9CzMwUqCTuzU1r4J8VeJ/wBhH4ba74a0i51Y+E/EEmrXmnwIXkmt0uJg21ByxG7OPTNfov8AZbYy+ebeLzD/AB7Bu/OnRwxRR+VHEiJ/dVcD8qdxWPBNL/aP+Ffx90O++Hfw51jUZtd1fR7hWiGmzothJ5Z+SaQqFQ54GCRnvXlH7MH7QfgH4E/De3+C/wAVbbVdA8YaHeS2/wDZ39lzySX+6T5ZItikMD6kjgDGa+0IrW1gYtDbRRsepVACfypGtLWSQTSWsTOP4igJ/Olcdj4/+NnjDSfhf+1x4F+LnjNLux8J32gy2X9oG1kZYpWwQrqqlgfbGap/A7xKnjL9tD4geKrXStQsbHUvDsMll9ugaGSeEcLKEb5lVuoyAa+zpbe3uAFngjkA6BlBx+dCwQq/mLCgbG3cFGcelFwsfKP/AAT3yvgTx08aAv8A8JXeY9zgYr578SeJrH4l6N8S4fjj4k8c6j8RLGa+h0XwfZw3SW1nEq/JNsjATyxyWLtjC5wc8/pnFDDCCsMKRgnJ2qBk/hTfstr5hl+zRb24ZtgyfxouFj89dW8J+KNR/Y/+AnxA0HQ7rXLXwHqyatqmnW0ZkkkthcNlwg5bbsx7BiegNfW3wz/ac+D/AMZNaj8M+AdWv9TuntGubj/iWzpFa4xmOV2UKrnJwASDtPPTPqyxRRx+THGqoONoXA/Kq1xbSW9ncNo9raJdmNvJ3rtQvj5dxUZxnrii4JWPz38ceFPEHh/4u6x+yXptpcLoXj7xTZeJLWRV/dxWRJe5UewdBx6LX6G2Vnb6fZwWFpGI4LaNYY0HRVUAAfkK8N+FfwV+JLfFa8+OHx01nw9eeJFsf7L0qw0FJfsVhBklmVpgHZ2yeo4yeemPeaGCQUUUUhhRRRQAUUUUAFFFFABRRRQAUUUUAFFFFABRRRQAUUUUAFFFFABRRRQAUUUUAFFFFABRRRQAUUUUAFFFFABRRRQAUUUUAFFFFABRRRQAUUUUAFFFFABRRRQAUUUUAFFFFABRRRQAUUUUAFFFFABRRRQAUUUUAFFFFABRRRQAUUUUAFFFFABRRRQAUUUUAFFFFABRRRQAUUUUAFFFFABRRRQAUUUUAFFFFABRRRQAUUUUAFFFFABRRRQAUUVyHib4qeD/AAjqh0jWryaO5VFcqsDsMHkcgYrSnSqVpctNXfkYYjFUcJD2mImox7t2Ovorzr/hfnw5/wCglc/+Asn+Fdxo2r2WvaXbaxprs9tdJ5kbMpUkfQ8irq4atQXNUi0vNGOGzHCY2Tjh6kZNdmmXaK888VXGoeJPiVpvgFdSvLHS4tNfVr77JMYZbnEgSOLzFIdFzkttIJ6ZqtbalfeBfHlz4Xhvby/0i70mXU7aK8uGmkt5YiAyiVyXKMCOGJwenHFbRwblFWfvNc1vL179fTrfQ55ZpGFR3j7ilyc39707dL736W1PTKQMrZ2sDjr7V5no/wAWNcvLXw3rGqeE7ey0rxJOttDIt/5k8bsDgsgQDaSMZ3Z9QKxtG8VXPg668aa1Hpq3dsviOKK6zKUMUbIoMg+U5xnpxVrLa3vJ7rbVO7va17mUs9wvuyjdxe7s1ZcvMnZq7TR7NRXO2PixtS8YXXhuxs0ktrK0juJ7vzOjycqgXHPHOc15xrms+FY/iZ4otfHXi+902ztrO1azjXWri0VSUO4oscihm6djzUUcFOrJxlfRX0V3q10+Ztis1pYeEZxs05ON2+VJpNvWz7W9T2mkLKuNzAZ4ryjwp4+8Qab4Z8P6PqFub7XtXadrT+0Jvs4+yIx2yzvtJX5SvRSST9azfH/jC68QaDozNpKjU9I8aWNrPaW9wsiSSLll8uRtoKsrKQWC9ecVrHLKrq8j2va/4X9Lrc5559h44f2sU+ayfLZ9Una9mr2d7bntVFcBD8T5dLuvEen+NNKg06bw9YxakzWly1xHNA4bGCyIQwZSuCPTBNO0r4iatNqWm2OtaBaW6a3DJLY/ZtQE0isqbxHMpVQjFc9CwyCM1g8DXV3b8V2vp3010OpZthG1Hm1bts9Hfl10097RX36He0V51pfxVuH8Y2PhHWrLSIZtR8xUSz1T7TNA6ruCTJsAUkd1ZhnvTLf4pa3caRrfiNfC0A0zQ57i3lb7YTNK0ZwCiBMY6ZLMMe9U8vxC6duq66LqSs5wcldSel76S0sk3fTSyaPSKSuQ0HxZ4k1bR7jVptB02Vfs6T2jWGqLNFMWH3GZ1TYR3OCPQmsCz+J39v3Wt+EdQh0kXcekzXKPpuoG6ThWDI5KIVYH2I96mOCrSctPh31WhU82w0FBtv3/AIbpq/3o9ODBhuUgg0tcZ8HP+SZeHv8ArzSuzrGtT9jUlT3s2vuOvC1/rNCFa1uZJ29VcKK5PWPid4T0PUptL1C6mW4gIVwsLEA4z1A96p/8Lk8D/wDP7cf+A7/4V4FXiTJ6M3TqYmCknZpyWjXTc9SOW4ycVKNKTT8mdxRUNpdQ31rDeW7ExToJEJGMgjIrzbxhqWjw/Ei3s/E/iC40/Tf7LaQKupzWiGTeOf3brk49a6cwzGGBoxraNSaSbdlr1bs9CMNhZYio4a6Jva708j0+kLBeWIArzDw140vNH0NtzXGpR3+pPa6C11KQ00XXc8jDOwc/Mckj1qHx54outU8I63pWoWEEWoadNbMyWtx50cqNIpUq5CnnpyBivOnxJho4V10veUXLl16JytzJNapXXdWdtTqWVVnWVPpe1/mle2+jdn56Hq1FcXp3je/s9UGi+J9HgsF/s06jFLDc+d+6Thg42jaw9iw96i0/4i3d1Jpd5daTbQ6VrM3kWsi3m64QsCYzJFtAUMAejNjIzXYs7wTsnJpt2tyyutUtVbRarV2Wpg8vxHbT1Wu+2uuz2O5orgrn4lXGmeIdP0fV7HTIE1G8FmscepCS7i3bhG8kQXaASBnDnGRVuHxtq15q2uWdnoMLWvh+fy7qZrk75F8tX/doEOW5PBIHTnngjnmBk+VSd+bltyyve3Nta60Td9tGDy/ELVrS191te3fudlRXI+EvGGs+JbJNUbRrH7HPbmaJrXUBK6uD/q5FZV2t16EgEEE1S074jTT+JoPC+rWumRT3kchVbPUPtDwuq7tkq7AFJHcFhnvTWdYPkp1OZpVGlFuMkm3a26630F9Qr80o21jvqtO/U7oMrcqQaWuH+EbKvhO4ZjgDUrwk+n7w0qfFDw+3i59FPiDS/sQtQyv5o3GbdgrnOPwxU0s5w7w1HEYhqHtbWTff7vvHPA1fa1KVNc3J5Hb0VxHxc1iTRfCcOqQ30tqkeoWrSSxSFT5e/wCYZHJBHbvVDwFrFx451TUfFV1fXVvHYsbW00zzHj8lQM+ZKmQHZgcjOQBjHNTVzqnTzBZbFXqNJ79He7+Vvm32u1UMBOWG+tN2jqvnpZfO/wAvuPRqK8a0ey1RvhY3jjT9f1VNbsVubwSTahNNDMI5HzG8TsU2lRjgAjgg16Jf+JWh8BTeLI4/mGlm+VPcxbwPzqcFnUcTT9pVhy+4qi1v7r+S1VtVbtZseIwDpS5YSv7zj21X6PodAGDfdINLXmtmmq2LeF/Auk6nJp73tlLqWo3sMatM7gKzY3qVy0jkkkHgV0HgDXNR1Wz1Kw1a4+0XekX8lk0+wKZlGCrEDgEg8444q8Jm8MRVjQlBxk/Rrm5VJxvvonvZLRk1sFKlB1IyTX42u0n23Xc6qk3A5wRxXmV94kvLfxRrQ1zxJ4g0zTLOaGO3a1sEa3AK/MXlaFwBn1YVuQyx6Z8Q4Y7WXfb67p5mcgjDyR4w/HcqetTTzulWlyxjtPld2rq7cU7Jt2clpe2juOWAnBXb3jzLfsna/o+lzsqKKxfF3i7RfBOiya/4guHhs4mVGZI2c5PThQTXuRjKclGKu2cUISqSUIK7ZtUV5N/w1B8Iv+gxd/8AgDL/APE103gX4ueCviLeXNj4Xvp55rSMSyiS3ePCk46sADzXRUwOJpRc502kvI6qmX4ujF1KlOSS6tM7OisTxtPNa+DtbuLeZ4pYtPndJEYqysIyQQRyCPWvEPDfiDSJNN8DN4F8ZanqXiu6Nm+p2p1m4vVeEqPtLTRyu6xgDcdwC4IGDVYfCOvBzT/Dyvq+iKw2Cliabmns7babX1fRH0VSBlJKhgSOvtXmlx8YLkx3eu6fotnP4e0+8NnPcPf7LtyrbXkjh2kMinjl1JwcCuesfEXiTRfHPxD1Pw74ettShtzbXUz3F75C7FhJ2phWJYjkZAX3pxwFVp82lvNd0rb6blQy2tJS5tGl3XdK2+j1PbaK8+m+Kn2/+xbHwzp1tPqOsWI1HZfXX2eGCHuXcKxyTwAFOcdqVPiXqN54ZGtWekabBPb3MtrqH2/U1htbVozhj5oVmcE9NqH3xWf1St1X4oy+o11urfNf10PQKK8rtvjgl14LXxPa6LBeXKa0miy29reh4jIz7Q0cpUBgcgjIXrzir+sfEPxZpOs6Z4Wm0HQY9X1G2nu1+0avJHalUYARpIYdzykZJXaAAM5qvqVZPla116rpuV/Z+IUuVqz16rpq+p6LSFlXALAE9PeuI8WeOte8O6fZ3zaPo9mklsJrl9W1hbeOOU4AgQoshd855wF6fN2rk9S8WWvjm6+E/iuziMUeoapJIY927y3FvKrLkdcMCM9+tFPB1Jrmfw6677Jv9B0sBUqR53pHXXR6pN238j2Siub8d+NtH8FaHcX2oatY2dwYZGtVupAoldRkADIz+FHgTxto/jXQ7W+0/VrG8ufs8Ul2lrIGEUjKCVIySOc8GsfYVPZ+1t7pz/V6nsvbcvu7XOkor5z1T4n6tZ+LPE/gO01m6gutS12O1F/KXki0u2ZAMr1CMx4UcDJzXY+JNBjj8deC/Braxrjaa1ldtME1i6jknZduGeRJA7Hk9T3rsll8qdud2ur7dEr/APAO6WWSpOPtJWum1p0Ub/8AAPW6QsowCwBPT3rzvwLdatoXjvXvh7earc6jp9pbwX+nSXUhlnijk3BomkPzOAV4LZbB5JqS5uV1H4pX9xex+ZbeEtHSaBCOk8+8u4467I1UHtub1rB4ZqTjfRK/32t+aOd4Rxm430S5r+Ttb80vI9BorxbS/F3jaz0Xwd8RdV8SS3Vt4o1O3tbrSfs8Qt7aG6JEJiYKJNyHZkszA5bgcV65rMepTaXcx6RfRWd4Yz5U8sHnKh9SgZd35iprYaVGSUmtdOvTRk18LKhJRlJa3V9d07Pp0LhZV+8QKWvK/CMmrePPgj53ijUmvtSZLrN55axN5kMziNwFACkbFxj0ruPA+tS+IvB+j65Pjzbyzjkkx034w36g0VsO6PNd3s7P+vvCvhXQ5ru7jJxf9eepuUUVyGsfFLwnoepTaXf3E6z27bXCwsQD9cVglc4K1elh481WSS8zr6K4P/hdHgf/AJ+rn/wHb/Cu2tLqG9tYry3JMcyB1JGODyKGmiKOKo4i6pTUrdmTUVxGn3183xg1fT2vJzax6JaypAZD5auZJAWC5wCQBz7VjzeM77wvJ8RdclWbUI9IvrXyLWSchVVreLKrnIUZYngdafKZyxsIR5paK8l/4Cm7/gen0Vxlr421q38QadofiTw/b2S6xBJLZS29553zIu4xyAqu1tv90sMg81jxfFTX30ObxY/hO3XR7S8e1uGF9mfakhQyImzBA64LA9aOVjeOox3b69H0tfp5o9Lorh9S+Il02pX2n+GtNs70aXCs13JdXn2cfMu4JH8rbm2884HTmmR/Ei+1XVNL0rw3ocNw+qaf9vWS6uvKSNQ2GVtqsfyBpcrG8bRTtf8AB97ad9Tuiyr95gM0tec/GOS8j0vw7LFarNcjW7YrEsmFZ/m43Htnvj8Kvx/ESbS7/VdM8ZaXBp02mWP9pCS1uDPHLByDglVIYEYxj05p8ugnjIQqOnPS1temqv8AI7eiuFsviDrMU2i3HiLw5BYad4glEFnNFeebJHIw3RrMpQBdwB+6zYPFRS/FGWPwHrHjT+xVLaVqEtkLf7RxJsuBFu3beM5zjB9KOVh9do2bvsm9nslf8md/RXFal4315fFlx4T0Hw7bXctvp0eoNPcXvkxhWZlKnCM2flGMA9ecVVt/ik2paJoFxpOi+bq2vyPDDZyzbI4mjJErPIFPyrtPIUk8cUuVjeNoptX28n3S076tbHfblJKhgSOvtS15t8OJdSm8eeNG1azitrrzLUSRwy+Yn3DyrEAkfUA16TQ1Y0w9b28Oe1tWvubQUVznjD4geGvAsdvJ4iupIRdEiPZCz5x1+6DiuY/4aF+GX/QUuf8AwDk/+JpHq0MrxuJgqlGlKUX1SbR6VRWF4R8Z6D42sJNS8P3Ek0EUhiYvGyEMAD0YD1Fcj+0FqTaX4Dt7g6tc6bA+uaZDdXFvdSWzLbvdIsg8yNlZQVJBwRxQLDYCpWxkcHNOMm0tVqr+R6UzKq7mYAeppa8W8VN8Jovhn4m1bRZp/FunwxRLe2cnia9uEb94Cq7nlcxnIzlcE4x0rpb/AMfeJIPFd14H8K+ErS7fT9Ig1L7Rd6iYYgjFl8s4R33fIMEAg55IoOmWU1JR5qV9G78yjC1lHvJ/zL8LN6peiUV5pD8ZI9R8P+HLrSdJiOs+JDIkNndXXlQwNESJWklCn5FKnkKSeOOa6TwT4wm8UR6ha31jBaalpVx9nuo7e48+EkjKskmAWUj1UHg8UHPWyzFYeEqlSNknZ6q+j5dr3tfS+1zp6K8Z8L+NvHVjqHxF1bVrGwudP0S6lZI/7TmZ0KRbljjUxbQp7nIwexrrpPiRJGPBX/EoU/8ACWsVb9//AMe2It/Hy/P6dqDavk+Joz5VaXo1/Lzvr0R3FJuXdt3Dd1x3rya++MviaDT/ABD4gtfBNq+keF9Sls76aTUtsssaSBWkhQRncQDkqxXpgE1px6n4f/4W5e3UHh4f2ovhaK8OpG6ky8BlfEPlfcGCud3XmgHk+IpxcqqtZN6OL1XLo/e0+Jd35b29HorybQvjN4i1DS/CPijVPBdtY6F4suoLKORdS825hllVtjGMJtMZZcA792CCVHSk8VfGTxNpcPiLU/Dfg/T7/TPDV9Hpt1Jeak9vNJM2zcY41ifKKJF5JBPOAe4Wsixzq+x5Vfb4o2vzctr3te+lr3+R61RUNm9zJaQyXkcUc7RqZFiYsitjkKSASM9yB9KmoPIas7BRRRQIKKKKACiiigAooooAKKKKACiiigAooooAKKKKACiiigAooooAKKKKACiiigCOa4it1DTNtB46VD/aVn/z2/8AHT/hUOsf6mP/AHv6VxfjTVNa03SG/wCEftYJb6bKRtPcRxJH/tHeRu+goA7r+0rP/nt/46f8KfDeW87eXFJubr0NeR/DTUfGiq+j+LVt7jaC8N1HeQyv7qyqxJ9jivStJ/4+v+An+lAGzRRRQAUUUUAFFFFABRRRQAUUUUAFFFFABRRRQAUUUUAFFFFABRRRQAUUUUAFFFFABRRRQAUUUUAFFFFABRRRQAVRvNC0TUJvtGoaPY3MuMb5rdHbH1IzV6impOOqJnCM1aSujK/4RPwt/wBC1pX/AIBx/wDxNaMEENrClvbQpFFGNqpGoVVHoAOBUlFNzlL4mTClTp6wil8jk/FHhLUbvxBp/jLwzc20GsafE9q6XQbybq2cgtG5UFlwRuBAOD25qlY+B9Yu9W1XxV4mvbR9UvbE6daw2xYwWkJ5OGYBmZm5JwOgFdzRW8cXUjHlXa1+tr3t/Xpscs8uoTqOo76u9r6c1rXt3t/nvqecw/DPVI/Cvg3QTqFqZfDd5FcXD/NtlCE5CcZzz3qza+B5NNh8aLrNxbS6br8j3KlN3mRjy8EMCMcYyME13tFW8dWd7vf/AD5vzMo5ThoWcVsrfdHl/I87+COi32n+E21XVmZ73VZjMzspDGJfki4PI+UCrd18N01TXvFV5q8sEun+IrOC1WNQd8RjUjccjGQSCMHtXc0Up42pKrOtHRy/DVNfdZDpZXQhh6eGn7yh+Ls02/W7+88uu/hbrup2Og3mtSaJqus6Ar26i9iMlteW7YH7wMpKPwDkA859at3nw51LUNJ0u1TTvDujy2PiC21aSPTYikTxRZ+XhFJc56kYr0air/tCtp5bfn+pmslwqvo9Uk9d7JK9972S6nA658Mf+Ei8ReJb7U7uP+ztf0WHSvLTPmxsjOxfkYx8wx9KpaR8NdSt7X+zbrQ/CFoFtJLX+09OtfLvGYoVWQDywEPc4Y969LoqVj6yjyX00/BW/IqWT4WVT2nLrrfzu7/m3seV6D8L/FFjdeExdTaFa2fhiQsYrJZN1yTGVMhJUYY8EjnOTzW94d8H+IvDHh/V7CwvNOkvb/Uri9haZWaEJI2drjGc444rtqKKmPrVfitb082/zbChlGGw+tO99db90o/kkeTP8H9WvbfxGzyaTo761BFEllppk+yb0bJdxtXluhwvT1q/p/w58SN4gj1jUptFs7aHRZdIis9PV9se7owJUZHfGBj3r0qireZV5Jpv+rJfkjOOR4OElJJ6ee+rl+bfl+Bzvw/8P6h4V8I6d4e1KW3lmsY/J8yAsVZQeD8wBziuioorjqVJVZuct3qenQoxw9ONGG0UkvRFK40XRruZri60iymlb7zyW6Mx+pIzUf8Awjnh7/oA6d/4Cp/hWjRXI8Jh5PmlTV/RHSqtRaKT+8aqrGojjUKqjCqBgAVzN94PbUPGDa9dPBJZSaa9hJAwJZtzA56YxiuoooxGFpYqMY1VdJp/NDpVp0W3B6tWPOZPhnqVzoVrpN9d2F22i3Zm0s3EZkR4u0UykY6HGRntVi+8BahqXh6+0pNJ8OaRNcyQsh0+MhSqMGO87FJ6ccV31FeZ/q/gknGzs48r13VuVa76LTfa19jq/tLEaO+zv873/PU5PVPBcmqeJLfVLi4j+xrpMumzRjO9t55I4xjFZfh34e3WgtaWP9ieF5rezbC6h9m23jIAdpwEwHHHzbu1egUVrLJcHKt7fl9697+ttNenur+myVj6yh7O+lrfn/mzy+z+GXiS30/SNFF1o8drpWrx6nJOiyGe9KyE5kyOH2nrls+wFdRo/hnVdHv/ABRqFvd2pl1q6W4tdysRFiJUG8d+VzxXUUVOGyLB4RxlTveO2u1ouK+6Lf576jq5jWrXUra76eaf5r9DzuL4daxeapearetpeky3WnS2Un9klwLiR/8AlrICq8g5I6nnrSaP8P8AxBbX3h2S6k0a1tNAVk8mzV8zFoypkJKjBJ5I9zzXotFZx4ewUZKVne9993dS1+aT0tfrcp5niGuXS223k1+TOc8DeHb7wvpdxpt7NBKHvJriJ4i33XbdhgQMEe1Xl0FF8Sv4k+0tue1Fr5W3gANndnNatFejSwNGjRp0Ir3YWt5W2OaeIqTnKo3rLc53x14Zn8WaPDplvLDGUvILhvOBKsqNkjgd6huPCt9b+LovEuizW8Udzb/ZdShk3DzQv+rdcDG4cjntXUUVnVy3D1qrryXve67/AOG9rfe0+6bRUMXVpw9mnpr+Nr/kvmea2Hw/8YL4STwHeahpkGlu0gubm3eRp5IWdmKBWUKuc4JyeM12euaDDqHhW98N24EUc9i9pH/sgoVX8uK16Kyw2UYbC03SjdpxUNXf3UmlFeWr8+5dXHVq0lN6WfNp3fU8+sNN1fXrLw54s0eS3g1fSbd7G6t7wMqPwElQkAsCGTIOD+taGj+GPE2gWK/2bfaa19fai19qkkyOUZW6pFjkYAABPpXY0VFLJqNNqcpPntunbWyTkl0bUUn5erHPHTl7qS5e2+l27eibOQ1/RPG2uWt7oUl5pA069bYbgLIJ0hPVfLwVLe+4fSo9P05ZvHFuLdX+y+HtOFoHYcNI+OAe5Ciuzoq5ZVTlUVVybd09XfSLbS8kpO/VvYSxklBwsrWe2m+jf3aBUF7Y2OpW7Wmo2cF1A/3opow6H6gjFT0V6qdtUcibWqMT/hB/BX/Qn6J/4L4f/iauaboOhaOzyaRothYtIAHa2tkiLAdM7QM1foqnUnJWbZbq1JKzkzN8SaZLrXh/UtHgkSOS9tZbdWf7qllIBOO3NcTF8M9Y0u38H32i39lHrHh2zi028Z9wivbXYFkjJALdRuXI4I969Ioq6eInSXLHb/gWNKWJqUY8sdv+Bb8jyey+D8mg6hdx6Z4Z8GapY3V414lzqlpm7g3tudciNt4ByVJYdcVvWvw/1C3vvGl19rtQniWNI7ZV3fucRFPm46ZPau6orSWMqz3f9XT/AENZ4+tP4n/V0/0R5NN8GZo7bw7fR2egatqWjaeNOuLfVIPMtZ4+u5SUZkYHodvNWL/4Z6zMfD+p2GjeE7e60a4mmbTY0eOwYvjbIu2PPmLjqU7npXqNFV9erPd9/wAb/wCZX9o13u77/jfT8WeSx/CLxJJot5ZX2tadJd3nimHxA0kaOqBEdWZMYJ3cHHauj+IXhbxF4qt5NKt9K8Manpk1s0fk6ssm+GYgjzUZUbnB7bSMdeeO3oqXjKjkpvdf8D/Ih46tKanK11/wO3oeV2vws8TaFrGi6vpWpabqtxp+gx6K1xq5kaSB1YlriLAbLMGIIJUkKo3daTRfhNr2jaH4IsV1SwnufC2pTXlwxDqk8chlzt4JDASDg8ZHWvVaKp46s1Z/l6r9WW8xrtWbX3eTX/tzKWtaaus6TeaS0xiF3C0JcLnbuGM470aLpq6No9jpKzGVbK3jtxIRgtsULnHbOKu0Vy8z5eXocXPLl5Om559b/CuG4j8aW2tPbTQ+Kbrz42jU74gEAUkkdQwBGKz28DfEaO+8L659t0K91HQLae0m86aaNJ1fAV8hCQ2F5GOteo0V0LGVVvr/AMNb8jrWPrLez/4bl/I5Hwb4N1DR9W1XxV4iv4bvWtZMay/Z1Iht4kGEijzyQOTkgEk9KpTWf9l/FO5a6jY2XirSktw2CR58BbKH0zHJkf7pru6Kn6xJycpdVb/L7rIz+tScpSl1Vu3p91keWaR8LfE0MHh7wtrGp6bP4b8L3wvrRo94urjys/Z0kUrsUJuySCc7RwK66GP4gx6fqq3T6FdXcl2/9mqGlijW1ONqynax3gZyQMHiulooqYmdV3kl93nd/f1HUxlSs7zSfy87v7+p5XoGleKvhr8M7/Rdej025aFZhZnT5JJHmlnkZgpV0XHLgDBNd14M0RvDfhPSdCkIMllaRxSEdC4X5v1zW1RRVxEq17rVu7/r7xVsVKunzLVu79f6v94VRuND0W6lae60exmlb7zyW6Mx+pIzV6iuc5JRjL4lczf+Eb8O/wDQA03/AMBY/wDCtBEWNRHGoVVGAqjAAp1FARhGHwqxyWteGNaj8WQ+MvDE1l9qazNheW94zpHNGGLIwZAxDKSe3INcj438J6lo/wAMPF93fXC3er65Mt5ceQrGNDuRUjQHkqqqBkgE8163RVKVjlq4KnVjJbXv8m1Zuxw1r4V8Ratrml+IfFFxYJHo1s4tLezZ28yV02mRy6jGF6KM9TzXIeD/AAv4s8S+C7nw7JNZWekXWq3RnkbzPtPl+eSyhCu3n1z36V7RRRzEywFOUrtvrfzvb9FY861H4Y/Z9fu9a0fR/D2pJfxRpJDrEG7ynRdoZGCMcEYyuB0rVsPBl5a+LNO8Rf6BbwWmmNZPbWyFVDls5QYAC12FFLmZccFRi7xXW/z3OW8feFdS8U2enR6XeW9vPp9/Hehp1Yq2zPy8epNZjfD2/wDEV9rGqeM7q283UtP/ALLihsWYpBCcktuYAlixz0xwK7yijmaKnhKVSTnLW/3djz+38D+KNQfQLDxPf6a+neHp1uYzbbzLdSRjbEXDABAMknBOTWXqXwx8WzeHdc8G6fqWlJpep6hJfxzS+YZ13yCQxsoG0fMD8wJ4AGOc16pRT5mZyy+jJWd9dN+lrW+45a38J3kPjm+8VNcwm3utJi09YxneHV2YseMY5rndO+GOuaPpfh+bT9Rsm1fQLi5kXzN4gmimdiyEgbl4I5weRXpdFLmZcsFSl+P4tP8ANI5Hwf4X1zSde13xBrlzZPLrLQsI7XcVi2KRjLAZ7c111FFDdzalSjRjyx8/x1Kt9pWl6oqpqem2t2qHKieFZAv03A4ql/wiHhP/AKFfSP8AwBi/+JrXopHRGtUgrRk0vUr2OnafpsJt9Nsbe0iJ3bIIlRc+uFGK5z4keELzxrodlpdjdQwSW2rWGoM02cFILhJGUYB5IUge9dXRQXRxFShWjXg/eTv8zl/ib4TvPHHgbVfCthcw289/EI0kmzsUhgecAntVWy8E31r4+1Txa15Abe/0WDTEiG7erxu7FjxjB3CuyooNaeOrUqLoRfuu/wCPLf8A9JR46PgbOvhnw7bzrompar4duLqRIr+DzbK4jmkZmRgykqcMMMFOCK73wP4em8P6fPFc+HvDmkSzS7vJ0SLZEVxxuOxCzde1dLRQbYnNcTjKbp1ndNt/e235bts86Pw71yPUvFllDcaedD8WB5JnZ5BdW8rR7DtXaVYd+WFZ2l/Djx5JeeDzr2paGtr4SkbYtr5rPcoYygYllAVuny8jrzXq1FBazjEpNabW2/u8t/Xl0/4J5jcfCnV5vA/jbwuupWYn8T311dW8nzbIllYEB+M5GOcZrVt/AOoQ+NrjxO17bmCbw5Fooj+beJVd2L9MbfmHvxXc0UESzbFSUot73vp3UU//AElHl9r8KdYg+H/gPwg2pWZuPCeoWF5cyjdsmWDduCcZyc8ZxXHSaTdSa34z+IUeg6TqNvYaw7sNUv7q3YG2ijUD7PGjRSAFcozgscj0FfQNFB1Uc9r03KVRX5r31t8UuaW2urXy8zN8N6tLr3h/TtamsZbKS+tY7hreX78RZQdp9xmtKiig8WbjKTcVZduwUUUUEhRRRQAUUUUAFFFFABRRRQAUUUUAFFFFABRRRQAUUUUAFFFFABRRRQAUUUUAUNYBMKYBPzf0rzr4pfCnwv8AF7wnceE/FdjvifLW9wq/vbWXHEiHsfUdCODXqlFAHzp+zz+zL4c+BdhNeM66r4ivNyzai0eNkWeI4wfujGMnqT7V7npSsLrlSPlNbFFABRRRQAUUUUAFFFFABRRRQAUUUUAFZuveItF8Mae+qa9qEdnaR4DSyA4GSAOgPc1pVzHjpplsYGt9NW/fzBi3bGH5HrxUzqQoxdSpdxWrtq7LstdfkXTjzzUX1+X49B+h/EjwH4kJXRPFWnXLA42iYKSfYNgmujznkcg14J4r+Hei+IGa5n+E97p14Tu+06fcJG2fXA61yVnoHxl8ITf8UtrWuJbK2Vt7qMyr+I71yrO8lqL3a0oPtOnUX48tj1Hl0Zu0br1cZL74u/8A5KfVNFfOtn8fPiX4ZkS28Z+D7e9Xu8OYJW99rcfkK7DTv2mPh7OsaazFqejzOM7bq2O38GHX8q7aPJiYe0w01UX913/Df8DOplGKg7Rjzf4Wn+G/4HrVFcbZfGD4d6gu628S27D6E/yFaEXxC8Fzf6vxFanPqSP5ivNeb5fGfs5V4KS6OST+69zmlgcVH4qcvuZ0VFZMXizwzN/q9esT9Z1H8zVmPWtHk/1erWb/AO7Op/rXRDGYap8FSL+aMnRqR3i/uLtFRR3VvL/q7iN/91galroUlLVGbVtwooopiCiiigAooooAKKKKACiiigAooooAKKKKACiiigAooooAKKKKACiiigAooooAKKKKACiiigAooooAKKKKACiiigAooooAKKKKACiiigAooooAKKKKACiiigAooooAKKKKACiiigAooooAKKKKACiiigAooooAKKKKACiiigAooooAKKKKACiiigAooooAKKKKACiiigAooooAKKKKACiiigAooooAKKKKACiiigAooooAKKKKACiiigAooooAKKKKACiiigAooooAKKKKACiiigAooooAKKKKACiiigAooooAKKKKACiiigAooooAKKKKACiiigAooooAKKKKACiiigAooooAKKKKACiiigAooooAKKKKACiiigAooooAKKKKACiiigArG8Qf6yy/67Vs1jeIP9ZZf9dqaA2aSlopAUNW0HR9ct2ttW02C6jbtIgNcBq3wTslEknhfUnsvMzutbhBPbuPQq3P616dRW9LEVKHwM5K+BoYiXPOPvLZrSS9GrM+bNc+FmnabIZfEngOeyK/d1Pw5KQE/wBow9M/hU+h+GdcmG7wH8Q9I15Aw/4l+vWqibHoXxu/IV9FsoYYYAiuZ8QfDjwj4jYz3mlpFddRc258qUHsdy9fxrpniaGLXLiqafqlJfdL9Gjenj85wS5aVb2sP5am/wApJX+9fM8tk1jUNDYR+PvgPmMNta80VRcIfcRjLY+pFaeh+JP2f/ETC3hvLbTrno1vebrZ0PoS3yg/jXQf8I38SvCfPhvxFHrlkn/Lnqg/eY9FkH/1qydU8QeAdcePTfip4BXS7n7qyXlqJIsnOdkoHH1H51xz4fyfFe99Vg/8KV//AAGSv9x0w4pop8uOjOg+6k+X723H/wAmj6HTp8MfBN7CtxZ+eY35WSG8cqR7EHBpP+FU6NH/AMe+qapD/u3Tf1rl7f4I+GWQ6r8M/G+r6GXGVawvzNCx6/MGJJHsCKk8n9obwpnybzQvGFqmPlmj+yXJHoMfLn3ZjXnS4RySo/3dOCfnHkf4afievHE1K0b4fFXT/m0/HWP4nS/8K3mj/wCPXxnrkR9pgf6Un/CD+KI/9R8QdUP/AF0w1c8vx7i0V/J+IXgPX/DjKdrXBh+0Ww/7argfkDXaeHfiN4F8Vqn/AAj/AIp0+7d/uxCYLL/37bDfpWNThHC0Vzezkl3jOdvvUrEVZ5hRjzVI3Xfli199mjM/4Rn4hQ/8e/jxW/66WYb+tH9m/FSL7viXTZx/tWgX+VdtRXN/YGHXwVKsfSrU/WTOT+0Kn2oxf/bsf8jiv+Lsw9Doc+P729c/kKT+1vipF/rPDujyj/pnO4/ma7aij+xZr4MVVX/byf5xYfXYv4qUfuf6M4n/AISf4hRf67wIkn/XK6UfzNH/AAnXiaPi4+HeoL7pcI38hXbUlH9l4yPwY2fzjTf/ALYH1qi/iox++X/yRxf/AAsi4j/4+PBWuJ/uw7/5Uo+Kmjr/AMfGh67Cf9uxP+NdnSGONvvID+FH1HNI/Di0/Wmv0aD2+Fe9L7pP9UzkF+K/hD/ltNdw/wDXS3YVNF8UvAkv/MfjU+jRuP8A2WumNtbnrBGf+AioJdI0ub/Xafbv/vRij2GdR+GvTfrTl+lQOfBPeEl/28v/AJEzI/H3g2b/AFfiK05/vNj+Yq1H4q8Mzf6vxBpx/wC3lB/M02Twl4Ym/wBdoNg+f70Cn+lVJPh74Ll6+HLFf92IL/Kj/hbj/wA+n/4Gv/kg/wBhf86+5/5GvHq2lTf6rU7R/wDdmU/1qwkscnMcit/unNcvJ8L/AATJ/wAwcL/uSuv8jVaT4S+D2OYYbuI/7N3J/U0e3zqO9Cm/SpJfnTD2eCf/AC8kv+3V/wDJHaUVxP8AwqvS0/499b1iD/cujx+Yo/4Vzew/8enjrxBH/wBvAI/lR9fzSPxYT7qkX+aiHsMK9q33xf8AwTtqK4n/AIQnxZH/AMe/xC1D/trGH/rR/wAI38SIf9R4+if2k09T/U0f2rjI/FgqnydN/wDt6D6rRe1aP3S/+RO2orif7P8AitF93xBpM/8Av223+Qo8z4uQf8svD1wPdpAf5Cj+25L48LVX/bqf/pMmH1JP4asH8/8ANI7aiuJ/tj4pRf6zwvpU3/XK4I/maP8AhKviBD/r/h4ZB/0zvo//AK9H9v4dfHTqr/uFU/SLD+z6j+GUX/29H/M7aiuJ/wCE88RR/wDHz8O9TX/rnKr/AMhR/wALLkj/AOPrwT4ijA7raFh/Sj/WPLV8U2vWE1+cUH9m4npFP0cX+TO2orjrf4reEWkEV9Nd6dIf4bu2ZT+ma37HxJ4f1PH9n61ZTk/wrMu78s5rrw2cZfjHy0K0ZPspK/3bmVTB4ijrUg0vQ0qKKK9E5gooooAKKKKACiiigAooooAKKKKACiiigAooooAKKKKACiiigAooooAKKKKACiiigAooooAKKKKACiiigAooooAKKKKACiiigAooooAKKKKACiiigAooooAKKKKACiiigAooooAKKKKACiiigAooooAKKKKACiiigAooooAKKKKACiiigAooooAKKKKACiiigAooooAKKKKACiiigAooooAKKKKACiiigAooooAKKKKACiiigAooooAKKKKACiiigAooooAKKKKACiiigAooooAKKKKACiiigAooooAKKKKACiiigAooooAKKKKACuU+IWir4g0uLSWvJ7Xz5Btmgba6MCCCD9RXV1jeIP8AWWX/AF2pounUlSmqkNGtUcLaeNPFfw5uI9H+JETX2mM2y312BOPYTL/Cff8AnXpljfWepWsd7p91HcQSruSSNtysPqKW7s7W/t5LO9t454ZVKvHIu5WB7EGvNL3wP4m+H91JrXw1naexZt9xoszEqfXyieh9v/1Uj1f9mzLtTq/dCX/yL/8AJfQ9RorlfBvxE0TxejW8Zez1KHi4sbj5ZYyOvB6iuqoPMr0KmGm6dWNmgooooMgqC6srO+ha2vbWKeJxhkkQMpHuDU9FNO2wmlJWZwV98I9JhuDqHhDUr3w5edd1nIfKY/7UZ4x7DFVxrfxS8J/LruiQeI7JP+XrT/knA9WjPU/T869ForpWLnLSqlJee/37nmPKqUHzYWTpP+7t84u8fwv5nJaH8SPBniRvsa3y21191rS9XypAfTDcH8Kq+IPgz8MvFGZtQ8KWaTOdxntQbeQn1LRkFvxzW5r3gzwz4mj2azo8E7dpNu2Rfow5Fcs3gLxh4Z/eeB/FsrwLyLDUv3kePQN1Fa05U781Cbg/P/NfqjSljczy98zXMu8Hyy+cW/yl8jKHwc8YeG/m+HvxY1iyjT7tnqareQf7oBxtHvgmk/4S347+FRjxJ4B03xHboObnRrkxyY9TG4yx9lUVsRfE3U9DcW/jzwvdadzt+126+dbn3yORXYaP4i0PXoRcaPqlvdIf+ebgkfUdRWlSpWir4iCmu9v/AG6NvzPTw/EFHGy5KijKXaS5Zf8AtsvzOE079oTwFJcDT/EK6n4bvehg1WzeIg/UZAHucV32la9ouuW4utF1azvoT/y0t5lkX81NP1LR9J1m3a01bTLW9gf70c8Kup+oIrgNW/Z++Ht5cG+0a3vdAvc5Fxpdy0JH0XlR+AFY/wCyVO8H/wCBL9H+Z2f7DV/mg/lJfo/zPS6K8mHgv42eFefDHxDttct0+7a61B82PTzFyzH6kUD4tePPDuE8d/C3UUjX713pbC5j+pUfdH1NH1Jz/gyUvnZ/c7B/Z8p/wJxn87P7nZ/dc9ZorhdB+Nnw28QMsMHiSG1nbjybwGB8+nz4z+FdtDcW9ygkt5o5VPIZGBH6VzVKNSi7VItepy1aFWg7VYteqJKKKKzMgooooAKKKKACiiigAooooAKKKKACiiigBKMD0paKAIbiztLqMx3NrFKh6q6gj9awL74c+C9QyZtAt42P8UGYj/44RXS0VyYnAYTGK2IpRn/iin+ZtSxFaj/Dk16OxxH/AArFLL5tA8Va1puOiLcb4/8Avk9fzo/sn4p6b/x5+JtN1RF6LeW3lk/inJ/Ou3orzf8AV3BU/wDd+an/AIJyiv8AwG/L+B0f2jWl/EtL1Sf42v8AicR/wlXj7Tv+Qt4EFwo/5aWNyD+SHJp8fxW8PxMI9YsdU0t+h+1WrAD8sn9K7SmSQxTKVljV1PUMM5o/s7MaP8DFt+VSEZfjHkf4h9Yw0/4lG3+FtfnzIyLHxp4V1LH2PXrN2PRWlCt+Rwa2FkjkAZHVgehBrEvvA/hLUsm60G0LHqyR7GP4rg1jt8K9Ht2L6LquqaW3b7PdNt/I8/rR7bOaHx0qdRf3ZOL+6Sa/8mDkwc/hnKPqk/xTX5Ha0VxH/CN/EPTf+QZ4zju0HSO8tx/6EMmj+3PiXpv/AB/+F7O/QdXtJ9n6Nk0f226X+9YepD/t3nX3wcvyD6lzfwqkZfO3/pVjt6K4lfida2vy654d1bTyOrSW5K/mOv5VqWPxA8H6hgQ65box/hlPln8mxW1HPstry5Y1op9m+V/dKzIngMTBXcHby1X3o6KioYby1uFD29xHIp6FWBzU1etGSkrxdzlaa3CiiimIKKKKACiiigAooooAKKKKACiiigAooooAKKKKACiiigAooooAKKKKACiiigAooooAKKKKACiiigAooooAKKKKACiiigAooooAKKKKACiiigAooooAKKKKACiiigAooooAKKKKACiiigAooooAKKKKACiiigAooooAKKKKACiiigAooooAKKKKACiiigAooooAKKKKACiiigAooooAKKKKACiiigAooooAKKKKACiiigAooooAKKKKACiiigAooooAKKKKACiiigAooooA5v4g+NLfwH4al8QTWj3LCWO3hiVtu+SRgqgseFGTyax9F+IGtx+KU8J+MtHsbG4udPbUraexu2niaNThwxZVKkfTB9ao/Hye4/4QlNN8pRYanew2mo3LR7/stux+aTHYjjntnNcD4b8MWfhj4kHw/wCDfEU3iax1nQZ4ZJrqf7TLpwVcRqJQcBWLH5TzxVpJoDsP+F0awuix+PG8LQjwfJeC1+1faj9qEZk8sXBi27fL3EfxZwc4r1aORZI1kQ5VgGB9jXzbNqtnN+zevw7jdT4ilaPRRp5/163AnXJ29cAAtnpivovToWttPtreQ5aKJEb6gAUSVgLNY3iD/WWX/XatS4t1uECOzqAc/K2DWHrVlHDJahZJTvkwdz5x9KlAdDRVJdJgVgwmuDj1lNTfZI/78n/fVIDl/GXw30fxUy6lbyPpurw8w31v8rg9t2PvD61gab8QNe8G3kegfEy12ozBLfVoVzDL6b/7pr0f7JH/AH5P++qq6loOl6vZyWOp24ubeUYaOTkGg9Khj04Khio88On80f8AC/0ehct7m3vIUuLWZJYpBuV1OQRUteT3nhPxZ8Npm1DwXLNqmi53TaXI53xDv5Z/pXX+EfGHh3xlbmTTbqWO5j4mtZW2yxnuCpoJxGAcIe3oS56ffqvKS6fk+jOpoqD7JH/fk/76o+yR/wB+T/vqg88noqD7JH/fk/76o+yR/wB+T/vqgCeioPskf9+T/vqj7JH/AH5P++qAJJIo5kMc0aujcFWGQa4/WPhT4Z1Cc32mLNo971E9i5j568qODXWfZI/78n/fVH2SP+/J/wB9VrTrVKLvCVjnxGEoYuPLWipev6djgtvxV8Jfda28TWKev7q4A/kav6T8VvDd5MLHVln0a94BhvY9nPs3Q1132SP+/J/31VDVPC+h61CYNVsY7lD/AM9Bkj6HqK39vSq/xo691p+G35HF9SxOG/3Wrp/LP3l8n8S+9mlDPDcRiW3mSRG5DK2QaeQDwRkV57cfC280hjceB/El5ppHP2eVzJCfbB6VAvizxh4ZIj8ZeGpp4F63mnsXX6leopfVVU/gyv5bP+vRh/aUqGmMpuHmvej961XzSOr17wF4N8Tqw1zw7Y3TMMeY0QDj6MOR+dcTP8BNP01jP4G8Wa14ekzlY4rgyQD6ox5/E12Og+LPCviNR/ZmsK0neJ5Nrj6qea3fskf/AD0k/wC+qFXxGG9y7Xk9vuZ7eEzOo4Xw9S8fW6+7VHlvl/tAeFfuyaR4rtk7N/o85Hufu0+H48Q6XILfx14N1rQXzgytAZYSfZl5P1xXp/2SP+/J/wB9UybTbW4Qx3CmRG4KtyD+dV9Zpz/i016r3X/l+B1fW6VT+NST84+6/wDL8DG0H4ieCfEyg6L4ksbhj1j80Bx9VPIrolZWAZWBB7iuG1z4KfDnXmMtx4fign6ia2PlMD6/LgZrnpPg74w0HMngb4lanAq/dttQPnxn2JPIH0o9lhqnwTcX/eX6r/IXscJV/h1HF/3l+q/yPW6K8f8A+Ei+NHhf5fEPg2DXYF63GmTFXI9kNXtN+OXgWaUWuvf2noNznDJfxMiqf97pSeBrbw95eWv/AARSy6vbmppSX913/wCD+B6lRWRpereH9biWbSdahu0boYpw2fw61ofZI/78n/fVcri4u0jilGUXaSsT0VB9kj/vyf8AfVH2SP8Avyf99VIieioPskf9+T/vqj7JH/fk/wC+qAJ6Kg+yR/35P++qPskf9+T/AL6oAnoqD7JH/fk/76o+yR/35P8AvqgCeioPskf9+T/vqj7JH/fk/wC+qAJ6Kg+yR/35P++qPskf9+T/AL6oAnoqD7JH/fk/76o+yR/35P8AvqgCeioPskf9+T/vqj7JH/fk/wC+qAJ6Kg+yR/35P++qPskf9+T/AL6oAlZVbhlB+orMvvCvh3Us/bNFtJCf4jEM/mOavfZI/wC/J/31R9kj/vyf99VlWw9HER5a0VJeauXCpOm7wbRys3wr8M7jJp7Xmnuf4ra4Zf55qH/hDfGGn86P44uGUf8ALO6jD5+rHmuw+yR/35P++qPskf8Afk/76ryZcO5bfmpU/Zv+43D/ANJaOtZjidpS5v8AEk/zOP8AtnxS03/XabpupoveGQxsfzpf+FiX1n8uueD9TtfV403oPxrr/skf9+T/AL6oNnGerSH/AIFS/snFUf8Ad8XNeUlGa/FKX/kwfW6U/wCJSXyuv+B+Bztn8SvB91hW1P7Ox/huEMePzretdW0u+Xfaahbyg/3ZAarXfhnRL7P2zT4ps/31BNYtx8LvCUzeZBay2r/3oJSpovnVD/n3UX/b0H/7eg/2Kf8ANH7pf5HW9elLXDt8PdWs/m0XxlqMOOiTHzB+tRGx+J2m/duLDUkHYkxsfx6Uf2tiaX+84Wa848s1+D5v/JQ+qU5/w6sX63X5q34ne0VwX/CXeILH/kM+Db8AdXtpN6irFt8RfCch2XdxeWT9xcRsoH49KqHEOWt8s6nI+004f+lJCeXYlaxjdeVn+VztaKxrLWPDuoANZ61DLn0mFaK20LLuWV2B7h69WlXpV481KSkvJ3OScJU3aSsWKKg+yR/35P8Avqj7LH/z0k/76rUknoqv9li/56P/AN90fZ4f+ez/APfdAFiiq3k2/wDz3b/v5SeTbf8APwf+/lAXLVFVfLtf+fk/9/KTbZ/8/X/kWgV0W6Kp7bP/AJ/B/wB/aP8AQf8An8H/AH9FMOZFyiqWbD/n+X/v8KN2n/8AP8v/AH+FAcy7l2iqO/Tv+f8AT/v8KXdp/wDz/L/3+FAuaPcu0VT/ANB/5/B/3+FG2z/5/B/39oHzIuUVU8u0/wCfr/yJS+Va/wDPwf8Av5SC6LVFVvJt/wDnu3/fyl+zw/8APZ/++6B3LFFQfZY/+ekn/fVH2SP+/J/31QBPRUH2SP8Avyf99UfZI/78n/fVAE9FQfZI/wC/J/31R9kj/vyf99UAT0VB9kj/AL8n/fVH2SP+/J/31QBPRUH2SP8Avyf99UfZI/78n/fVAE9FQfZI/wC/J/31R9kj/vyf99UAT0VB9kj/AL8n/fVH2SP+/J/31QBPRUH2SP8Avyf99UfZI/78n/fVAE9FQfZI/wC/J/31R9kj/vyf99UAT0VB9kj/AL8n/fVH2SP+/J/31QBPRUH2SP8Avyf99UfZI/78n/fVAE9FQfZI/wC/J/31R9kj/vyf99UAT0VB9kj/AL8n/fVH2SP+/J/31QBPRUH2SP8Avyf99UfZI/78n/fVAE9FQfZI/wC/J/31R9kj/vyf99UAT0VB9kj/AL8n/fVH2SP+/J/31QBPRUH2SP8Avyf99UfZI/78n/fVAE9FQfZI/wC/J/31R9kj/vyf99UAT0VB9kj/AL8n/fVH2SP+/J/31QBPRUH2SP8Avyf99UfZI/78n/fVAE9FQfZI/wC/J/31R9kj/wCekn/fVAE9FVzbwjrM4/4HTTHajrckf9tKAuWqKpn7COt4B/21FNL6cOt+g/7bCmLmXcvUVQ87Sx11KMf9tx/jUbXmjL97Voh/28D/ABosLnj3NOishtW8Pr97WYR/23FRtr3hlfva7AP+24osS61NfaX3m3RXPt4m8Jr97xDbj/ttUbeLvBq/e8SWw/7bUWJ+s0V9tfejpKK5dvG3ghf+Zltz9Jajbx54HH/MwRn6OaOVkvF4df8ALxfejrKK5BviB4JH/MaY/TJpjfETwWv/ADE7g/RGp8rJ+u4Zf8vF96OyorhZvil4Dt/9dqlwn+9Gwqs3xi+Ha/8AMYnP/ATTVOT6B9dw7+2vvPQ6K87k+LXhRo99jFqV2f7scZ5rG1D4wakUP9i+B9Tlf/pvJtH6CqjRlL+rFRxmHntUX3nrtFfP978SvjDfH/iV+GbWwH/TRZJf8Kzvtnxm1Rv+Jj4j1K0VvvJY2Ix+G7muhYNfaqRX4/kmdMamE3nXivvf5Jn0e8iRrukdVHqxxWZqHivwzpMfmalr1hbr6yTqP614PH4LkvGLa5cePdSz95ftHlo34A1paf4B8E2beYvwn1i7c/xXEhc/zp+ww0fim36L/NlfWsrh8VaUvSD/AF/yOj+IP7Q3gzwzoNxdeG9VtNY1IYWGGJ9yZPdmHGBVb4D/ABo1b4nSX1hrmnwQ3NqglWS3BCMpOMEHOD+NZXizT9Kj8K3djb/CpbGGRQryyQrhB65HOaufs8WNnpn9o21hpcUMbqrNMoOSc/dye1bSng1hpQjB8/Rsf9t5S4/UqVOTqS1Un0/L8n6ntVFFFeWZhRRRQAUUUUAFFFFADJoYbiJoLiFJY3G1kdQysPQg9aq6fouj6TvGk6TZ2Qk+99ngWPd9doGau0UAUv7F0f7f/av9k2f23/n5+zr5v/feM/rV2iigArG8Qf6yy/67Vs1jeIP9ZZf9dqaA2aKKKQBRRRQAVxPi74ZWOuXQ1zQ7ltI1uL5o7uDgOfRwOortqKDfD4mrhZ+0ouz/AD8n3R5tonxI1LQb6Pw38S7P7DdHCQago/0e57df4TXo8ckcqCSN1dG5DKcg/jVHWtB0nxFYyabrFjFcwSDBV1zj3Hoa85fS/GnwpkNxoLTa94cDbnspG3T247lD/EBQeh7PD5j/AAbU6n8v2Zf4X9l+T07PoerUVh+FfGWg+MLIXmj3iuy/62FuJIj3DL1FblB5lWlOjN06is10YUUUUGYUUUUAFFFFABSMqsNrKCD60tFAHL678OPCuvMZ5tPFvc9VuLc+W4P1FYf9gfEjwp82g64ms2i/8u17w4HoHr0SiumGKqRXLLVdnqedVyzD1Je0guSXeOj+fR/NM4Oz+K1nbTCz8XaTd6JcZ27pULRE+zCuzsdSsNShFxp95DcRno0bA0t5p9jqMLW99axTxtwVkUEVxl98KdPhmN94V1O70S5zuH2dz5ZPup4qv9nq94P71/n+Zn/woYXtVj/4DL/5F/gd3RXnf9ufErwr8ut6PFrtmnW4s/llA9SvetvQviT4T15xbx3/ANkuv4re6XynB/GpnhakVzR95d1r/wAN8zSlmmHnL2dS8JdpaP5dH8mzqaoaloWjaxEYdU0u1ukPaWIN/OrwIYBlIINLXOm4u6PSjJxd4s811T4B+B7qVrrR1u9EuTz5lhO0fPuM81Q/4Q34zeF+fDfjqHWLdPu2+pxfMR6Bh/OvWaK61jq1rTfMvNXO2OY17ctR8y/vK/56nky/Fnx14dPl+OPhteKi/eutObzk+uOtdBofxq+HevSC3j15LO4P/LC8UwuPwau4ZVbhlBFc/rvw/wDBviRCms+HbK4z/EYgG/Mc0/a4ap8cOX/C/wBH/mV7bCVf4lNxf91/o7/mblvdW15GJrW4imjPRo3DA/iKlryq4+A1np8huvBXivWNCmHKrFcF4/8AvluAKi2/H7wp92XSfFFsnZwYZiPqOpo+rUp/wqi9Ho/8vxD6pRqfwaq9Je6/1X4nrVFeVQfHeLTJBb+OPBetaHIOGk8nzovruXoK2r34weFGtYG0G5/tK5u+IIk+TJ9y2MVlUwtal8UdPvX3o48XSngYqddWT2e9/S253E00NvG01xIscajLMxwBXGah4+uNSuG0vwVp7X8/3WuWGIY/x71DB4T8QeKpFvfGd+Y7cncmn27YQD/aPeuz0/TbHS7dbXT7WOCJBgKi4rHRHmXxGK+H3I/+TP8Ay/M5FdJ+KTKC3iPTlJ7eQeKP7G+J3fxRYfhbmu3oo5ivqMP5pf8AgTOJ/sP4lHr4qsx9IDR/YPxI7+LLb/vxXbUUcwfUYfzS/wDAn/mcT/wj/wARj18Xw/8Afmk/4R34h9/GMf4Q129FHMH1Gn/NL/wJ/wCZxP8AwjXxAP8AzOgH/bEUf8Iv4+/6HZv+/IrtqKOYPqFPvL/wKX+ZxP8Awivjv/oeJf8Av0KP+ET8cfxeO5/+/S121FHMw+oUu8v/AAKX+ZxH/CIeNj18fXX/AH7Wl/4Q3xifvePrz/v2tdtRRzMPqFH+9/4FL/M4n/hCvFh+94+vv+/a0n/CD+KG+94+1D/v2tdvRRzMf1Cj5/8AgUv8zif+ED8Rd/H2o/8AfC0n/CA6938eal/3ytdvRRzMX1Ch2f8A4FL/ADOI/wCFf61/F461I/gKP+Fe6t38ban+ldvRRzMP7Pw/Z/e/8zif+Fd6j/F401Q/8CFJ/wAK5ve/jHVD/wADrt6KOZh/Z+H7fi/8zif+Fb3B+94u1U/9tKr3Hwltbz/j71+/mH+2wNd9RUySmrSV0NYChHVL8X/mebr8ENBVgw1K8BHdWxU0nwmZU22PizVIcdB5hI/nXoVFYrD0oK0IqPpp+RbwlF/Er+rbPIr74W+OIW3WfiqW4QfwtM6k/jmqH/CM+KtPb/ia6brM6jq1pfs3869sorzqmWVubmoYmpF+qkvukn+Z0Ro4O1qlCL+9fkzxiFfCats1S+8T2L9/Nd8D8RxWzY+H/AepY+y+NL1yexvmU/rXpM1rbXC7ZreOQejKDWNfeB/Cuo5NzotvuP8AEq7SPyrPkzqh8NSnUX96Li/vTa/8lL+o5TPek4+jv+dvzMaL4Y6BMu6PWtUkHqt6xH6U/wD4VXoX/QS1U/8Ab21Enwv02Nt+k6tqNi3by5yQPwPFM/4R34gab/yDfFqXSr0W7i3E/iKP7UzCj/vGFb84SjL8Hyv8A/sbLp/w5L/t5Nflck/4VXoHe+1M/wDb01L/AMKr8O/8/Won/t6aov7c+I2m8X3hu1vlH8VtLhj+B4p6fEy2tzt1jw/qlie58neB+IoXEeDjpXcqb/vxlH8WrfiH+r8H/Dpxl6NP8L3Hf8Kr8N95r8/9vLUv/Cq/DP8AfvT/ANvDVoWPj/wjqGFh1qBX/uyZUj8627e8tLpd1rdRTD1jcN/KvSw+YYfFq+Hqxl6NP8jnqZTSo/xKNvVHKf8ACq/C/wD09n/tu1L/AMKt8K/88rk/9tmrsKK6+ZmX1DC/8+19xyH/AAqzwn/zwn/7/NSH4WeFeyXQ/wC27V2FFLmYfUML/wA+19xx3/Cq/DPZrwfS4ak/4VX4b7TX4/7eWrsqKOZh9Qwv/PtHGf8ACq/D/a81If8Ab01H/Cq9B/6CGqD6XbV2dFHMxf2fhf5EcX/wqvRf4dV1cf8Ab21J/wAKt0v+HWtXH/b21drRT5mH9n4X+RHE/wDCrrH+HXtYH/b01H/CsLYfd8RauP8At5au2oo5mL+z8N/IcR/wrJB93xNqw/7eDS/8K1Yfd8VasP8Atsa7aijmYf2fhv5fxZxP/Ct7j+Hxbqo/7aUf8K6vh93xjqg/4HXbUUczD+z8P/L+L/zOJ/4V7qX8PjXVB+IpP+Ff6wPu+ONTH5V29FHMw/s/D9n97/zOJ/4QHXv4fHepf98rR/wgniT+Hx9qP/fta7aijmYf2fQ8/wDwKX+ZxH/CE+Kh93x9f/8AftaX/hDfGC/d8fXn/fta7amllX7zAfjS5rD+oUfP/wACl/mcX/wiPjYdPH10frGtJ/winjr/AKHqY/8AbJa7I3Nuv3riMf8AAhTG1CxX717APrIv+NS60Vu0NZdTe3N/4FL/ADOR/wCEX8eDp42c/WEUf8I18QB08aA/WEV1batpa/e1K1H1mX/GmNrmir97WLIf9vC/41m8XRW8196Gssi9ub/wKX+Zy3/CO/EQdPGER+sNL/YHxHHTxbbn6wV0beJfD6/e1qy/7/L/AI1E3i/wwv3tctP+/grOWY4WPxVY/ei1lMnsp/fIwf7D+JQ6eKrM/WCj+x/icOniawP/AG7mtlvHHhFPva/af99VE3xC8Fr97xDa/r/hWMs4y+PxV4f+BR/zLWTVXtGp98jK/sn4pD/mYtMP1tzR/Z/xUXpruln/ALdzWg3xK8EL/wAx6A/QN/hUZ+KHgv8Ah1bd/uxmsnn+VrfEU/8AwKP+ZSyPEPaNT75FT7H8Vl6avpJ/7YGjyPiuP+YhpB/7YmrJ+KPhH+G6nb/dgY00/FLwv/Ct+3+7asah8RZUv+YiH3or+wsV2qfeyDy/isP+XrST/wBsjR/xdYf8tNJP/ADUjfFPw/8A8s7HVn+lm1N/4WjpZ/1eiaw3/bo1T/rLlX/P+I/7BxX9/wC8bv8AisP4dKP4GjzviqP+XfSj+Jp3/CzIW/1fhnV2/wC2BFJ/wsa4b/V+D9Wb/gIFL/WXLOlS/pGT/JB/YOK/ml/4EhPtPxU/58dLP/AqPO+Krf8ALDSk/M0v/CwtUP3PAuqMP95RR/wsS+X/AFngrVV/I0f6y5b/ADP/AMAn/wDIh/YWK/nl/wCBRG7fis3/AC20lP8AtmTR9l+KzddU0lf+2Bp3/Cytv+s8K6sv/bPNL/ws+xX/AFnh/WF/7dWNH+suV9aqXqmvzQf2Bie83/28M/sv4pP97xBpi/S3NH9h/ExvveKrMf7sBqQfFPQx/rNM1dP+3NqePin4Z/ii1Ff961YVS4kyp/8AL+P3i/sDEfyz+9kP/CO/ERvveMIx/uw0n/CL+PG+944cf7sQqyPil4T/AIp7lf8AegYU4fFDwZ/FqhT/AHoyKpcRZW/+YiH/AIEhf2DW/kn98ir/AMIf40b7/j67H0jWk/4QbxQ3+s8fX/4RrV9fiZ4Jb/mPQj6hv8KmX4heC3+74htf/Hv8K0jnuWy2xFP/AMCj/mS8jmt6c/vmZf8Awr/Wm/1njnUj+AFH/Cur5vv+MtUb/gWK2V8ceEX+7r9p/wB9VMvi7wy/3dcsz/20FbRzXBy+GtD/AMCj/mQ8mS3py/8AJjA/4Vqx+/4q1Zv+2xFH/Cr7Vv8AWeItXb/t5aukXxJ4ff7utWX/AH+X/GpV1vRm+7q1kf8Atuv+NbLG0JfDUj96IeU0lvTf4nL/APCrdJP+s1jV2/7e2p3/AAqvQP4r7U2+t01dSuqaY33dRtT9Jl/xpk+taNajdc6tZRD1kuEX+ZrWNaM3aMriWV0P+ff4HNj4V+Gf4pL5vrcNS/8ACrPCf8UNw31mapNU+K3w50fK3/jDTkI7LJv/APQc1ztx+0J4D5XS4dW1Rz937JZM6t+NdcMLiZ/DF/cdNPIvaaxof+SnQf8ACrfBv8Wns31kNPX4YeCl/wCYOh+rH/GuT/4XD4w1P5fDvwn1eTPSS6dY1/EcGk/tb9oLWP8Aj10HQtGQ/wAUkhlb8jWn1Osvjkl6yRssgpx+OMI+rj/wWdkvw28FL00GH8z/AI08+AfBcKl20W2VR3boK4r/AIQX4z6t82sfE5bPd1XT7YJj86cvwDs7xhJ4g8aeINSb+LddGMH8Fpewox+Oqvkm/wDIpZVl8PjlH5Rv+iOhvrX4U6SpkvptGhC9d0yk/lnNc3ffET4E6edsdxZXjj+C1tzKfyxWxYfAn4Z2LiVvD6XUg/iuGMh/U11Gn+DfCulqFsPD9jDj+7CufzxRfCR/ml9y/wAylhsrp/YcvlGP+Z5c3xS8G3DbfDvwv1bVBnhlsBGD/wB9ClXXviJqXy6L8F9OtUf7r30iqR9QBXsscEMShY4UUDsFxUlH1mjH4aX3tv8AyKU8FD+Hh4/Nt/lY8ZXwj8atWO2e48MaRGe0NmHcfQ09fgX4h1Mf8VH8Rr+VT/yzt4UiH5gZr2Oij69UXwJL0SH9dlH+HCMfSK/yueWWX7OfgKFR/aEmo6i3c3F0zA/hXT6b8K/h/pIUWfheyG3oWTd/OusorKeLr1Pim/vM54uvU+KTKtrpem2QxZ2FvCP+mcYX+VWPLj/uL+VOorBu+5zvUbtX+6Pypdq/3R+VLRSATaPQUtFFADJYo542hmjV0YYZWGQRUVlp9jp0ZhsLOK3QnJWNQM/lViigXKr83UKKKKBhRRRQAUUUUAFFFFABRRRQAUUUUAFY3iD/AFll/wBdq2axvEH+ssv+u1NAbNFFFIAooooAKKKKACkIB4IyKWigDgvFXwxiur0+JPCF42ja0nzeZFxHMfSRRwfrUPh34nTW1+vhn4g2X9k6r92OY/8AHvce6t0Feh1k+I/C+ieKrBtP1qxjuI2+6SPmQ+qnqDQepSx8a0FRxq5oraX2o+j6ryfysaqsGUMpBB5BHelryjPjb4Svz5/iHwwp+tzaL/7MBXoXh3xPonirT01LQ76O4ibqAfmQ+jDqDQY4rASoR9tTfPTe0l+T7PyfyNWiiig4QooooAKKKKACiiigAooooASsXXPBfhrxEm3VNKhkftIFw6/QjkVt0VUJypvmi7Mzq0adePJUimvPU88/4QXxd4ZPmeC/FMrwr/y5X/7xPoG6inQ/EzUtFZbfx14ZutPPQ3VuplgPvxyB9a9BpksMM6mOaNXU9QwyK6frSqfxop+ez+//ADPO/s2VDXB1HDyfvR+56r5NFHR/EGi69ALjR9Tt7pDz+7cEj6jqK0a4zV/hV4av5zfaas2k3udwnsn8s59wODWf/wAXU8J/xW/iexTs37q5A+vQmj2FKp/Clr2lp+O35B9cxOH/AN6pXX80PeXzj8S+Vz0OiuM0n4reGb64Fhq3n6Le5wYL5DHz7N0NdJqGuaRpdj/aV9qEEVvjIk3ghvpjr+FYVKNSk7TVjro43D4iLnTmmlvrt69vmX6xPEPi/Q/DUf8AxMLrdO3+rt4/mkc9gAK52TxJ4q8ZMbfwjZtp2nk4bUblcMw/2FrY8PeA9I0OT7dNvvtQf791cHc5Ptnp+FTa25n9ZqYjTDLT+Z7fJdfyMGbT/FnxCBXUoho2jP8A8scAzzL/ALRPSptQ+CPw91Kxhs59H2NCuFnjkZJR77gc13lLVQrTpu8HY6MNSeGmq0ZNz/m6/Lt8jyU/CHxl4dPmeA/iTqNsi8ra337+L6c8/nSf8Jh8bvC3HiLwTZ69br96fTZdkhHqVPH4AV63RXT9dlP+NFS9VZ/erM9b+0JT/jwjP1Vn96szyr/hfKr/AK74c+KUPcCzLY/Sl/4X/pa/63wN4sX/ALhrn+lepbV/uj8qPLT+6Pype2w3/Pr/AMmYvb4T/nz/AOTP/I8uH7Qnhof63wr4rT/uFP8A408ftDeC/wCPRfEyf72lt/jXpht4T1hQ/wDAaabO1PW3jP8AwEUe1wv/AD7f/gX/AAA9tg/+fT/8C/4B5uP2hvAX8Vtrif72nMP604ftDfDn+KbUk/3rJhXon9n2J62cJ/4AKadL009bC3/79ij2mF/kf/gX/AD2uC/59y/8C/8AtTz8ftDfC/8Ai1a4T/etXFOX9ob4T/xeJgn+9C/+Fd4dH0k9dNtT/wBsl/wpraForfe0m0P/AGxX/Cjnwn8kv/Al/wDIh7TA/wAkv/Al/wDInFr8fvhG3/M4W6/WKT/4mpl+Ovwlf7vjay/FJP8A4muobwv4dk+9olkf+2C/4VC3gvwnJ9/w9YH/ALYL/hRzYP8All96/wAg5sD/ACz/APAl/wDImGvxq+Fkn3fGlh/4/wD4VMvxe+Gcn3fGenf99kf0rQb4f+CpPveGNOP/AG7r/hULfDTwDJ97wlph/wC3df8ACi+D7S/D/IL4HtP74/5Ea/FT4dP93xjpn/f4VMvxI8Av93xhpX/gSv8AjVdvhT8OH+94M0o/9uy/4VC3wd+F8n3vA+kH/t2X/Cj/AGP+9+Af7D/f/A1F8e+CH+74u0j/AMDI/wDGpV8ZeEG+74q0c/8Ab9F/8VWA3wT+Fr/8yXpg+kIFQt8C/hY3/Mo2S/7q4otg+8vuX+YcuB/mn9y/zOqXxV4Yb7viPSz9LyP/ABqRfEOgN93XNPP0uU/xrjW+Avwub/mWYl/3XYf1qNv2f/he3/MDdf8AduHH9aOTCfzS+5f5hyYH+eX/AICv/kjul1jSG+7qlmfpOv8AjUi6hYN92+tz9JF/xrz1v2evhk3TS7pf928lH/s1Rt+zr8NW6WmpL/u6jMP/AGajkwn88v8AwFf/ACQezwX/AD8l/wCAr/5I9KW4gb7s0Z+jCn9a8ub9nP4e/wADaun01Kb/AOKqP/hnPwUv+r1DW0+moSf40eywv/Px/wDgP/2wexwf/P1/+Af/AGx6tRXlP/DPPhtf9X4i8QJ9L96P+Gf9LX/VeMvEifS9NHscN/z9/wDJf+CHsMJ/z+f/AID/AME9Woryn/hQsa/6v4ieKU+l2P8ACj/hRl8v+q+Kvi1PpdL/APE0eww//P3/AMlYfV8L/wA/v/JWerUV5T/wpbxEn+p+MHi1frcL/hR/wqHxsv8Aq/jR4n/4FKD/AEo+r0P+fq+5/wCQfVsP/wA/l90v8j1aivKf+FVfERf9X8Zdc/4EAaP+FZ/FJf8AV/GPUP8AgUAP9aPq9H/n6vul/kH1Wh/z+j90v8j1amPFHINskasPcV5b/wAK7+L6/wCr+MEp/wB+xU/1pP8AhBPjan+r+L0B/wB7S1P/ALNQ8LSf/L2P/k3+QfVKXSvH/wAm/wDkT0C+8K+HdSBF5o9rJn1jFYlx8LfDrN5li93ZP2MEzAD8Olc1/wAIh8eY/ufFTTn/AN7SV/xo/wCEd/aEj+78RNGk/wB7SkFebiOHMsxb5qqpt97O/wB/Lc6aaqUtKeJj98v/AJE3/wDhD/GGn/8AIH8bXDKPupdIJBR9u+KGm/6/TdN1JB3jYo5/DpWB/Y/7Q6f8zjoEn1sAP5Cj7D+0UvTXvDcn1tiP6Vyf6rUaf+64qVP0qSa+6akvwNb838SdKX4fikjoB4+12P8Ad3XgPURKOoSRSPzpf+E88QN/q/h/qJ+syD+lc95X7Rif8vHhWT/eVx/IUfaP2j4/+Yf4QlA9ZpR/7LT/ALBzDb+0Pwp//Ih7HD9I0/8AwOX+Z0P/AAmnjBv9X8P7v/gVwlJ/wlfjpvueBWX/AHrhf8a5/wDtj9oqL73hfwlL9Lmaj/hJv2gk/wBZ4D8Ov/uXcn9TR/q9jnvj3/5S/wDkA9jT6Qp/+Bv/AOSOg/4ST4ht93wfbr/vT/8A16P7c+Jjfc8L6aP96dq5/wD4TP46R/6z4Z6Y/wDuX3+Jo/4T740R/wCs+Ecb/wC5qCf1NH+rWMe+Nl/4FS/+RD2T6U6f/gX/ANsdB/aXxUk+7oejp9Zno8/4rN/y56Mn0dj/AErA/wCFlfFqP/W/BS7Yf7Gow/40n/C2fiLH/r/gjq3/AAHUIj/Sj/VfEvfFVH/3Eh+iD2VX7NOn/wCBR/8AkjoNvxWb/lrpKf8AASf6UfZfio3/ADFtLT/thmsD/hcni9P9d8GdeX/duEb+Qo/4XZrSf674S+Jl/wB1Q38hR/qpWe9eo/8AuL/kw9niulKH/kr/AFN/+zPik/3vEunr9LQUv9g/El/v+MbVf920/wDr1z//AAvaVf8AXfDHxav+7ZFv5CgfH7T1/wBd8P8AxlH/ANwpzR/qjJ/FOq/+4sv0kL2eO6Uo/wDgMTf/AOEZ8ft9/wAbAf7tvj+tH/CI+NG+/wCOrkf7sYFYQ/aG8ML/AK7wn4vjP+1pLf404ftEeCP+Wmk+I4/9/TGH9aP9T4vdVH/3Eqf/ACQcuY9KS/8AAY/5G3/whPilv9Z4+1P/AIDgUf8ACA60/wDrfHesH6Mv+FYw/aK+HX/LRtWj/wB+wcU4ftGfCv8A5aaxcx/79o4/pS/1OpdaVR/9v1H/AO3CtmfSm/8AwBf5Gx/wrm6b/WeMtYf/ALaD/Cj/AIVnG3+s8Sas3/bastP2ivhC33vFiJ/vW8n/AMTViP4/fCCT7vja1H1hlH/slJ8HYX7WHk/Xnf6ibzVfYl/4D/wC5/wq7TW/1msao/8A28tSr8KtA/jvNRb63T/41FH8cPhRJ93xtY/irj+a1Onxi+GEn3fGmm/i5H8xU/6oYFb4X74v9SHVzRfz/c/8hV+Ffhcfe+3N9bpz/Wnr8LfCY6287f707H+tSR/FT4cyfd8aaV+Nwo/nU8fxG8Ayfd8ZaN+N7GP5mj/VbL4/8wkf/AP+AZvEZit3P8SuPhj4PHXTi3+85NPX4a+DF/5gsJ+tXU8ceC5P9X4v0VvpqEX/AMVUy+LPC0n+r8S6U30vIz/Wq/1dy+P/ADCx/wDAF/kZvE47rKX4lFfh34MX/mX7Q/VKlXwL4RX7ug2g/wC2Yq+viDQZPua1YN9LlD/WpV1TTZP9XqFs30mU/wBatZLgYbYeC/7dX+Rm8Tius5feygvg7wwn3dFtR/2zFSr4X8Pr93SLUf8AbMVoLcQSfcmRvowNSVosvwkNqUV/26v8jJ4it1k/vZQXQdGT7umWw/7ZipBpOlr93T7cf9sxVuitVhqK2gvuRDqzfVlYadYL0s4R/wAAFPFnaL0toh/wEVNRVKlTW0V9wueT6kYt4F+7Cg/4DTvLQfwD8qdRVqKXQV2JtX+6Pyo2r/dFLRTsITA9BRtX+6KWigBNq/3RSbV/uj8qiur+xsU8y+vILdP70sioPzJrmtU+LHw30fP2/wAZ6Wu3qI5hKf8AxzNXCjOp8EW/ka06NWr/AA4t+iOpMMLdY1P4Uw2dq33reM/8BFeaz/tFfD9iU0ePV9YboBY2DyZ/PFQf8Lg8aan8vhv4P61Nu+7JeSrAPxVgD+tb/wBm1n8ULetl+Z1LLsX9qPL6tR/No9POn2LdbOE/8AFMOlaY3XT7c/8AbMV5n/av7Q+sf8e+g+G9FjP8UszyyD8OQaP+ED+M+rfNrXxXFoD1TTrNYiPo2f6VLy6iv4koL8fyTKWF5P4laK+bf5JnpEmh6KwLSaba4HJzGtYWpXPw001WbUrzQ4MdVeWMH8s5rlF+AGn3zb/EnjTxHq7HlvOvCoP/AHzitfT/AIE/C+wIb/hGYbph/FdM0x/Niazll+Wfb970gv1/yLTw9PetJ+it+b/QxdS+JHwFs2Mf2uxu5f8AnnbWzOx/TFY0vxA8C3zbPD/wk1rUyehNj5Kn8TkV65p/hLwzpSiPT9BsYFHZIVH9K1I4YoxtjjVR6AVjLL8n/wCgVS9eX9EUsfRp/Cpv1n/kl+Z4O0HjPV/+QP8AA/TbBW+62oXH/wAQaj/4VD8UtWP+kXXh3RkbqtvbGUj6E4Ne/wBFZPL8r+zg6S/7cT/O5azvEQ/hpL73+bZ4bafs13MzB9a+IGqSeqW+I1/xFblv+zb8PVUC+/tK8bu0t7Ic/hnFerUV1U5+wjyUYqC7RSj+SRjPOcdU3qP5afkeZx/s8fDGH/U6M6n185j/ADNXYPgx4Us/+PF7u3x08uYiu/orysTk+BxkuevTUn3dyP7Vxr0dWX3nEj4X2af6rXtUT6Tmj/hW0i/6vxZq6f8AbX/61dtRXL/q3lfSlb0cl+TJ/tLFfzfgv8jif+Fe6mv+r8cayv8AwNf8KP8AhB/Eif6rx9qg/wB4j/Cu2oo/1dy9fDGS9Jz/APkg/tHEd1/4DH/I4n/hD/GS/wCr8d3Z/wB5QaP+EX8fL/q/G5P+9AD/AFrtqKP9XsGtpTX/AHEqf/JB/aFbtH/wGP8AkcT/AMI/8SF+74ytj/vWmf60f2X8UY/u+JtPf62grtqKP7AoL4atVf8AcWf/AMkH1+p1jH/wGP8AkcT9l+Ki/wDMW0t/+2GKMfFZf+Wmkv8A8BI/pXbUUf2GltiKq/7ff63D68+tOH/gJxP2j4rr/wAuWjP/ANtGH9KP7T+Kcf3tC0d/pM1dtRR/YtRfDiqv/gUX+cQ+ux60o/c/8zif7e+JS/e8K6e3+7O1H/CTfEBfveC4m/3Z/wD69dtRR/ZGIW2Mqf8Akn/yAfW6fWjH/wAm/wAzif8AhLvHC/e8BSt/u3C/1NH/AAm3iqP/AFvw+vf+A3CV21JR/ZeNW2Mn/wCA0/8A5APrVF70Y/fL/M4v/hYGsr/rPAepr/20U/0o/wCFjXS/6zwbqy/Rc/0rtMD0o2j0FH9n5ktsY/nCH6JB9Yw3/Plf+BSPOfEHxYuLDS5ZrTw3qEE/Co9zCRGpPcmpfhd481bxY91a6tHGzwqJFkjXbxnGCBxXdX2n2WpWslnfW0c8Eo2ujrkEVV0Xw5ovh2J4dH0+O2WQ5bb1b6k81wQyvOo5pTxM8XzUUnzRty3evRaP13Ru8VgnhZU40bTezvc0qKKK+rPKCiiigAooooAKKKKACiiigAooooAKxvEH+ssv+u1bNY3iD/WWX/XamgNmiiikAUUUUAFFFFABRRRQAUUUUAIyqylWUEHsa888RfDG4tdQfxR8O78aPq33pYf+Xe69Qy9AT6ivRKKDpwuLq4SXNTe+63TXZrqcF4V+KEN9fDw34usW0TXU+XyZuI5v9qNuhz6V3nWsPxV4M0HxjY/Y9ZswzLzFMvEkR9VbqK4WPV/GnwpkW18RLNrvhwHbHfRrme3Xt5g7getB3fVqGYe9hPdn/I9n/hf/ALa9ezZ6vRVDRtc0rxBYpqWj30V1bydGRs/gfQ1foPKnCUJOMlZoKKKKCQooooAKKKKACiiigAoopCccngUALUc00NvE01xIscaDLMxwAPrXM674/wBN02f+zdLhk1TUW4W3t+cH/aPQVmw+D/EHiqRbzxtfmO3zuTTrdsIP98jrVJdzjni05ezoLml+C9X+m5U8Ta9p/jIyaD4d8Nw63Jna9zPH+4iPruPU/SsmP4I6ja2cFxZ+IkF9A3mLDLAJLbPXbtP869UsdPsdMt1tdPtY4IkGFVFwKs1pCvOnpF6dnqvuOWeU0sVL2mK1l5e7b0tr97PO4/G3i7wri38ZeEWe3Tj7dpf7yPHqU6iup0Hxp4Z8TIG0fV4J3xkx7tsg+qnmtplDDawBB7GuY174b+E9fkNzNp4trvqtzanypAfXI6/jWvPQq/HHlfdbfc/0Y/YY7C/wZqpHtLR/+BL9V8zqKK88/sP4meE+dD1uLXrNP+Xe/wCJQPZx1P1qxY/FbTYZlsfFml3ehXR4/wBIQmIn2ccUnhJPWk1JeW/3blRzWnB8uKi6b/vbfKS938bnd0VXs9QsdQhW4sbqK4ib7rRuGB/KrFczTWjPSjJSV47BRRRSGFFFFABRRRQAUUUUAFFFFABRRRQAUUUUAFFFFABRRRQAUUUUAFFFFABRRRQAUUUUAFFFFABRRRQAUUUUAFFFFABRRRQAUUUUAFFFFABRRRQAUlLRQAlGB6UtFACbR6Cjap6qKWigBhhhPWNT+FNNrbHrbxn/AICKlop3HcgNjZnraQn/ALZimnTdPPWxtz/2zX/CrNFHMw5mUn0XSJP9Zplq31hX/Cq7+FfDcn+s0Oxb6wL/AIVq0U1OS6lKpNbNmG/gfwfJ/rPDOmt9bZP8KryfDfwDJ/rPB+kt9bVP8K6SirVaovtP7y1iKy2k/vZyb/Cf4ayf6zwLorfWzT/CoH+DPwrk6+A9GH+7aqP5Cuzoqliay+2/vZSxeIW1SX3s4Vvgf8KW/wCZL09f92PH8qhb4C/Cpv8AmVIF/wB12H8jXoFFV9cxC/5eP72Wsfil/wAvJfezzlv2ffhW3/Muuv8Au3Uo/k1Qt+zr8K2/5g94v+7qM4/k1emUU1jsUv8Al5L72Usxxi/5ey+9nlrfs3/DI/6u11RPpqU/9Wpn/DN/gJf9Td61F/u6jJ/U16rRVf2hiv8An4/vK/tTGf8AP2X3nlX/AAzv4XX/AFPiTxHF/u6g39aP+Gf9NX/U+PPFcX+7ff4ivVaKP7QxP84f2ni/52eVf8KHkX/U/FTxnH9L1f8A4mj/AIUnr0f/AB7/ABk8Zp9btf8A4mvVaKPr+I/m/Bf5B/aeK/m/Bf5HlX/Cn/Gqf6r41eKP+ByhqT/hVXxIT/U/GrWf+2kSt/WvVqKPr9by/wDAY/5B/aWI8v8AwGP+R5V/wrX4tJ/qfjTc/wDbSwVv/ZqT/hAPjbH/AKr4zQn/AH9HQ/8As1erUUfXqvaP/gMf8g/tGt2j/wCAR/yPKT4N+Pg/dr8W9PKngt/Y0eQPzpP+FOeMdU/5Gb4xeIZ1P3o7Mi3Q/hzXq9FH1+qvhUV6Riv0D+0qy+FRXpGK/Q8vtf2dfh3HJ52ppqeqS92ur6Rs/UAgH8q6TS/hT8OtHw2n+D9Ljcfx/Z1LfmRmusoqJ4zEVPim/vM6mPxVXSVRv5srw6fY2yhbezhjC9NkYGPyqfFLRXO3c5W77hRRRSEFFFFABRRRQAUUUUAFFFFABRRRQAUUUUAFFFFABRRRQAUUUUAFFFFABRRRQAUUUUAFFFFABRRRQAUUUUAFFFFABRRRQAUUUUAFFFFABRRRQAUUUUAFY3iD/WWX/XatmsbxB/rLL/rtTQGzRRRSAKKKKACiiigAooooAKKKKACiiigApkkcc0bRTRq6OMMrDIIp9FAbHmusfDfVPDt8/iP4Z3Yspyd02muf9HuPXA/hNavg/wCJmn69cHRdZt30jW4flltLj5dx9UJ+8K7Wub8YeA9C8ZW4F/CYrqLmC6i+WWJuxBFB60cbTxcVTx2vaa+Jev8AMvx7M6SivK7XxV4t+Gtwum+OI31PRy22HVolyyDsJB/WvStN1TT9Ys47/TbqO4glXcro2QaDmxWBqYW0/ig9pLZ/5PyepaooooOIKKKKACiqWqazpui25utTvI4Ix/ePJ+g71x8niLxV4yc23hW0bT7A8NfXC4Zh/sLTSuc1bFQovl3l2W/9ep0XiDxfovhxB9uuN07fcgj+aRz7AVzYt/Gnjj5rqR9D0pv+Wa/6+Vfc9q2/D/gXSdEkN7Nuvr9+Xubj5mz7Z6V0lO6Wxj7Gtif47tH+Vfq/8jK0Hwxo3h238nTLNUJ+9I3LufUnrWrRRU7nbCEaceWCsgooooKCiiigAqtfadYalCbfULOG4jbgrIgYfrVmimm1qhSipLlkro4O8+FNlazG98I6td6JcZzthcmI/VDxUH/CQfEbwr8viDQ49ZtF/wCXmy4kx6lP8K9DpK6Vi5S0qrmXnv8AfueY8rpwfNhZOm/7u3/gL0/I42z+LXg24by7m8mspO6XELJj8cYrobHxJoGpANY6xaTZ/uyg1Nd6PpV8u28063mHo8YNc9ffC3wTfZb+x0gfqGgYoR+VH+zS/mj9z/yHbMqXWE/vi/8A246tWVxlWDD2NOrgW+F1xZndoXjDVrP0VpfMUfgaT+yvizpeDaa9p+pov8NxFtY/lR7CnL4Ki+d0H17EU/4tCX/brUv1T/A7+iuA/wCEw+IGmfLrHgczqP8AlpaTBs/hUsPxd0FGCatpup6ax6+dbtgH6ij6nW+yr+jTBZvhFpUk4v8AvJx/NHdUVz+n+PfCGpYW1161LH+Fn2n8jW3Dc29wN0FxHID/AHWB/lWEqc4fErHbSxFKsr05J+juS0UUVBsFFFFABRRRQAUUUUAFFFFABRRRQAUUUUAFFFFABRRRQAUUUUAFFFFABRRRQAUUUUAFFFFABRRRQAUUUUAFFFFABRRRQAUUUUAFFFFABRRRQAUUUUAFFFFABRRRQAUUUUAFFFFABRRRQAUUUUAFFFFABRRRQAUUUUAFFFFABRRRQAUUUUAFFFFABRRRQAUUUUAFFFFABRRRQAUUUUAFFFFABRRRQAUUUUAFFFFABRRRQAUUUUAFFFFABRRRQAUUUUAFFFFABRRRQAUUUUAFFFFABRRRQAUUUUAFFFFABRRRQAVjeIP9ZZf9dq2axvEH+ssv+u1NAbNFFFIAooooAKKKKACiiigAooooAKKKKACiiigAooooAiurW3vIXtruFJYnGGR1yCK811LwHr/gq8k134b3B8knfcaVK2Y5O52f3TXp9FB14XG1cJdR1i94vVP1X67nI+D/AIj6R4oY6fMrafqsXE1lcfK4PtnqK66uT8Y/DvRfFSi8+ax1GH5obyD5XU+5HUVwMXxc1rwPNP4f8Uxx6q9uAsN9btlT2HmelG501cPh8VH2mDdpfyPf/t3+b039T2ae4htYmmuJkjjXlmY4ArjL7x5d6rO2m+CrBr2X7rXTjEMfvnvVXTfDmqeNo4tY8TaustnJ88Vnav8Au8e5HWu4sdPstNt1tbG2jhjUYCouKrRHzr+sYh2+CP8A5N/wPzOW0v4fia5XVfFl6+qXgO4K3+qjPstdhHHHEojjQKq8AAYAp1FJu50UaFOgrQX+b9WFFFFI2CiiigAooooAKKKKACiiigAooooAKKKKACiiigAqGa1tbhSs9vHID2ZQamoovYTSejOf1DwD4Q1LP2rQrUk91Taf0rDm+EWiRndpGp6lpzD7vk3DYH4V3lFdEMVWh8MmcVXLMHWd501fvaz+9Hn/APwh/wAQtM/5BHjg3CjpHdxAj8xR/bHxY0v/AI/NAsNSRerQSbCfwNegUVX1py+OMX8rflYx/suMP4NScf8At66+6VzgF+Kk1n8uveENVsyOrLHvX9K0rL4peCbxgv8AbC27N/DcKYz+tdW0aP8AfRW+orNvvDHh/UlK3mj2sue5jGaPaYeXxQa9H/mHsMwp/BVjL/FH9YtfkWLXWNJvlD2epW0wPTbIDVyuKu/hH4PnYyWtrNZOf4reVkP6VT/4Vx4g075tB8dajDjokx8wfjmn7LDy+GdvVf5XD6zjqf8AEoqX+GX6SS/M9Borz7y/jBpXCz6XqqDpuUxsfqaB8QvFmn8a54Cuwo+89q4cD8+aPqkn8Ek/R/52D+1qUP40JQ9Yu33q6PQaK4e2+L/hJzsvzeae46i4t2UD8a6DT/F3hjVADY67Zy5/6agfzrKeGrU/ii/uOijmGEr6U6kW/VX+42KKakkci7o3VlPdTkU6sTsCiiigAooooAKKKKACiiigAooooAKKKKACiiigAooooAKKKKACiiigAooooAKKKKACiiigAooooAKKKKACiiigAooooAKKKKACiiigAooooAKKKKACiiigAooooAKKKKACiiigAooooAKKKKACiiigAooooAKKKKACiiigAooooAKKKKACiiigAooooAKKKKACiiigAooooAKKKKACiiigAooooAKKKKACiiigAooooAKKKKACiiigAooooAKKKKACiiigAooooAKKKKACsbxB/rLL/rtWzWN4g/1ll/12poDZooopAFFFFABRRRQAUUUUAFFFFABRRRQAUUUUAFFFUtW1rS9DtWvNUvI7eJe7Hk/Qd6BSlGC5pOyLtYniDxhovh1Nt5cb7hv9XbxfNIx+grnX8QeK/GTm38K2rabpxOGv7hcM4/2FrZ8PeBdI0Nvtcga9vn5e5uDucn2z0qrW3OL6xUxGmHWn8z2+S6/kYgtfGXjg7r6R9E0pukKH99Ivue1dFZeCfDdlpr6WumQyQyrtl8xdxf6k1u0Um7m1DDRoz9rdufd7/Lt8jyy78I+KvhzcPq3gGZr7TCS02kzNnaOp8s9vpXW+D/iBofjGEraSNb3sXE1nN8ssZ78HrXTVxnjD4aaZ4imXV9NmfS9Zh5hvLfg5HZgPvCke+sXRxy5MbpLpNf8Aty6+u/qdnRXmWkfEbWPCt7H4d+J1r9mdjst9UjX9xPzgbv7pr0qKaKeNZoZFkjcZVlOQR7EUHHisHVwjXPqns1qn6P8Apj6KKKDkCiiigAooooAKKKKACiiigAooooAKKKKACiiigAooooAKKKKACiiigAooooAKKKKACkIB6jNLRQBVuNL028G26sYJQf70YNc/f/DHwVqBLSaLDG/9+L5SPyrqqK0hWqU/hk0c9bCUMR/Fgn6pHn7/AAlgtWL6F4m1bTz22zlwPwNN/sH4raXzp/iy1v0H8F1D8x/EV6FRW/12q/jtL1SZx/2Pho/wrw/wya/C9vwPPv8AhKvidpfGqeC4L1V/js5uT+Bp8fxf0uBvL1vw/q+nN3L25dR9SOK76o5LeCZds0KOPRlzR7ejL46f3Nr/ADD6li6f8LEP/t5J/lyv8TndO+JHgnVMLbeIbUOf4JG2EfnXQW95Z3a7rW6hmHrHIG/lWRqPgfwnquft2g2chPfywP5VgXHwc8L7vM02e/09x0NvcMAPwzijlws9m4/JP/IOfMqXxRhP0bi/uaf5neUV57/wgvjzTP8AkB/EG5dR92O9jEg/Sj+0PjFpP/HxpOk6sg6tG5jc/QdKPqsZfw6kX+H5h/aU6f8AGoTj6JSX/krb/A9Corz0fFLUtP8Al8ReA9XtMfeeFfOX8lq/Z/F3wJdsI5dWNnIf4LqJozSeDrrXlv6a/kVDN8DJ8rqJPtL3X/5NY7OiqFlr2i6koaw1a0n3dBHMpP5ZzV+uZxcdGehCcai5ou6CiiikUFFFFABRRRQAUUUUAFFFFABRRRQAUUUUAFFFFABRRRQAUUUUAFFFFABRRRQAUUUUAFFFFABRRUMl5aQ/626hT/ecChK4m0tyaiqEmvaHD/rdasU/3rhB/Wqc3jbwjb/63xHYDHpMp/lVqlUltFmMsTRh8U0vmjborlZvij8P7f8A1niizH03H+Qqm/xk+H6/6vWvOP8A0ziY/wBK1WEry2g/uZzyzTAw+KtH/wACX+Z21FcG3xm8I/8ALG31af8A652LGo/+FwWMn/Hp4V1+b0/0Nl/nVfUsR/IzN5zgF/y9T9NfyPQKK8+/4WhrEn/Hn8OdZl9NzKv8xR/wnXj+b/j3+Gd0g7ebcL/Q0/qVbrZfNf5i/tjCv4eZ+kJv/wBtPQaK8+/4SX4szf6jwTp0f/Xa5b+lH2r40T/8w3QrcH/pqzf0o+qS6yj/AOBIP7Vpv4ac3/25L9bHoNFeffY/jPP11rRrbPpb7qP+EZ+K03/Hx48tUz/zys8f1o+rRW9SP4/5B/aVR/Dh5v5RX5yPQaK89/4QXx7J80nxKvlYcjYgApP7L+MOl/8AHr4h03U0H8NxDsY/VqPq0H8NSP4r9A/tCtHWeHml5cr/AAUrnodFeef8Jl8StN/5C3gBbpV+81jcZ/8AQqkj+MWjQts1rQtZ01u5ktSyj/gQ4o+pVn8Kv6NMFnOEWlSTh/ijKP5qx39Fcxp3xM8C6phbXxJaBj/DI2wj866C2vrG8XdZ3kE49Y5A38qwnSqU/ji18jto4qhiNaM1L0aZPRRRWZuFFFFABRRRQAUUUUAFFFFABRRRQAUUUUAFFFFABRRRQAUUUUAFFFFABRRRQAUUUUAFFFFABRRRQAUUUUAFFFFABRRRQAUUUUAFFFFAHmvx78UXnhvwbBDY3Vxavq2oW+nvNbKxmSN2+fYFBbcQMDHPNY/hu7+HXhPXJbXTvh3f+Ftf/sqa4tWvIY4/7SiQZZmaGVw75wT5uHGeld38RPBa+OvDp0uO8Fpd288d5Z3BXcI5423KSO47H61g2ngbxV4h8W2Hijx8+kRrpNnLaW1rps0kqytKAHkdpEQrkDAUA49TVpqwHls2j28XwKX4zqW/4TGJk1g6tuIuGzMAYS/UxbCV2fdx2r6P0+4N3Y290wwZolf8wDXkn/CovGb+GU+F8uqaS3hFLxZTdb5ftrWiyCQW/l7dnUBd+/p/DmvYIo1hjSGMYVFCqPYUSdwG3E5t0DCCWXJxtjAJ/U1h61eNNJak2dxHtkz86gZ+mDXQ1jeIP9ZZf9dqlAXV1FmYL/Zt4M9zGMD9am+0N/z6zfkP8amopAQ/aG/59ZvyH+NH2hv+fWb8h/jU1FAEP2hv+fWb8h/jR9ob/n1m/If41NRQBD9ob/n1m/If40faG/59ZvyH+NTUUAQ/aG/59ZvyH+NH2hv+fWb8h/jU1FAEP2hv+fWb8h/jR9ob/n1m/If41NSEhRljgCgCL7Q3/PrN+Q/xqOfUI7WJp7iN4o0GWZioAH1zXPa58QNPsZ/7M0eF9U1E8LDByFP+03QVnweDte8USLe+ONQIgzuTT7dsRj/ePeqt3OOeLvL2dBc0vwXq/wBFqLe/EG91iZtN8C6VJfTg7XupBiCL8e9O0rwKJLpdX8XS3OsX/UCQDyY/91c4rsLGws9Nt1tbG1jgiQYVEXAFWKL9hRwntHz4h8z7fZXy/VldZfLULHZyqo6AKoA/WnfaG/59ZvyH+NTUVJ2kP2hv+fWb8h/jR9ob/n1m/If41NRQBD9ob/n1m/If40faG/59ZvyH+NTUUAZmr6bpuvWMmnatpJubeVdrJIin+vFebto/jT4WzNd+FY7rWvDu7dLpsxzNAO5jbJyPavW6KDtwuOqYZOm1zQe8Xs/8n5rU5vwp490HxlafaNHeRpE/11uwAliPcMpORzW99ob/AJ9ZvyH+NcV4t+F9tqV5/wAJF4Wu20XXI/mWeHhJj6SKODVTw/8AEy807UF8M/EaxGmajnbHdD/j3uPQhugNB0TwNPExdXAu9t4v4l/8kvNa90egfaG/59ZvyH+NH2hv+fWb8h/jUiOsiiSNgysMgg8GnUHlEP2hv+fWb8h/jR9ob/n1m/If41NRQBD9ob/n1m/If40faG/59ZvyH+NTUUAQ/aG/59ZvyH+NH2hv+fWb8h/jU1FAEP2hv+fWb8h/jR9ob/n1m/If41NRQBD9ob/n1m/If40faG/59ZvyH+NTUUAQ/aG/59ZvyH+NH2hv+fWb8h/jU1FAEP2hv+fWb8h/jR9ob/n1m/If41NRQBD9ob/n1m/If40faG/59ZvyH+NTUUAQ/aG/59ZvyH+NH2hv+fWb8h/jU1FAEP2hv+fWb8h/jR9ob/n1m/If41NRQBD9ob/n1m/If40faG/59ZvyH+NTUUAQ/aG/59ZvyH+NH2hv+fWb8h/jU1FAEP2hv+fWb8h/jR9ob/n1m/If41NRQBD9ob/n1m/If40faG/59ZvyH+NTUUAQ/aG/59ZvyH+NH2hv+fWb8h/jU1FAEP2hv+fWb8h/jR9ob/n1m/If41NRQBD9ob/n1m/If40faG/59ZvyH+NTUUAQGbPW0lP4D/GqF7o+jakpjvtAjmB674UP9a1qKak46xJnCNRWkro4W9+FPge8YtH4fns2P8VrJ5X/AKC1Uf8AhWusaf8AN4d8aa9Z46RyMsifjk5r0iiulY2utOa/rr+Z588nwMnzKmovvH3X/wCS2PNxD8adK/1F9pmrovQTQ+Sx/EE5qQfEDx1pv/Ie+G90yjrJZShl/I8mvRKKf1qMv4lOL/D8iP7NqU/4NecfVqS/8mTf4nAQ/GnwmpCapa6ppj9/tVqVA/HNb2n+PvCmqAGx1i3kz0HmqpP4Eg1tXFjZ3Slbm0hlB670B/nXPaj8M/A+pktceHrVXP8AHEuxvzFHNhZbqUfmn/kPkzKltKE/VOL+9OS/A6BLxZFDRwyMp6Fdp/rTvtDf8+s35D/GuEf4PabasZNA8RaxpbdvLuSwH/fVN/4Rf4qaXzpfjaC+Qf8ALO8g5P1aj2FGXwVF801/mL67i6f8XDv/ALdal+fK/wADvftDf8+s35D/ABo+0N/z6zfkP8a4Mar8ZIf3DeHdGlcf8tROwU0vm/Gq4/5ddAtwf+mjNj86Pqj6zj94/wC1YvalU/8AAGd39ob/AJ9ZvyH+NH2hv+fWb8h/jXCf2Z8ZZvveItJt8/3bfdj86P8AhE/ilP8A8fHxCgTPaKzA/rR9Wit6kfx/yD+0ar+HDz/8lX5yO7+0N/z6zfkP8aT7S3/PtN+n+NcL/wAK98ZTf8fPxK1If9cVC0f8Kpupf+Pzx/4gmPf98B/Sj2FFb1F9zD67jJfDhn85RX6s7r7V/wBO8v8A47/jUMmq2sP+uOz/AHmUf1rjP+FNaHJ/x961rE/+9dsP5GpY/gv4HT/WQX0p/wBu8kP9aPZ4Zbzf/gP/AAQ+sZjLajFes/8AKLOlk8U6HD/rtRtkx/euIx/7NVOb4geEbf8A1mtWo+kyH+RqhH8I/AEf3tBjk/66MW/nVyH4b+A7f/V+FdPB9fJFFsKusn8l/mHNmcvs0185P9EVJvi14Bg/1mvQj6c/yqo3xq8AA7Y9SllP/TOEmukh8I+GLf8A1Og2KfSFauR6VpcQAj062XHpEv8AhRzYVfZk/mv8g5Mzl9uC/wC3ZP8A9uRxbfGrwn/yxsNan/65WJb+tM/4XFaSf8efg7xHL6Zsyv8AOu9W1tk+5bxL9EFSAY6DFHtcOtqb/wDAv+AH1bMJb10vSH+cmeff8LR1yX/j0+GutS/7zKn8xSf8J38Q5v8Aj2+F90gPQy3K/wBK9Doo9vRW1Jfe/wDMPqOKfxYmXyjBf+2s87/4Sb4vTf6jwLp8X/Xa5b+hpv2743XH/MK0K2B/6aMxH516NRR9aitqcfx/zD+zZv4sRUfzS/KJ5x9m+NU33tY0q2/3bUP/ADNH/CO/Fif/AI+PHSJn/njYqP8A2avR6KPrkltGK/7dQf2TTfxVKj/7fl+jR5x/wg/jib/j5+Imsrn/AJ4oi/1o/wCFY6hL/wAfnjnxNN6jzEH8q9Hoo+u1ull8l/kH9jYR/Em/WUn+p5x/wqHR5P8Aj71TxBP/AL10R/I1NH8H/Ba/6yx1WU/9NLxz/wCzV6DRSeOxH87Gsmy9f8uYv1V/zOGj+FPgNPveGGk/66Nu/m1XYfh54Ft/9X4MtQfXyV/xrrKKh4qvLeb+9mscswUPhox/8BX+Rgw+F/DNv/qfC8CfSBP8auR6fpkePL0ONcekKVpUVm6k5bs6Y0KUPhil8kU1S3T7mmlfpGo/rUvnY/5dJfyX/Gp6Km5oklsQee3/AD6zfkP8aX7Q3/PrN+Q/xqaikMh+0N/z6zfkP8aPtDf8+s35D/GpqKAIftDf8+s35D/Gj7Q3/PrN+Q/xqaigCH7Q3/PrN+Q/xo+0N/z6zfkP8amooAh+0N/z6zfkP8ajk8uYbZtPdx6Mqn+tWqKL2Bq5zuo+EPCmrZ/tDwrBMT3MK/0Nc/c/CDwjIfMsLXU9Pfsba4KgfhuxXoVFbwxVan8Mn95xVstwdfWpSi36K/3nm3/CBeMtN/5APj7VlUfdjvEWVR+AIpVn+Nml/wDLHSNXRf7y+Sx/AV6RRWn1yb+OMX6pfpY5/wCyKUP4M5w9JO33O6/A87HxI8X6dxr3w11FAOslrIJF/Adamh+NXg/ITUYdS05+4urUpj9a76q9xYWN0pW5s4ZQ3XfGD/Oj2uHl8VO3o/8AO4fVcdT/AIde/wDiin+MeUxbDx/4T1PH2LWLeTPQGVVJ/AkGtmO+SZQ8MTup6FSpH86wdQ+GfgbUiWuPDtorn+ONdjfmKxpPg3osLGTRdb1fTG7eTdM2P++s0cmFltJr1V/yf6B7XMqfxU4y9JNfg1+p3X2hv+fWb8h/jR9ob/n1m/If41wX/CG/ErTPm0n4gfaVXol7AHJ/Gk/tb4xaX/x9+H9M1RB3t5Srn8DxR9VUvgnF/O352D+05Q/jUJx+Skv/ACVv8jvvtDf8+s35D/Gj7Q3/AD6zfkP8a4JfipqFj8uv+BdYtCPvNEnmgflV6z+L3ge6YRy6k1pIf4LiJkI/Sk8HXWvLf01/IuGcYGTs6iT/AL3u/nY6/wC0N/z6zfkP8aPtDf8APrN+Q/xqlY+JvD+pKGsdZs5s9lmUn8s1oq6t91gfoa55RlH4lY74VIVFeDT9CP7Q3/PrN+Q/xo+0N/z6zfkP8amoqSyH7Q3/AD6zfkP8aPtDf8+s35D/ABqaigCH7Q3/AD6zfkP8aPtDf8+s35D/ABqaigCH7Q3/AD6zfkP8aPtDf8+s35D/ABqaigCH7Q3/AD6zfkP8aPtDf8+s35D/ABqaigCH7Q3/AD6zfkP8aPtDf8+s35D/ABqaigCH7Q3/AD6zfkP8aPtDf8+s35D/ABqaigCH7Q3/AD6zfkP8aPtDf8+s35D/ABqaigCH7Q3/AD6zfkP8aPtDf8+s35D/ABqaigCH7Q3/AD6zfkP8alVtyhtpGexpaKACiiigAooooAKKKKACiiigAooooAKKKKACsbxB/rLL/rtWzWN4g/1ll/12poDZooopAFFFFABRRRQAUUUUAFFUdV1rTNFtzdaleRwoP7x5P0HeuQfXvFXjJjb+GbVtPsDw17OuGYf7IppXOatioUXy7y7Lf+vU6HxB4w0Xw6u26uPMuG+5BH8zsfoK50WnjLxv819I2i6U3SJP9dIvue1bfh/wPpOiN9rkDXt83L3M/wAzE+2eldHTulsZewrYnWu7R/lX6v8ARGXofhrR/DtuINMs0jP8Uh5dj6k9a1KKKk7IQjTjywVkFFFFBQUUUUAFFFFABRRRQAUUUUAFZfiDw3o3iixbTtasY7iJum4cqfUHsa1KKC4VJUpKcHZrqeTm38afCeTdatNr3hsHmNuZ7Zfb1Ar0Dw14s0PxZYrfaPeJKp+8nR0PoR1Fa7KrKVZQQeoPevPvEnwxkjvm8SeBbz+ytVB3Oi/6mf2ZenNB6vt8PmOmJ9yp/Mtn/iS/NfNHoVFef+F/id5l4PDvjSzOkauPlG/iOb3Vuld+rKwDKQQe4oODE4SrhJctVej6PzT6i0UUUHMFFFFABRRRQAUUUUAFFFFABRRRQAUUUUAFFFFABRRRQAUUUUAFFFFABRRRQAUUUUAFFFFABRRRQAUUUUAFFFFABRRRQAUUUUAFFFFABRRRQAUUUUAFFFFABRRRQAUUUUAFFFFABRRRQAUUUUAFFFFABRRRQAUUUUAFFFFABRRRQAUUUUAFFFFABRRRQAUUUUAFFFFABRRRQAUUUUAFFFFABRRRQAUUUUAFFFFABRRRQAUUUUAIQGG1gCDVG80HRdQXy77SrWZf9qIVfopqTjsTOEaitJXRx198JfAt4xYaMtsx727mP+VZzfCaSz+bQfGOsWRH3VMu5B+Br0KiuiOMrx05m/XX8zz55RgZvm9mk+60f4WPO/7B+LWl/wDHj4pstRQfw3EOw/mKP+Eo+KOl/wDIT8Fw3iL957WbGfwNeiUVX1rm+OEX8rflYj+y3D+DWnH58y/8mTPPo/i9a252634a1awx1ZoCVH4itWx+KXgfUMCPXIomP8MwKEfnXUyQxTDbLGjj/aXNZV/4Q8Mank32h2cpPcxDNHPhpfFFr0f+YexzKn8FWMv8Ubfin+hctdY0q+G6z1G3mH+xIDVsMG5Ug1xF18H/AAdMTJZw3NlJ2aCZlx+HSqh+Gev2H/IB8eajCB/DcfvBR7LDy+Gpb1X+Vw+s4+n/ABKCl/hl+kkj0OivO/snxi0vmK/0zU41/wCei7Gb8qP+E68eaYP+J14Dmdf79tJu/Sj6nKXwST+f+dg/tanD+NTnH1i3+Kuj0SiuBh+MXh9GEerafqOnv3E1uePyrbsfiF4N1E7bfXrbcf4XbafyNRPCV4ayizalmmDrO0Ksb+tn9zOjoqCC+srpQ1vdwyA/3XBqesGrbncpKWqCiiikMKKKKACiiigAooooAKKKKACiiigAooooAKKKKACiiigAooooAKxvEH+ssv8ArtWzWN4g/wBZZf8AXamgNmiiikAUUUUAFFIWCgsxAArldb8f2NnOdN0WB9U1A8CKHlVP+0e1NK5lWr06Eeao7HTXFxb2sTT3MyRRryWY4Arjb7x1faxO2m+CbFruT7rXTjESe+e9Mt/B+ueJJlvvGl+TEDuWxhbEY9mPeuysbCz023W1sbaOGJBgKi4p6I5r4jE7e5H/AMmf+X5nLaT4AVrkar4qvG1S9zuCv/q4/otdfHGkaiONAqrwABgCnUUm7nRRoU6CtBf5v1YUUUUjYKKKKACiiigAooooAKKKKACiiigAooooAKKKKACiiigDE8UeEND8XWRs9Xs1c/wSrw8Z9Qeorg1vvGfwpkEOprLrnh0HCTqMzW6/7XqBXq9NkjjmjaOVFdGGGVhkEUHfhsfKjH2NVc9N/Zf5p9GZ+g+IdH8SWKaho97HcQv/AHTyvsR2rSrzbXfhrqGjXz+JPhzefYLzO6WyJ/cT+vHY1oeEfidZ6tdf2D4itm0jWovleCbhZD0yhPWg1rYCNSDr4N80VuvtR9V1XmtPQ7miiig8sKKKKACiiigAooooAKKKKACiiigAooooAKKKKACiiigAooooAKKKKACiiigAooooAKKKKACiiigAooooAKKKKACiiigAooooAKKKKACiiigAooooAKKKKACiiigAooooAKKKKACiiigAooooAKKKKACiiigAooooAKKKKACiiigAooooAKKKKACiiigAooooAKKKKACiiigAooooAKKKKACiiigAooooAKKKKACiiigAooooAKKKKACiiigAooooAKKKKACiiigCGaztLgET2sUgPXcgNYd/8P8AwdqIP2jQbUE/xIu0/mK6KirhUnD4W0Y1cPRrK1SKfqrnBT/B3w7u3aXe6hp5/wCmE5x+tQf8IH44007tH8eTsF+7HcJuz9TXolFbrG1vtO/qk/zOF5Ng94R5X/dbj+TPO/tHxi0riS003VF/2G2N+tL/AMLK8R2DBNc8CX8ePvPb/Oor0OkIDcEZFP6zCXx018roX9nVqf8ABxEl62l+av8AicRa/GDwjM2y8e6smHUTwsMfjW9Y+NPCupKGs9ctJN3bzADV660fSr5dl5p1vKvo0YNYN/8ADDwTqDF5tDhRvWPKY/Ki+Fl0kvuf+QcuZ09pQn6px/zOmjnhm/1MyP8A7rA1JXn0nwhsbdjJo3iHVbJ/4Qs5Kj8DUf8AwifxN0sbdL8aJdqP4bqL/Cj2FGXw1PvTX+YfXcXT/i4d/wDbrT/OzPRaK8g8ZeJfjBoHh+6mm0+02qoVry25aMd2C/1pPgN4s8U+IPt1vrV1NeW8Shkml5Ktn7ufpWry+aoSr8yaXZnNDP6MsbDA+zkpSV9Vb+vXY9gooorzz3gooooAKKKKACiiigAooooAKKKKACsbxB/rLL/rtWzWN4g/1ll/12poDZooqjq2t6XodsbrVLyOCMf3jyfoO9ImUowXNJ2RerD8QeMdF8PLsup/NuW+5bxfM7H6DpXPNrvizxmxh8N2zaZpx4a9nX53H+wtbfh/wPo+ht9qZWu71+XuZ/mcn2z0qrW3OP6xUxGmHWn8z2+S6/kYYsvGPjb59RkbRtLbpBGf3sg9z2rqtE8N6R4ftxBptmkf95+rMfUmtSik3c1pYWFOXPL3pd3/AFp8gooopHSFFFFABRRRQAUUUUAFFFFABRRRQAUUUUAFFFFABRRRQAUUUUAFFFFABRRRQAVzvi7wLoPjK18nUrfbOnMNzH8skbdiCK6Kig1o1qmHmqlJ2a6o8ot/EfjD4XzLYeMI5dX0Ldti1KNcyRA9BIP616XpOsabrllHqGk3kdzbyjKvG2fz9KsXFvDdQtb3EKSRuMMrDIIrzTVfh7rnhC9k8QfDO68rcd9xpchzDN3O3+6aD0+bDZl8dqdXv9mXr/K/Naeh6fRXHeDfiVpPiaRtLvon0vWYeJrG4+Vs/wCznqK7Gg87EYerhZ+zrRs/6+8KKKKDAKKKKACiiigAooooAKKKKACiiigAooooAKKKKACiiigAooooAKKKKACiiigAooooAKKKKACiiigAooooAKKKKACiiigAooooAKKKKACiiigAooooAKKKKACiiigAooooAKKKKACiiigAooooAKKKKACiiigAooooAKKKKACiiigAooooAKKKKACiiigAooooAKKKKACiiigAooooAKKKKACiiigAooooAKKKKACiiigAooooAKKKKACiiigAooooAKKKKACiiigAooooAKKKKACiiigBskaSKY5EDK3BVhkGo7WztLGPyrO2ihQnO2NQo/SpqKd3sLlV+bqFFFFIYUUUUAFFFFABRRRQAUUUUAFFFFABWH4mmht/sk1xIscaSZZmOABW5XO+MtOtdWt7WxvY98Mkw3Lnrgg01uTPmUXy7mVeeOr7WrhtL8C6eb2QHa95IMQR/j3qfSfh/H9qGreKrxtWv/vDzP8AVRn/AGVrqbOxs9Pt1tbG2jgiThURcAVPTv2OSOE53z4h8z7fZXy/VjVVY1CooVR0AHSnUUVJ2hRRRQAUUUUAFFFFABRRRQAUUUUAFFFFABRRRQAUUUUAFFFFABRRRQAUUUUAFFFFABRRRQAUUUUAFFFFAHLeMvh3ofjCNZp1a01CL5ob2D5ZUPbkdR7Vylj418U/Dy6j0X4jQNdaexCW+sQrlcdB5g7H3r1SoL6xs9StZLK/to54JRteORcgig9LD4+0Pq+Jjz0/xj/hfT02fYSxvrPUrVLywuo7iCQblkjbIIqxXll94G8T+ALmTWPhxctcWJJabR5myuOp8s9jXTeD/iRovizNmd9jqcXyzWVx8sikdcZ6igK+X2h7fCy56f4x/wAS6eux1tFFFB5oUUUUAFFFFABRRRQAUUUUAFFFFABRRRQAUUUUAFFFFABRRRQAUUUUAFFFFABRRRQAUUUUAFFFFABRRRQAUUUUAFFFFABRRRQAUUUUAFFFFABRRRQAUUUUAFFFFABRRRQAUUUUAFFFFABRRRQAUUUUAFFFFABRRRQAUUUUAFFFFABRRRQAUUUUAFFFFABRRRQAUUUUAFFFFABRRRQAUUUUAFFFFABRRRQAUUUUAFFFFABRRRQAUUUUAFFFFABRRRQAUUUUAFFFFABRRRQAUUUUAFFFFABRRRQAUUUUAFFFFABRRRQAUUUUAFFFFABWN4g/1ll/12rZrG8Qf6yy/wCu1NAbNFFFIAooooAKKKKACiiigAooooAKKKKACiiigAooooAKKKKACiiigAooooAKKKKACiiigAooooAKKKKACiiigAooooAKKKKACuS8YfDjRfFmLxd1hqcXMN7b/K6n3x1FdbRQbUMRVw01Uoyszy2x8b+J/AN1Ho/xEtjPZkhIdWhXKkdB5noa9KsdQs9TtUvLC5jnhkG5XRsgii+sbPUrV7O/to54JBhkkXINea33gbxN4DuZNY+HV009mSXm0mZsqRnJ8s9jQel/s2ZdqdX/AMkl/wDIv8PQ9SorkfB/xH0XxUWsZN1hqkXE1ncfK6kemeorrqDza+Hq4afs60bMKKKKDEKKKKACiiigAooooAKKKKACiiigAooooAKKKKACiiigAooooAKKKKACiiigAooooAKKKKACiiigAooooAKKKKACiiigAooooAKKKKACiiigAooooAKKKKACiiigAooooAKKKKACiiigAooooAKKKKACiiigAooooAKKKKACiiigAooooAKKKKACiiigAooooAKKKKACiiigAooooAKKKKACiiigAooooAKKKKACiiigAooooAKKKKACiiigAooooAKKKKACiiigAooooAKKKKACiiigAooooAKKKKACioby8tdPtJr69nSG3t0MkkjnAVQMkk15j8NfjLd+PPFHiLT7jRo7DSdLt47uyuGZvNnhbd+8YHgAhcj2ppXA9UoryE/GLxMvh2P4kNoNiPCL3iwEb3+2LA0nli467MZIO3GcGvXI5FmjWWM5V1DD6GhqwDqxvEH+ssv+u1bNY3iD/WWX/XahAbNFFFIAooooAKKKKACiiigAooooAKKKKACiiigAooooAKKKKACiiigAooooAKKKKACiiigAooooAKKKKACiiigAooooAKKKKACiiigAooooA5Pxh8OdE8WAXW1rLUovmhvbf5ZFPvjqK5my8a+KPANwmk/EK3a5sSQsOrQrlcdt47GvUqgvLG01C3e0vreOeGQYZHXINB6VDMLQ9hiY89P8Y/4X09Nhun6hY6pape6fdRzwyDcro2Qas15dfeBfEfgW6fWfh1dNJak7ptKmbKNzzs9K6Pwh8SNH8UM1hOrafqkXE1ncfK4PtnqKAr5f7jr4WXPD8Y/4l+ux11FFFB5oUUUUAFFFFABRRRQAUUUUAFFFFABRRRQAUUUUAFFFFABRRRQAUUUUAFFFFABRRRQAUUUUAFFFFABRRRQAUUUUAFFFFABRRRQAUUUUAFFFFABRRRQAUUUUAFFFFABRRRQAUUUUAFFFFABRRRQAUUUUAFFFFABRRRQAUUUUAFFFFABRRRQAUUUUAFFFFABRRRQAUUUUAFFFFABRRRQAUUUUAFFFFABRRRQAUUUUAFFFFABRRRQAUUUUAFFFFABRRRQAUUUUAFFFFABRRRQAUUUUAFFFFABRRRQBxXxV8FeIPHmhwaHouuWunwG4WS9juIHkW6iXnyjsZSAT1wea838I6N4u/wCFweMtFuLrQlQ6Ha28q2tpLGuwxssYj3SHbjvnP4V77TBFGshlWNQ7cM23k/jVKVlYD5sl1izm/Z/X4SxsP+ErlePRf7LP/HwsgmXMmzr5YUFt/THevo7T7drWxt7ZjkxRKh/AAU/7La+d9o+zReb/AM9Ng3fn1qWhu4EVxB9oQL5skeDnKNg1h61Z+S9qPtEzbpMfM2cfSuhrG8Qf6yy/67UkBcXTdrBvttycdvMqb7L/ANNpv++zU9FICD7L/wBNpv8Avs0fZf8AptN/32anooAg+y/9Npv++zR9l/6bTf8AfZqeigCD7L/02m/77NH2X/ptN/32anooAg+y/wDTab/vs0fZf+m03/fZqeigCD7L/wBNpv8Avs0fZf8AptN/32anooAg+y/9Npv++zR9l/6bTf8AfZqeigCD7L/02m/77NH2X/ptN/32anooAg+y/wDTab/vs0fZf+m03/fZqeigCD7L/wBNpv8Avs0fZf8AptN/32anooAg+y/9Npv++zR9l/6bTf8AfZqeigCD7L/02m/77NH2X/ptN/32anooAg+y/wDTab/vs0fZf+m03/fZqeigCD7L/wBNpv8Avs0fZf8AptN/32anooAg+y/9Npv++zR9l/6bTf8AfZqeigCD7L/02m/77NH2X/ptN/32anooAg+y/wDTab/vs0fZf+m03/fZqeigCD7L/wBNpv8Avs0fZf8AptN/32anooAg+y/9Npv++zR9l/6bTf8AfZqeigCD7L/02m/77NH2X/ptN/32anooAg+y/wDTab/vs0fZf+m03/fZqeigCD7L/wBNpv8Avs1zHiz4a6L4oAumaW11GLmG8hbDqe2T3rrqKDahiKmGmqlKVmjyi18WeKPAF0ul/EBZ7rTy22HVYScY7bwOlekafcWOqWqXun6g1xBIMq8cuQasXlna6hbva3tuk0MgwyOuQRXm1/4D8ReB7p9a+G90Xtyd02kzNmN/XYexoPRvhsx3tTqf+Sy/+Rf4eh6T9l/6bTf99mj7L/02m/77Ncv4P+JGj+KGOnzq+natDxNZXHyuD7Z6iuvoPOr4erhZ+zrRsyD7L/02m/77NH2X/ptN/wB9mp6KDEg+y/8ATab/AL7NH2X/AKbTf99mp6KAIPsv/Tab/vs0fZf+m03/AH2anooAg+y/9Npv++zR9l/6bTf99mp6KAIPsv8A02m/77NH2X/ptN/32anooAg+y/8ATab/AL7NH2X/AKbTf99mp6KAIPsv/Tab/vs0fZf+m03/AH2anooAg+y/9Npv++zR9l/6bTf99mp6KAIPsv8A02m/77NH2X/ptN/32anooAg+y/8ATab/AL7NH2X/AKbTf99mp6KAIPsv/Tab/vs0fZf+m03/AH2anooAg+y/9Npv++zR9l/6bTf99mp6KAIPsv8A02m/77NH2X/ptN/32anooAg+y/8ATab/AL7NH2X/AKbTf99mp6KAIPsv/Tab/vs0fZf+m03/AH2anooAg+y/9Npv++zR9l/6bTf99mp6KAIPsv8A02m/77NH2X/ptN/32anooAg+y/8ATab/AL7NH2X/AKbTf99mp6KAIPsv/Tab/vs0fZf+m03/AH2anooAg+y/9Npv++zR9l/6bTf99mp6KAIPsv8A02m/77NH2X/ptN/32anooAg+y/8ATab/AL7NH2X/AKbTf99mp6KAIPsv/Tab/vs0fZf+m03/AH2anooAg+y/9Npv++zR9l/6bTf99mp6KAIPsv8A02m/77NH2X/ptN/32anooAg+y/8ATab/AL7NH2X/AKbTf99mp6KAIPsv/Tab/vs0fZf+m03/AH2anooAg+y/9Npv++zR9l/6bTf99mp6KAIPsv8A02m/77NH2X/ptN/32anooAg+y/8ATab/AL7NH2X/AKbTf99mp6KAIPsv/Tab/vs0fZf+m03/AH2anooAg+y/9Npv++zR9l/6bTf99mp6KAIPsv8A02m/77NH2X/ptN/32anooAg+y/8ATab/AL7NH2X/AKbTf99mp6KAIPsv/Tab/vs0fZf+m03/AH2anooAg+y/9Npv++zR9l/6bTf99mp6KAIPsv8A02m/77NH2X/ptN/32anooAg+y/8ATab/AL7NH2X/AKbTf99mp6KAIPsv/Tab/vs0fZf+m03/AH2anooAg+y/9Npv++zR9l/6bTf99mp6KAIPsv8A02m/77NH2X/ptN/32anooAg+y/8ATab/AL7NH2X/AKbTf99mp6KAIPsv/Tab/vs0fZf+m03/AH2anooAg+y/9Npv++zR9l/6bTf99mp6KAIPsv8A02m/77NH2X/ptN/32anooAg+y/8ATab/AL7NH2X/AKbTf99mp6KAIPsv/Tab/vs0fZf+m03/AH2anooAg+y/9Npv++zR9l/6bTf99mp6KAIPsv8A02m/77NTKu1QuScetLRQAUUUUAFFFFABRRRQAUUUUAFFFFABRRRQAVjeIP8AWWX/AF2rZrG8Qf6yy/67U0Bs0UUUgCiiigAooooAKKKKACiiigAooooAKKKKACiiigAooooAKKKKACiiigAooooAKKKKACiiigAooooAKKKKACiiigAooooAKKKKACiiigAooooAKKKKACiiigDlfGHw70Pxcq3EytZ6jDzBe2/yyxntyOorl7Xxp4q+HVwmlfES3a80wnZBrMC5GO3mgdD716lUN1a2t9bvaXlvHNDKu145FyrD3BoPRoY+0PYYmPPT7dV/hfT028hthqFjqlrHe6fdRXEEo3JJG2QR+FWK8wv/AAD4i8EXUmtfDK63W7Nvn0adsxP6+Wf4TXQeD/iTo3iljp86vp2rQ/LNY3PyuD3xn7w+lA6+A9x18LLnh1/mj/iX6rQ6+iiig80KKKKACiiigAooooAKKKKACiiigAooooAKKKKACiiigAooooAKKKKACiiigAooooAKKKKACiiigAooooAKKKKACiiigAooooAKKKKACiiigAooooAKKKKACiiigAooooAKKKKACiiigAooooAKKKKACiiigAooooAKKKKACiiigAooooAKKKKACiiigAooooAKKKKACiiigAooooAKKKKACiiigAooooAKKKKACiiigAooooAKKKKACiiigAooooAKKKKACiiigAooooAKKKKACiiigArG8Qf6yy/67Vs1jeIP9ZZf9dqaA2aKKKQBRRRQAUUUUAFFFFABRRRQAUUUUAFFFFABRRRQAUUUUAFFFFABRRRQAUUUUAFFFFABRRRQAUUUUAFFFFABRRRQAUUUUAFFFFABRRRQAUUUUAFFFFABRRRQAUUUUAFcv4w+Huh+L1W4mVrTUYeYL63+WWMjpyOorqKKDWhXqYaaqUpWaPLrXxh4q+Hlwml/EC3a903OyHV4FzxnjzB2+tekafqVjqtql7p11HcQSDKvG2QafdWlrfW72t5bpNDINrI65BH0rzfUPAXiDwXdSa38N7omAkvNpMzZjf12ehoPSvhsx+K1Op/5LL/5F/h6Hp1Fch4R+JGk+JZDp10j6dqsXyy2dx8rA+2eorr6Dzq+Hq4Wfs6sbMKKKKDEKKKKACiiigAooooAKKKKACiiigAooooAKKKKACiiigAooooAKKKKACiiigAooooAKKKKACiiigAooooAKKKKACiiigAooooAKKKKACiiigAooooAKKKKACiiigAooooAKKKKACiiigAooooAKKKKACiiigAooooAKKKKACiiigAooooAKKKKACiiigAooooAKKKKACiiigAooooAKKKKACiiigAooooAKKKKACiiigAooooAKKKKACiiigAooooAKKKKACiiigAooooAKxvEH+ssv+u1bNY3iD/WWX/XamgNmiiikAUUUUAFFFFABRRRQAUUUUAFFFFABRRRQAUUUUAFFFFABRRRQAUUUUAFFFFABRRRQAUUUUAFFFFABRRRQAUUUUAFFFFABRRRQAUUUUAFFFFABRRRQAUUUUAFFFFABRRRQAUUUUAcx4u+H+h+LFE0yNa38XMN5B8siHtyOtcra+LvFXw9nTS/HcDXum5Cw6pCudo7eYO31r1Gobq1tr6B7W8gSaKQYZHXINB6NDH8sPYYiPPT7dV/hfT028iPTtSsNWtUvtNuo7iCQZV0bINWq8z1LwDr/g26k1z4b3RERy8+lzNmN+52f3TW74R+JGk+JJW0y8jfTdWi+WWzuPlbI/u56igdbAXg6+Flzw6/zR/xL9VodfRRRQeaFFFFABRRRQAUUUUAFFFFABRRRQAUUUUAFFFFABRRRQAUUUUAFFFFABRRRQAUUUUAFFFFABRRRQAUUUUAFFFFABRRRQAUUUUAFFFFABRRRQAUUUUAFFFFABRRRQAUUUUAFFFFABRRRQAUUUUAFFFFABRRRQAUUUUAFFFFABRRRQAUUUUAFFFFABRRRQAUUUUAFFFFABRRRQAUUUUAFFFFABRRRQAUUUUAFFFFABRRRQAUUUUAFFFFABRRRQAUUUUAFFFFABRRRQAVjeIP9ZZf9dq2axvEH+ssv+u1NAbNFFFIAooooAKKKKACiiigAooooAKKKKACiiigAooooAKKKKACiiigAooooAKKKKACiiigAooooAKKKKACiiigAooooAKKKKACiiigAooooAKKKKACiiigAooooAKKKKACiiigAooooAKKKKACuZ8XfD/Q/F0YkuY2tr6LmG8gO2VG7cjrXTUUGtGvUw81UpSs0eX23izxZ8O5003x5C9/pRYJDq0C52D/AKaKP516NpupWOrWcd/pt1HcW8q7kkjbIIqW4t7e7ha3uoUlicYZHXII9wa841H4f694PupNc+Gd5sRjun0mZswy85Oz+6aD0ubDZj8VqdTv9mXr/K/w9D0yiuQ8I/EjSfEszaVeRPpesw5E1jc/K4I7qT94fSuvoPOr4erhZ+zrRs/6+8KKKKDEKKKKACiiigAooooAKKKKACiiigAooooAKKKKACiiigAooooAKKKKACiiigAooooAKKKKACiiigAooooAKKKKACiiigAooooAKKKKACiiigAooooAKKKKACiiigAooooAKKKKACiiigAooooAKKKKACiiigAooooAKKKKACiiigAooooAKKKKACiiigAooooAKKKKACiiigAooooAKKKKACiiigAooooAKKKKACiiigAooooAKKKKACiiigAooooAKxvEH+ssv+u1bNY3iD/WWX/XamgNmiiikAUUUUAFFFFABRRRQAUUUUAFFFFABRRRQAUUUUAFFFFABRRRQAUUUUAFFFFABRRRQAUUUUAFFFFABRRRQAUUUUAFFFFABRRRQAUUUUAFFFFABRRRQAUUUUAFFFFABRRRQAUUUUAFFFFABRRRQAUUUUAc14v8A6D4whVryFoL2LmC8gO2aJuxBHX6GuUt/Fni34bzJp/j6F9S0csEh1mBMlB2Eqjp9a9QqOe3huoXt7mFJYpBtZHXIYehBoPQoY9xh7DER56fbqv8L6fl3RDp2pWGrWcd/pt3Fc28y7kkjbIIq1XmmofD7XPB93JrvwxuhGjNvuNHmbMEvrs/umtvwj8SNK8SSNpd7FJpesQ8TWNz8rg/7OfvD6UDrYBODr4WXPBb/wA0f8S/VaHYUUUUHnBRRRQAUUUUAFFFFABRRRQAUUUUAFFFFABRRRQAUUUUAFFFFABRRRQAUUUUAFFFFABRRRQAUUUUAFFFFABRRRQAUUUUAFFFFABRRRQAUUUUAFFFFABRRRQAUUUUAFFFFABRRRQAUUUUAFFFFABRRRQAUUUUAFFFFABRRRQAUUUUAFFFFABRRRQAUUUUAFFFFABRRRQAUUUUAFFFFABRRRQAUUUUAFFFFABRRRQAUUUUAFFFFADZJI4UMksioi9WY4A/GmW91a3Sl7W4imUcExuGH6Vn+IvDOi+KrJNP161a4tUkEpi8xlVyOzBSNy+x4ryPw1dafZ/FbxXP8PbKG20HRtHMd8lqoS1e/UFgFVflDAcMRTSuB7X9ss/P+y/aofO/55+YN35damr5pm0e0j/Z7X4rKo/4SqJo9Z/tT/l4aQzjMe/qUKkrs6Y7V9HafcNdWFtcsMGWJXP4gGm1YCxWN4g/1ll/12rUuLhbdA7Ru+TjCrk1h61eLNJalYZV2SZ+ZcZ+lJAdDRVNdSRmC/Zrjn/pmal+1L/zxm/79mlYCeioPtS/88Zv+/Zo+1L/AM8Zv+/ZoAnoqD7Uv/PGb/v2aPtS/wDPGb/v2aAJ6Kg+1L/zxm/79mj7Uv8Azxm/79mgCeioPtS/88Zv+/Zo+1L/AM8Zv+/ZoAnoqD7Uv/PGb/v2aPtS/wDPGb/v2aAJ6Kg+1L/zxm/79mj7Uv8Azxm/79mgCeioPtS/88Zv+/Zo+1L/AM8Zv+/ZoAnoqD7Uv/PGb/v2aPtS/wDPGb/v2aAJ6Kg+1L/zxm/79mj7Uv8Azxm/79mgCeioPtS/88Zv+/Zo+1L/AM8Zv+/ZoAnoqD7Uv/PGb/v2aPtS/wDPGb/v2aAJ6Kg+1L/zxm/79mj7Uv8Azxm/79mgCeioPtS/88Zv+/Zo+1L/AM8Zv+/ZoAnoqD7Uv/PGb/v2aPtS/wDPGb/v2aAJ6Kg+1L/zxm/79mj7Uv8Azxm/79mgCeioPtS/88Zv+/Zo+1L/AM8Zv+/ZoAnoqD7Uv/PGb/v2aPtS/wDPGb/v2aAJ6Kg+1L/zxm/79mj7Uv8Azxm/79mgCeioPtS/88Zv+/Zo+1L/AM8Zv+/ZoAnoqD7Uv/PGb/v2aPtS/wDPGb/v2aAJ6Kg+1L/zxm/79mj7Uv8Azxm/79mgCeioPtS/88Zv+/Zo+1L/AM8Zv+/ZoAnoqD7Uv/PGb/v2aPtS/wDPGb/v2aAJ6Kg+1L/zxm/79mj7Uv8Azxm/79mgCeioPtS/88Zv+/Zo+1L/AM8Zv+/ZoAnoqD7Uv/PGb/v2aPtS/wDPGb/v2aAJ6Kg+1L/zxm/79mj7Uv8Azxm/79mgCeioPtS/88Zv+/Zo+1L/AM8Zv+/ZoAnoqD7Uv/PGb/v2aPtS/wDPGb/v2aAJ65vxd4B0HxhErXkTQXsXMF5B8ssR7YI6/St37Uv/ADxm/wC/Zo+1L/zxm/79mg1o1qmHmqlKVmjzeDxV4s+HMyaf46hfUdJLbYdWhXJUdvNUdPrXoum6pYatax32m3UdxBINyvG2QaS4a3uoXt7mzeWKQbWR4sgj3BrzvUPBGteFLx9b+Gsk0Ss2+fSplPky+uz+6aD0ebDZh8VqdTv9mXr/ACv8PQ9PorjPCvxM0vXpf7L1C3n03V4xiWynXDZ/2fUV1n2pf+eM3/fs0Hn18PVws/Z1VZ/195PRUH2pf+eM3/fs0fal/wCeM3/fs0GJPRUH2pf+eM3/AH7NH2pf+eM3/fs0AT0VB9qX/njN/wB+zR9qX/njN/37NAE9FQfal/54zf8Afs0fal/54zf9+zQBPRUH2pf+eM3/AH7NH2pf+eM3/fs0AT0VB9qX/njN/wB+zR9qX/njN/37NAE9FQfal/54zf8Afs0fal/54zf9+zQBPRUH2pf+eM3/AH7NH2pf+eM3/fs0AT0VB9qX/njN/wB+zR9qX/njN/37NAE9FQfal/54zf8Afs0fal/54zf9+zQBPRUH2pf+eM3/AH7NH2pf+eM3/fs0AT0VB9qX/njN/wB+zR9qX/njN/37NAE9FQfal/54zf8Afs0fal/54zf9+zQBPRUH2pf+eM3/AH7NH2pf+eM3/fs0AT0VB9qX/njN/wB+zR9qX/njN/37NAE9FQfal/54zf8Afs0fal/54zf9+zQBPRUH2pf+eM3/AH7NH2pf+eM3/fs0AT0VB9qX/njN/wB+zR9qX/njN/37NAE9FQfal/54zf8Afs0fal/54zf9+zQBPRUH2pf+eM3/AH7NH2pf+eM3/fs0AT0VB9qX/njN/wB+zR9qX/njN/37NAE9FQfal/54zf8Afs0fal/54zf9+zQBPRUH2pf+eM3/AH7NH2pf+eM3/fs0AT0VB9qX/njN/wB+zR9qX/njN/37NAE9FQfal/54zf8Afs0fal/54zf9+zQBPRUH2pf+eM3/AH7NH2pf+eM3/fs0AT0VB9qX/njN/wB+zR9qX/njN/37NAE9FQfal/54zf8Afs0fal/54zf9+zQBPRUH2pf+eM3/AH7NH2pf+eM3/fs0AT0VB9qX/njN/wB+zR9qX/njN/37NAE9FQfal/54zf8Afs0fal/54zf9+zQBPRUH2pf+eM3/AH7NH2pf+eM3/fs0AT0VB9qX/njN/wB+zR9qX/njN/37NAE9FQfal/54zf8Afs0fal/54zf9+zQBPRUH2pf+eM3/AH7NH2pf+eM3/fs0AT0VB9qX/njN/wB+zR9qX/njN/37NAE9FQfal/54zf8Afs0fal/54zf9+zQBPRUH2pf+eM3/AH7NH2pf+eM3/fs0AT0VB9qX/njN/wB+zR9qX/njN/37NAE9FQfal/54zf8Afs1MrblDYIz60ALRRRQAUUUUAFFFFABRRRQBynxM0Pxp4k8K3Gi+B9dtdIvrr9291OrNsjP3tu3kMfXtWN8NvA/iTwTpEPhe4sfDq6SI2Fw9tJO1xO7fedi4wSec5r0SinfSwHkX/CnfEjaCnw7k8QWLeEEvVuMeW/2wwLJ5gtz/AA7dwA3dcCvW441ijWNBhUAUfQU6ihu4BWN4g/1ll/12rZrG8Qf6yy/67UIDZooopAFFFFABRRRQAUUUUAFFFFABRRRQAUUUUAFFFFABRRRQAUUUUAFFFFABRRRQAUUUUAFFFFABRRRQAUUUUAFFFFABRRRQAUUUUAFFFFABRRRQAUUUUAFFFFABRRRQAUUUUAFFFFABRRRQAUUUUAFFFFABRRRQAUUUUAFFFFAHOeLPAeheL4la+haC8i5hvITtljI6YI61ycPijxb8N5VsfG8L6no+dsWrQLloxnjzV7fWvT6jnghuoXt7iFJYpBtZGXIYe4oPQoY5wh7GvHnp9uq/wvp+XkQ6bqmn6xaJfaZdx3EEgyrxtkGrVeb6l8P9Z8LXkmvfDW8EBZjJPpcrfuJf93+6a2PCfxI0zxBOdI1KF9K1mLiSzuPlYn1U/wAQ+lA62BUoOthXzwW/80fVfqtDsKKKKDzgooooAKKKKACiiigAooooAKKKKACiiigAooooAKKKKACiiigAooooAKKKKACiiigAooooAKKKKACiiigAooooAKKKKACiiigAooooAKKKKACiiigAooooAKKKKACiiigAooooAKKKKACiiigAooooAKKKKACiiigAooooAKKKKACiiigAooooAKKKKACiiigAooooAKKKKACiiigAooooAKKKKACiiigAooooAKKKKACsbxB/rLL/AK7Vs1jeIP8AWWX/AF2poDZooopAFFFFABRRRQAUUUUAFFFFABRRRQAUUUUAFFFFABRRRQAUUUUAFFFFABRRRQAUUUUAFFFFABRRRQAUUUUAFFFFABRRRQAUUUUAFFFFABRRRQAUUUUAFFFFABRRRQAUUUUAFFFFABRRRQAUUUUAFFFFABRRRQAUUUUAFFFFABRRRQAVzvizwLoXi+Efb4TFdR/NDdwnbLGexDCuiooNaNaph5qpSdmjzCHxL4u+G8i2PjSKTVdGGFi1WFcvEO3mr/WvRNN1TT9Ys49Q0u8iubeUZWSNsg1YmhhuImhuIlkjcYZWGQR9K871P4fax4XvJNe+Gt4LZ2JefS5j/o8/rtH8JoPR5sPmHx2p1O/2X6/yvzWnkj0eiuP8J/EfTfEFw2janbyaTrUXEtjc/KxPqh/iH0rsKDz6+Hq4afs6qs/627rzCiiigxCiiigAooooAKKKKACiiigAooooAKKKKACiiigAooooAKKKKACiiigAooooAKKKKACiiigAooooAKKKKACiiigAooooAKKKKACiiigAooooAKKKKACiiigAooooAKKKKACiiigAooooAKKKKACiiigAooooAKKKKACiiigAooooAKKK5r4heNYfAPh3/hIJtPa8Bu7e1ESybOZZFQHOD03Z6dqFqB0tFNjbeivjG4A06gAoqhr+oS6Tod/qkCI8lpbSTKrdCVUkA47cVjfDDxVe+OPh/ofi3UbeCC51S0W4kjhzsUknhcknHHc07AdRRRRSAKKKKACiiigAooooAKKKKACiiigAooooAKxvEH+ssv8ArtWzWN4g/wBZZf8AXamgNmiiikAUUUUAFFFFABRRRQAUUUUAFFFFABRRRQAUUUUAFFFFABRRRQAUUUUAFFFFABRRRQAUUUUAFFFFABRRRQAUUUUAFFFMmYrE7LwQpIoAfRVXTJpLixhmmbc7rljjrVqgAooooAKKKKACiiigAooooAKKKKACiiigAooooAKKKKACiiigAooooAKKKKACiiigAooooAKKKKACiiigAooooA57xZ4G0HxhbhNStzHcxfNBdwnZNE3Yqw5/CuSi8SeL/hrItl42jk1fQ8hYtYgTLwjt5yjn8R+tenU2SOOaNoZo1dHG1lYZBHoQetB30Mc4Q9jXXPT7Pdf4X0/J9UVtN1TTtYs4tQ0u8iubaZdySRsCGFW680n+D3h+41q9/snWNb0SI7ZDBpt6YotzdTtwcU//AIU7cx/8e/xM8Xp/vX7NQavDYCWsa7Xk4v8ARs9Iorzf/hVHiKP/AFHxX8RL/vsH/maP+FZ+Ok/1Hxh1Vf8Afso3/m1AvqeEe2Jj/wCAz/8AkWekUV5v/wAIH8VIv9R8YJW/39Lh/wDr0f8ACJfGSP8A1fxOtJP+ummoP5CgPqFB7YmH3T/+QPSKK84/sD44R/6vxtocv/XSzYfyFJ/Z/wAe4vu654Tm/wB6GYf0oD+zoPavD75frE9Iorzfd8fY/wDln4Rm+gmH82o/tD47x/e8P+HJf924Zf5tQH9mPpWp/wDgS/U9Iorzf+3vjhH97wHpMv8Auakq/wAzR/wl3xih/wBd8K7d/wDc1eP/AANAf2VVfwzg/wDuJD/M9Iorzf8A4T74mx/674R3H/bPUFb/ANlo/wCFleN0/wBd8JdZ/wC2bhv6UB/ZGJ6cv/gcP/kj0iivN/8Aha/iCP8A4+PhR4qUf7FsGo/4XK0f/Hx8OfFsX1sV/wDiqA/sfGdIp/8Ab0f8z0iivN/+F3aOv+u8K+I4v96x/wADR/wvbwgv+vsdYh/3rF/6UB/Y2P6Um/xPSKK86T49fDxv9ZeXsf8AvWE39FqdPjl8NX/5jkq/71nMP5rQS8nzBf8ALiX/AICzvqK4hPjP8N5P+ZkhX/ejcfzFTp8XPhy//M26eP8Aekx/Ogh5ZjY70Zf+Av8AyOwormI/id8PZPu+MtHz73aD+tWY/HvgqT/V+KtLb6XSf40GTwWJjvTl9zN6ismPxX4Zm/1evWDfS4X/ABqzHrWky/6vUrZs+kq/40GTo1I7xf3F2ioBeWbdLqI/8DFO+0W56Txn/gQoI5X2JaKZ50R6SKfxp25f7woELRSZHrRmgBaKTNLQAUUUUAFFU9TuJreOFoW2lpkU8dQTzVygAooooAKKSjNAC0UmRRuX+8KAFophmiHWRR+NNNzbjrPGP+BCgdmS0VA19Zr966iH/AxVeTXtFh/1uqWqfWZf8aClTnLZF+iseTxh4Vh/1niLTk+twg/rVWT4ieBIv9Z4u0hfrdp/jQaxwmIl8MH9zOiorlJPip8O4+vjHSj/ALtyp/karP8AGL4bx/8AM0Wrf7uW/kKDVZdjJbUpf+Av/I7SiuEk+N3w2j/5j5b/AHbeVv5LVeT48fDhfuapdyf7thN/VaDRZRmEtqM//AX/AJHodFeb/wDC+PBTf8e8Oqzf7ljJ/UUf8Lw0Nv8Aj38M+Ipv9yxP9TQV/Y2P60mvXQ9Iorzf/hcwk/49/h54tl/3bFf/AIqj/hbGvS/8e3wp8VMPV7UL/WgP7HxnWNvWUf8AM9Iorzf/AIWV44k/1Hwl1n/tpIqf0o/4T34oSf6n4Rzf9tNRRf8A2WgP7IxPXlX/AG/D/wCSPSKK83/4Sz4yTf6n4XWsf/XTV4/8BS/218cZPu+C9Fh/378N/I0B/ZVVfFUgv+4kP0Z6PRXm/wBs+PUn3dJ8MQ/78sjfyajy/j7N/wAvHhCD/gE5/qaA/szvWp/+Bf5I9Iorzj+x/jrJ/rPFXhqLP/PO3kP8xSf8Iz8aZP8AWfETTIv+udgD/MUB/Z1Nb4iH/k36RPSK8b/ak0bStS8BWFxf6bbXMkOt2EaPLEGKI8yhwCRwGHB9a3P+EJ+Lkn+u+LYQf9M9Kh/wqlrPwd8WeJtOl0nxJ8Urq+s58eZC2mRBTg5B+9wQQCCOlNOzuH1HDr4sTD7p/wDyBH4zsfAGmz+Hvh/Y/DmLW72aGa6sdHg2W9lHGNvmSzBiI9uSMfK7ZJwK4vwPofi7xF4Z+K3wx0e7g8O3FlqqR6bDDeSTW9kJY0kaBJAiOI2IYcKNu84Bxz1p/Z7kmmtLq6+JGvTXNirpbXJdvPiVvvKspcuFPpnFNtf2aPDVtb3NqniTV0gvZkuLmOIoiTSqQVdwBhmBGQTznmqUrB9Twa3xC+UZf5IzPDt1oWgr4j8GXnw3h8H+I20CW4ZbGZZbG+t0yvmxsuPm3HkOgbBGSa4L4J6hfeIn+Hmm/EDTbjTvDltYMPD0cjDyr6/jOTJL6cFvLU9dpNew/wDDPvhmS6kvrvxN4mnuZofIkma+G94+uwttyV9s4py/s8eAlt4bR7jWZILcgwxte/LGR02gKAPwo5w+rYBb138of/bI7Lxh4w0jwXoU+vaozPFDhVjjwXdjwFGTWL8Ofiro/wARluI7Ozns7i2AZopWDZU8ZBFZGofs++AruzkiB1JJCvyytdM5U/Q8GtX4b/DnQfBv2jUNLEnm3QEZDMSFVfTJJ5PPWoOmUcphg5RjKUq3R2sumlrvzO5ooooPDCiiigAooooAKKKKACiiigAooooAKyfEFuZ1tFVyjtOEVvTOa1qr3VoLpoGLlfJlEnTrjtTQGd/ZWsf9Bc/lR/ZWsf8AQXP5Vs0UXAxv7K1j/oLn8qP7K1j/AKC5/Ktmii4GN/ZWsf8AQXP5Uf2VrH/QXP5Vs0UXAxv7K1j/AKC5/Kj+ytY/6C5/Ktmii4GN/ZWsf9Bc/lR/ZWsf9Bc/lWzRRcDG/srWP+gufyo/srWP+gufyrZoouBjf2VrH/QXP5Uf2VrH/QXP5Vs0UXAxv7K1j/oLn8qP7K1j/oLn8q2aKLgY39lax/0Fz+VH9lax/wBBc/lWzRRcDG/srWP+gufyo/srWP8AoLn8q2aKLgY39lax/wBBc/lR/ZWsf9Bc/lWzRRcDG/srWP8AoLn8qP7K1j/oLn8q2aKLgY39lax/0Fz+VH9lax/0Fz+VbNFFwMb+ytY/6C5/Kj+ytY/6C5/Ktmii4GN/ZWsf9Bc/lR/ZWsf9Bc/lWzRRcDG/srWP+gufyo/srWP+gufyrZoouBjf2VrH/QXP5Uf2VrH/AEFz+VbNFFwMb+ytY/6C5/KmyaXqyxszasSApyMda26a670ZOm4EUXAwNP07U5rOKSHUzGjL8q46VY/srWP+gufyrTs7cWltHbhtwjGM461NRcDG/srWP+gufyo/srWP+gufyrZoouBjf2VrH/QXP5Uf2VrH/QXP5Vs0UXAxv7K1j/oLn8qP7K1j/oLn8q2aKLgY39lax/0Fz+VH9lax/wBBc/lWzRRcDG/srWP+gufyo/srWP8AoLn8q2aKLgY39lax/wBBc/lR/ZWsf9Bc/lWzRRcDG/srWP8AoLn8qP7K1j/oLn8q2aKLgY39lax/0Fz+VH9lax/0Fz+VbNFFwMb+ytY/6C5/Kj+ytY/6C5/Ktmii4GN/ZWsf9Bc/lR/ZWsf9Bc/lWzRRcDG/srWP+gufyo/srWP+gufyrZoouBjf2VrH/QXP5Uf2VrH/AEFz+VbNFFwMb+ytY/6C5/Kj+ytY/wCgufyrZoouBjf2VrH/AEFz+VH9lax/0Fz+VbNFFwMb+ytY/wCgufyo/srWP+gufyrZoouBjf2VrH/QXP5Uf2VrH/QXP5Vs0UXAxv7K1j/oLn8qP7K1j/oLn8q2aKLgc5Dp+pNfzxLqREiqhZ8feznFWv7K1j/oLn8q0o7UR3ct1vJMqqu3HTFT0XAxv7K1j/oLn8qP7K1j/oLn8q2aKLgY39lax/0Fz+VH9lax/wBBc/lWzRRcDG/srWP+gufyo/srWP8AoLn8q2aKLgY39lax/wBBc/lR/ZWsf9Bc/lWzRRcDG/srWP8AoLn8qP7K1j/oLn8q2aKLgY39lax/0Fz+VH9lax/0Fz+VbNFFwMb+ytY/6C5/Kj+ytY/6C5/Ktmii4GN/ZWsf9Bc/lR/ZWsf9Bc/lWzRRcDDfRNSk/wBZqQb/AHkzUD+FZJP9ZNbt/vQKf6V0dFFylKS2Zyr+B7WT/WQ2Df71oh/pUD/DjSJP9Zpukt9bGP8A+JrsaKLmixFaO0n97OGk+FPh6T72k6X+Fmg/kKgf4N+FpPvaTp/4Q4/lXoFFFzRY7FR2qS+9nm8nwN8HSfe0m0/DeP5Gq7/AHwS3/MMhX6SSf/FV6hRQarNMdHatP/wJ/wCZ5X/wz74RX/VxvH/uTOP60v8AwoPQV/1WqajH/uXTivU6KC/7YzD/AJ/S+9nln/CibNf9V4s16P8A3L5h/Sl/4Uncp/qfiD4kj/7f3r1KikP+2Md/z8f4Hl3/AAp3Xk/1PxO19f8AenZv5ml/4VP4xT/U/FbV1/3kDfzNeoUUB/bGM6yT/wC3Yv8AQ8yX4Z/EKP8A1fxe1AD3s0P8zU6fD/4jr/zVu6b/AHtPj/xr0aigl5riZb8v/gEP/kTz9PA/xEXr8UHb/e05f/iqnTwj8Ql/5qKjfXTh/wDF13NFBm8fWluo/wDgEP8A5E4O+8PeOreOLzvG1tKGlVRnTjwSeD/rKmfwr8QH6fECFf8Ad07/ABkrrry1F2salyuyRZOnXFWKZCxlRdI/+Ax/yOCfwX8RG6fEwr/u6cv/AMVUD+AviM3T4sXC/wC7p8f9TXolFI0jmNaOyj/4BD/5E80k+G/xFk+98Xr78LGMfyNRH4U+NJP9d8WNVb/diC/yNeoUUGqzfFLblX/bkP8A5E8u/wCFPeIH/wBd8Tteb/dmZf5Gk/4UndP/AK/4heJJP+39xXqVFAf2xjek7eiS/Q8s/wCFE2Tf67xZr0v+/fMf6Uf8KC8Pt/rtSv5f9+6Y16nRQL+2Mf8A8/ZfeeWf8M++DjzJAZD/ALcrn+tSx/APwTH/AMwuAn3eT/4qvTqKCXm2Pf8Ay/n/AOBP/M85j+CXhGP7uk2X4qx/masx/CHwzH93SdO/G3B/nXe0U7mTzDFy+KrL/wACf+ZxUfww0GP7uk6T+NjGf5irEfgDT4/9XZ6Yn+7ZRj/2WutoouZvE1pbzf3s5qPwgI/9WbRP923Uf0qdPD99H/q76Nf92MCt6ii5k5yluzG/snV/+gufyo/srWP+gufyrZoouSY39lax/wBBc/lR/ZWsf9Bc/lWzRRcDG/srWP8AoLn8qP7K1j/oLn8q2aKLgY39lax/0Fz+VH9lax/0Fz+VbNFFwMb+ytY/6C5/Kj+ytY/6C5/Ktmii4GN/ZWsf9Bc/lR/ZWsf9Bc/lWzRRcDG/srWP+gufyo/srWP+gufyrZoouBjf2VrH/QXP5Uf2VrH/AEFz+VbNFFwMb+ytY/6C5/Kj+ytY/wCgufyrZoouBitperhSf7WPT0q1oYI09AxyQzfzq+w3KV9ahs7UWcAhVy2CTnHrRcCeiiikAUUUUAFFFFABRRRQAUUUUAFFFFABRRXky3niP4h+NvGOmWfifUNFsfC3k2dqtk4Qy3LxeY0kmQdyjKgL9aaVwPWaK4z4Q+LtQ8aeA7DWdW2f2gjzWl2UGFaWKRo2YDtnbn8a7OhqwBRRRSAKKKKACiiigAooooAKKKKACiiigAooooAKKKKACiiigAooooAKKKKACiiigAooooAKKKKACiiigAooooAKKKxvGFrql54dvotH1qXSroQs63UcSyMuATwG4/GgDZorzv4B63rXiD4X6XqfiDU5tQvnaVZLibG99rkAnH0r0Sm1YAooopAFFFFABRRRQAUUUUAFFFFABRRRQAUUUUAFFFFABRRRQAUUUUAFFFFABRRRQAUUUUAFFFFABRRRQAUUUUAFFFQXsdzNZzQ2dwLed42WOXbu2NjhsHrj0oAnorx3xXN4h+GuseD2t/G2q6ze63qyafdWV24ZJ4mUl5I0A/d7MA8dq9iptWAKKKKQBRRRQAUUUUAFFFFABRRRQAUUUUAFFFFABRRRQAUUUUAFFFFABRRRQAUUUUAFFFFABRRRQAUUUUAFFFFABRRRQAUV518Rre30oX3iHXvilqGhW32fFjbQTpCquq8nGC0xJI4+grZ+FWr+JNe+Huiav4ttjBqt1bB7hSmwnk7WK9iVwce9O2lwOsooopAFFFFABRRRQAUUUUAFFFFABRRRQAUUUUAFFFFABRRRQAUUUUAFFFFABRRRQAUUUUAFFFFABRRRQAUUUUAFFFFABRWH408Xab4J8PXPiDVGJSFdsca/fmkPCoo7knArzb4I+IPHmqeMvFlj441KWSSNba6hsjjZZCVSfLX6DGffNO2lwPZaKKKQBRRRQAUUUUAFFFFABRRRQAUUUUAFeUNp3irwD408XarpHhW712w8VLDdQG0eMNb3ccfllZA7DCMAp3DOOeK9Xopp2A4/4T+ELzwP4FsND1KRHvy0t1eMhyvnSyM7geoBbH4V2FFFJu4BRRRQAUUUUAFFFFABRRRQAUUUUAFFFFABRRRQAUUUUAFFFFABRRRQAUUUUAFFFFABRRRQAUUUUAFFFFABRRRQAVi+LtSudO0Wc2uh6jqkk8bwrDYqjOCVIyd7qMfjW1RQB5d+z/ba/oXge18LeIvCuq6Vd2bSyM9ysXlvukJAUo7EnB7gV6jRRTbuAUUUUgCiiigAooooAKKKKACiiigAooooAKKKKACiiigAooooAKKKKACiiigAooooAKKKKACiiigAooooAKKKKACq2pXU9lp9zeWtjJeTQxM8dvGQGlYDIUE8Ak8c1ZooA8E8CxeMr7xrP8RPid8PfEkmsMTa6ZawRW72umW5P8JM2Sx6s2M170DkA4IzS0U27gFFFFIAooooAKKKKACiiigAooooAKKKKACiiigAooooAKKKKACiiigAooooAKKKKACiiigAooooAKKKKACiiigAooooA8/8WapqF1cahouufCe71yzC4sZ7cwTJKGUZ3+YymI59M8Yq78IPDviDwr4B0/RfE04e9iaV9gkMnkRtIzJFuPLbVIGfauzop30sAUUUUgCiiigAooooAKKKKACiiigAooooAKKKKACiiigAooooAKKKKACiiigAooooAKKKKACiiigAooooAKKKKACiiigDmfGnw90Hx4dPbW5L9G0yf7TbNaXbwFZMYDfL1x71xfw++G+q+HPip4p166udbewnjt1s5rrUGlW5wpDbwTlsdsjjtXrVFO7WgBRRRSAKKKKACiiigAooooAKKKKACiiigAooooAKKKKACiiigAooooAKKKKACiiigAooooAKKKKACiiigAooooAKKKKACiiigAooooAKKKKACiiigAooooAKKKKACiiigAooooAKKKKACiiigAooooAKKKKACiiigAooooAKKKKACiiigAooooAKKKKACiiigAooooAKKKKACiiigAooooAKKKKACiiigAooooAKKKKACiiigAooooAKKKKACiiigAooooAKKKKACiiigAooooAKKKKACiiigAooooAKKKKACiiigAooooAKKKKACiiigAooooAKKKKACiiigAooooAKKKKACiiigAooooAKKKKACiiigAooooAKKKKACiiigAooooAKKKKACiiigAooooAKKKKACiiigAooooAKKKKACiiigAooooA//9k=)"
      ]
    }
  ],
  "metadata": {
    "accelerator": "GPU",
    "colab": {
      "gpuType": "T4",
      "provenance": []
    },
    "kernelspec": {
      "display_name": "base",
      "language": "python",
      "name": "python3"
    },
    "language_info": {
      "codemirror_mode": {
        "name": "ipython",
        "version": 3
      },
      "file_extension": ".py",
      "mimetype": "text/x-python",
      "name": "python",
      "nbconvert_exporter": "python",
      "pygments_lexer": "ipython3",
      "version": "3.9.12"
    }
  },
  "nbformat": 4,
  "nbformat_minor": 0
}
